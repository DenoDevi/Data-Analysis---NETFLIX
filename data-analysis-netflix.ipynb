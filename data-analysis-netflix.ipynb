{
 "cells": [
  {
   "cell_type": "markdown",
   "id": "f4b0b6d3",
   "metadata": {
    "papermill": {
     "duration": 0.014673,
     "end_time": "2023-11-07T06:31:40.441563",
     "exception": false,
     "start_time": "2023-11-07T06:31:40.426890",
     "status": "completed"
    },
    "tags": []
   },
   "source": [
    "# **NETFLIX DATA ANALYSIS**"
In my recent project analyzing the Netflix dataset, I effectively utilized Python to perform data cleaning, exploration, and visualization. I employed Python's powerful libraries such as pandas and seaborn to wrangle and visualize the data, providing valuable insights into viewing trends and content distribution. I also demonstrated proficiency in using Python to create data-driven visualizations and presented the findings clearly. This project showcased my growing skills in Python for data analysis, setting a strong foundation for future endeavors in the field
   ]
  },
  {
   "cell_type": "markdown",
   "id": "c7400156",
   "metadata": {
    "papermill": {
     "duration": 0.012057,
     "end_time": "2023-11-07T06:31:40.466353",
     "exception": false,
     "start_time": "2023-11-07T06:31:40.454296",
     "status": "completed"
    },
    "tags": []
   },
   "source": [
    "### **Importing Libraries**"
   ]
  },
  {
   "cell_type": "code",
   "execution_count": 1,
   "id": "c75e4193",
   "metadata": {
    "execution": {
     "iopub.execute_input": "2023-11-07T06:31:40.494838Z",
     "iopub.status.busy": "2023-11-07T06:31:40.493741Z",
     "iopub.status.idle": "2023-11-07T06:31:41.811117Z",
     "shell.execute_reply": "2023-11-07T06:31:41.809742Z"
    },
    "papermill": {
     "duration": 1.336183,
     "end_time": "2023-11-07T06:31:41.815147",
     "exception": false,
     "start_time": "2023-11-07T06:31:40.478964",
     "status": "completed"
    },
    "tags": []
   },
   "outputs": [
    {
     "name": "stdout",
     "output_type": "stream",
     "text": [
      "/kaggle/input/netflix-data-cleaning-analysis-and-visualization/netflix1.csv\n"
     ]
    }
   ],
   "source": [
    "#importing  neccesary library and  data \n",
    "import pandas as pd \n",
    "import matplotlib.pyplot as plt\n",
    "import numpy as np\n",
    "import seaborn as sns\n",
    "%matplotlib inline\n",
    "import datetime as dt\n",
    "import os\n",
    "for dirname, _, filenames in os.walk('/kaggle/input'):\n",
    "    for filename in filenames:\n",
    "        print(os.path.join(dirname, filename))"
   ]
  },
  {
   "cell_type": "markdown",
   "id": "91b9e710",
   "metadata": {
    "papermill": {
     "duration": 0.013181,
     "end_time": "2023-11-07T06:31:41.841353",
     "exception": false,
     "start_time": "2023-11-07T06:31:41.828172",
     "status": "completed"
    },
    "tags": []
   },
   "source": [
    "### **Loading the Dataset**"
   ]
  },
  {
   "cell_type": "code",
   "execution_count": 2,
   "id": "aa24d9f2",
   "metadata": {
    "execution": {
     "iopub.execute_input": "2023-11-07T06:31:41.869382Z",
     "iopub.status.busy": "2023-11-07T06:31:41.868896Z",
     "iopub.status.idle": "2023-11-07T06:31:41.970202Z",
     "shell.execute_reply": "2023-11-07T06:31:41.968453Z"
    },
    "papermill": {
     "duration": 0.119205,
     "end_time": "2023-11-07T06:31:41.973654",
     "exception": false,
     "start_time": "2023-11-07T06:31:41.854449",
     "status": "completed"
    },
    "tags": []
   },
   "outputs": [
    {
     "data": {
      "text/html": [
       "<div>\n",
       "<style scoped>\n",
       "    .dataframe tbody tr th:only-of-type {\n",
       "        vertical-align: middle;\n",
       "    }\n",
       "\n",
       "    .dataframe tbody tr th {\n",
       "        vertical-align: top;\n",
       "    }\n",
       "\n",
       "    .dataframe thead th {\n",
       "        text-align: right;\n",
       "    }\n",
       "</style>\n",
       "<table border=\"1\" class=\"dataframe\">\n",
       "  <thead>\n",
       "    <tr style=\"text-align: right;\">\n",
       "      <th></th>\n",
       "      <th>show_id</th>\n",
       "      <th>type</th>\n",
       "      <th>title</th>\n",
       "      <th>director</th>\n",
       "      <th>country</th>\n",
       "      <th>date_added</th>\n",
       "      <th>release_year</th>\n",
       "      <th>rating</th>\n",
       "      <th>duration</th>\n",
       "      <th>listed_in</th>\n",
       "    </tr>\n",
       "  </thead>\n",
       "  <tbody>\n",
       "    <tr>\n",
       "      <th>0</th>\n",
       "      <td>s1</td>\n",
       "      <td>Movie</td>\n",
       "      <td>Dick Johnson Is Dead</td>\n",
       "      <td>Kirsten Johnson</td>\n",
       "      <td>United States</td>\n",
       "      <td>9/25/2021</td>\n",
       "      <td>2020</td>\n",
       "      <td>PG-13</td>\n",
       "      <td>90 min</td>\n",
       "      <td>Documentaries</td>\n",
       "    </tr>\n",
       "    <tr>\n",
       "      <th>1</th>\n",
       "      <td>s3</td>\n",
       "      <td>TV Show</td>\n",
       "      <td>Ganglands</td>\n",
       "      <td>Julien Leclercq</td>\n",
       "      <td>France</td>\n",
       "      <td>9/24/2021</td>\n",
       "      <td>2021</td>\n",
       "      <td>TV-MA</td>\n",
       "      <td>1 Season</td>\n",
       "      <td>Crime TV Shows, International TV Shows, TV Act...</td>\n",
       "    </tr>\n",
       "    <tr>\n",
       "      <th>2</th>\n",
       "      <td>s6</td>\n",
       "      <td>TV Show</td>\n",
       "      <td>Midnight Mass</td>\n",
       "      <td>Mike Flanagan</td>\n",
       "      <td>United States</td>\n",
       "      <td>9/24/2021</td>\n",
       "      <td>2021</td>\n",
       "      <td>TV-MA</td>\n",
       "      <td>1 Season</td>\n",
       "      <td>TV Dramas, TV Horror, TV Mysteries</td>\n",
       "    </tr>\n",
       "    <tr>\n",
       "      <th>3</th>\n",
       "      <td>s14</td>\n",
       "      <td>Movie</td>\n",
       "      <td>Confessions of an Invisible Girl</td>\n",
       "      <td>Bruno Garotti</td>\n",
       "      <td>Brazil</td>\n",
       "      <td>9/22/2021</td>\n",
       "      <td>2021</td>\n",
       "      <td>TV-PG</td>\n",
       "      <td>91 min</td>\n",
       "      <td>Children &amp; Family Movies, Comedies</td>\n",
       "    </tr>\n",
       "    <tr>\n",
       "      <th>4</th>\n",
       "      <td>s8</td>\n",
       "      <td>Movie</td>\n",
       "      <td>Sankofa</td>\n",
       "      <td>Haile Gerima</td>\n",
       "      <td>United States</td>\n",
       "      <td>9/24/2021</td>\n",
       "      <td>1993</td>\n",
       "      <td>TV-MA</td>\n",
       "      <td>125 min</td>\n",
       "      <td>Dramas, Independent Movies, International Movies</td>\n",
       "    </tr>\n",
       "    <tr>\n",
       "      <th>...</th>\n",
       "      <td>...</td>\n",
       "      <td>...</td>\n",
       "      <td>...</td>\n",
       "      <td>...</td>\n",
       "      <td>...</td>\n",
       "      <td>...</td>\n",
       "      <td>...</td>\n",
       "      <td>...</td>\n",
       "      <td>...</td>\n",
       "      <td>...</td>\n",
       "    </tr>\n",
       "    <tr>\n",
       "      <th>8785</th>\n",
       "      <td>s8797</td>\n",
       "      <td>TV Show</td>\n",
       "      <td>Yunus Emre</td>\n",
       "      <td>Not Given</td>\n",
       "      <td>Turkey</td>\n",
       "      <td>1/17/2017</td>\n",
       "      <td>2016</td>\n",
       "      <td>TV-PG</td>\n",
       "      <td>2 Seasons</td>\n",
       "      <td>International TV Shows, TV Dramas</td>\n",
       "    </tr>\n",
       "    <tr>\n",
       "      <th>8786</th>\n",
       "      <td>s8798</td>\n",
       "      <td>TV Show</td>\n",
       "      <td>Zak Storm</td>\n",
       "      <td>Not Given</td>\n",
       "      <td>United States</td>\n",
       "      <td>9/13/2018</td>\n",
       "      <td>2016</td>\n",
       "      <td>TV-Y7</td>\n",
       "      <td>3 Seasons</td>\n",
       "      <td>Kids' TV</td>\n",
       "    </tr>\n",
       "    <tr>\n",
       "      <th>8787</th>\n",
       "      <td>s8801</td>\n",
       "      <td>TV Show</td>\n",
       "      <td>Zindagi Gulzar Hai</td>\n",
       "      <td>Not Given</td>\n",
       "      <td>Pakistan</td>\n",
       "      <td>12/15/2016</td>\n",
       "      <td>2012</td>\n",
       "      <td>TV-PG</td>\n",
       "      <td>1 Season</td>\n",
       "      <td>International TV Shows, Romantic TV Shows, TV ...</td>\n",
       "    </tr>\n",
       "    <tr>\n",
       "      <th>8788</th>\n",
       "      <td>s8784</td>\n",
       "      <td>TV Show</td>\n",
       "      <td>Yoko</td>\n",
       "      <td>Not Given</td>\n",
       "      <td>Pakistan</td>\n",
       "      <td>6/23/2018</td>\n",
       "      <td>2016</td>\n",
       "      <td>TV-Y</td>\n",
       "      <td>1 Season</td>\n",
       "      <td>Kids' TV</td>\n",
       "    </tr>\n",
       "    <tr>\n",
       "      <th>8789</th>\n",
       "      <td>s8786</td>\n",
       "      <td>TV Show</td>\n",
       "      <td>YOM</td>\n",
       "      <td>Not Given</td>\n",
       "      <td>Pakistan</td>\n",
       "      <td>6/7/2018</td>\n",
       "      <td>2016</td>\n",
       "      <td>TV-Y7</td>\n",
       "      <td>1 Season</td>\n",
       "      <td>Kids' TV</td>\n",
       "    </tr>\n",
       "  </tbody>\n",
       "</table>\n",
       "<p>8790 rows × 10 columns</p>\n",
       "</div>"
      ],
      "text/plain": [
       "     show_id     type                             title         director  \\\n",
       "0         s1    Movie              Dick Johnson Is Dead  Kirsten Johnson   \n",
       "1         s3  TV Show                         Ganglands  Julien Leclercq   \n",
       "2         s6  TV Show                     Midnight Mass    Mike Flanagan   \n",
       "3        s14    Movie  Confessions of an Invisible Girl    Bruno Garotti   \n",
       "4         s8    Movie                           Sankofa     Haile Gerima   \n",
       "...      ...      ...                               ...              ...   \n",
       "8785   s8797  TV Show                        Yunus Emre        Not Given   \n",
       "8786   s8798  TV Show                         Zak Storm        Not Given   \n",
       "8787   s8801  TV Show                Zindagi Gulzar Hai        Not Given   \n",
       "8788   s8784  TV Show                              Yoko        Not Given   \n",
       "8789   s8786  TV Show                               YOM        Not Given   \n",
       "\n",
       "            country  date_added  release_year rating   duration  \\\n",
       "0     United States   9/25/2021          2020  PG-13     90 min   \n",
       "1            France   9/24/2021          2021  TV-MA   1 Season   \n",
       "2     United States   9/24/2021          2021  TV-MA   1 Season   \n",
       "3            Brazil   9/22/2021          2021  TV-PG     91 min   \n",
       "4     United States   9/24/2021          1993  TV-MA    125 min   \n",
       "...             ...         ...           ...    ...        ...   \n",
       "8785         Turkey   1/17/2017          2016  TV-PG  2 Seasons   \n",
       "8786  United States   9/13/2018          2016  TV-Y7  3 Seasons   \n",
       "8787       Pakistan  12/15/2016          2012  TV-PG   1 Season   \n",
       "8788       Pakistan   6/23/2018          2016   TV-Y   1 Season   \n",
       "8789       Pakistan    6/7/2018          2016  TV-Y7   1 Season   \n",
       "\n",
       "                                              listed_in  \n",
       "0                                         Documentaries  \n",
       "1     Crime TV Shows, International TV Shows, TV Act...  \n",
       "2                    TV Dramas, TV Horror, TV Mysteries  \n",
       "3                    Children & Family Movies, Comedies  \n",
       "4      Dramas, Independent Movies, International Movies  \n",
       "...                                                 ...  \n",
       "8785                  International TV Shows, TV Dramas  \n",
       "8786                                           Kids' TV  \n",
       "8787  International TV Shows, Romantic TV Shows, TV ...  \n",
       "8788                                           Kids' TV  \n",
       "8789                                           Kids' TV  \n",
       "\n",
       "[8790 rows x 10 columns]"
      ]
     },
     "execution_count": 2,
     "metadata": {},
     "output_type": "execute_result"
    }
   ],
   "source": [
    "#importing dataset\n",
    "netflix = pd.read_csv('../input/netflix-data-cleaning-analysis-and-visualization/netflix1.csv')\n",
    "netflix"
   ]
  },
  {
   "cell_type": "markdown",
   "id": "ad55e3db",
   "metadata": {
    "papermill": {
     "duration": 0.01309,
     "end_time": "2023-11-07T06:31:42.000284",
     "exception": false,
     "start_time": "2023-11-07T06:31:41.987194",
     "status": "completed"
    },
    "tags": []
   },
   "source": [
    "### **Shape of the Dataset**"
   ]
  },
  {
   "cell_type": "code",
   "execution_count": 3,
   "id": "d9874cbc",
   "metadata": {
    "execution": {
     "iopub.execute_input": "2023-11-07T06:31:42.028786Z",
     "iopub.status.busy": "2023-11-07T06:31:42.028249Z",
     "iopub.status.idle": "2023-11-07T06:31:42.036502Z",
     "shell.execute_reply": "2023-11-07T06:31:42.035194Z"
    },
    "papermill": {
     "duration": 0.025759,
     "end_time": "2023-11-07T06:31:42.039290",
     "exception": false,
     "start_time": "2023-11-07T06:31:42.013531",
     "status": "completed"
    },
    "tags": []
   },
   "outputs": [
    {
     "data": {
      "text/plain": [
       "(8790, 10)"
      ]
     },
     "execution_count": 3,
     "metadata": {},
     "output_type": "execute_result"
    }
   ],
   "source": [
    "netflix.shape"
   ]
  },
  {
   "cell_type": "code",
   "execution_count": 4,
   "id": "d040ab37",
   "metadata": {
    "execution": {
     "iopub.execute_input": "2023-11-07T06:31:42.069882Z",
     "iopub.status.busy": "2023-11-07T06:31:42.069411Z",
     "iopub.status.idle": "2023-11-07T06:31:42.107725Z",
     "shell.execute_reply": "2023-11-07T06:31:42.105855Z"
    },
    "papermill": {
     "duration": 0.056358,
     "end_time": "2023-11-07T06:31:42.110686",
     "exception": false,
     "start_time": "2023-11-07T06:31:42.054328",
     "status": "completed"
    },
    "tags": []
   },
   "outputs": [
    {
     "name": "stdout",
     "output_type": "stream",
     "text": [
      "<class 'pandas.core.frame.DataFrame'>\n",
      "RangeIndex: 8790 entries, 0 to 8789\n",
      "Data columns (total 10 columns):\n",
      " #   Column        Non-Null Count  Dtype \n",
      "---  ------        --------------  ----- \n",
      " 0   show_id       8790 non-null   object\n",
      " 1   type          8790 non-null   object\n",
      " 2   title         8790 non-null   object\n",
      " 3   director      8790 non-null   object\n",
      " 4   country       8790 non-null   object\n",
      " 5   date_added    8790 non-null   object\n",
      " 6   release_year  8790 non-null   int64 \n",
      " 7   rating        8790 non-null   object\n",
      " 8   duration      8790 non-null   object\n",
      " 9   listed_in     8790 non-null   object\n",
      "dtypes: int64(1), object(9)\n",
      "memory usage: 686.8+ KB\n"
     ]
    }
   ],
   "source": [
    "netflix.info()"
   ]
  },
  {
   "cell_type": "markdown",
   "id": "fbcfbb04",
   "metadata": {
    "papermill": {
     "duration": 0.013644,
     "end_time": "2023-11-07T06:31:42.139432",
     "exception": false,
     "start_time": "2023-11-07T06:31:42.125788",
     "status": "completed"
    },
    "tags": []
   },
   "source": [
    "### **Check for NULL Values**"
   ]
  },
  {
   "cell_type": "code",
   "execution_count": 5,
   "id": "44d81f5b",
   "metadata": {
    "execution": {
     "iopub.execute_input": "2023-11-07T06:31:42.169464Z",
     "iopub.status.busy": "2023-11-07T06:31:42.168953Z",
     "iopub.status.idle": "2023-11-07T06:31:42.190636Z",
     "shell.execute_reply": "2023-11-07T06:31:42.189296Z"
    },
    "papermill": {
     "duration": 0.039965,
     "end_time": "2023-11-07T06:31:42.193441",
     "exception": false,
     "start_time": "2023-11-07T06:31:42.153476",
     "status": "completed"
    },
    "tags": []
   },
   "outputs": [
    {
     "data": {
      "text/plain": [
       "show_id         0\n",
       "type            0\n",
       "title           0\n",
       "director        0\n",
       "country         0\n",
       "date_added      0\n",
       "release_year    0\n",
       "rating          0\n",
       "duration        0\n",
       "listed_in       0\n",
       "dtype: int64"
      ]
     },
     "execution_count": 5,
     "metadata": {},
     "output_type": "execute_result"
    }
   ],
   "source": [
    "netflix.isnull().sum()"
   ]
  },
  {
   "cell_type": "markdown",
   "id": "7234b719",
   "metadata": {
    "papermill": {
     "duration": 0.013662,
     "end_time": "2023-11-07T06:31:42.220787",
     "exception": false,
     "start_time": "2023-11-07T06:31:42.207125",
     "status": "completed"
    },
    "tags": []
   },
   "source": [
    "### **Handling Duplicate values**"
   ]
  },
  {
   "cell_type": "code",
   "execution_count": 6,
   "id": "bae62389",
   "metadata": {
    "execution": {
     "iopub.execute_input": "2023-11-07T06:31:42.250393Z",
     "iopub.status.busy": "2023-11-07T06:31:42.249828Z",
     "iopub.status.idle": "2023-11-07T06:31:42.275996Z",
     "shell.execute_reply": "2023-11-07T06:31:42.274694Z"
    },
    "papermill": {
     "duration": 0.044231,
     "end_time": "2023-11-07T06:31:42.278798",
     "exception": false,
     "start_time": "2023-11-07T06:31:42.234567",
     "status": "completed"
    },
    "tags": []
   },
   "outputs": [
    {
     "data": {
      "text/html": [
       "<div>\n",
       "<style scoped>\n",
       "    .dataframe tbody tr th:only-of-type {\n",
       "        vertical-align: middle;\n",
       "    }\n",
       "\n",
       "    .dataframe tbody tr th {\n",
       "        vertical-align: top;\n",
       "    }\n",
       "\n",
       "    .dataframe thead th {\n",
       "        text-align: right;\n",
       "    }\n",
       "</style>\n",
       "<table border=\"1\" class=\"dataframe\">\n",
       "  <thead>\n",
       "    <tr style=\"text-align: right;\">\n",
       "      <th></th>\n",
       "      <th>show_id</th>\n",
       "      <th>type</th>\n",
       "      <th>title</th>\n",
       "      <th>director</th>\n",
       "      <th>country</th>\n",
       "      <th>date_added</th>\n",
       "      <th>release_year</th>\n",
       "      <th>rating</th>\n",
       "      <th>duration</th>\n",
       "      <th>listed_in</th>\n",
       "    </tr>\n",
       "  </thead>\n",
       "  <tbody>\n",
       "    <tr>\n",
       "      <th>0</th>\n",
       "      <td>s1</td>\n",
       "      <td>Movie</td>\n",
       "      <td>Dick Johnson Is Dead</td>\n",
       "      <td>Kirsten Johnson</td>\n",
       "      <td>United States</td>\n",
       "      <td>9/25/2021</td>\n",
       "      <td>2020</td>\n",
       "      <td>PG-13</td>\n",
       "      <td>90 min</td>\n",
       "      <td>Documentaries</td>\n",
       "    </tr>\n",
       "    <tr>\n",
       "      <th>1</th>\n",
       "      <td>s3</td>\n",
       "      <td>TV Show</td>\n",
       "      <td>Ganglands</td>\n",
       "      <td>Julien Leclercq</td>\n",
       "      <td>France</td>\n",
       "      <td>9/24/2021</td>\n",
       "      <td>2021</td>\n",
       "      <td>TV-MA</td>\n",
       "      <td>1 Season</td>\n",
       "      <td>Crime TV Shows, International TV Shows, TV Act...</td>\n",
       "    </tr>\n",
       "    <tr>\n",
       "      <th>2</th>\n",
       "      <td>s6</td>\n",
       "      <td>TV Show</td>\n",
       "      <td>Midnight Mass</td>\n",
       "      <td>Mike Flanagan</td>\n",
       "      <td>United States</td>\n",
       "      <td>9/24/2021</td>\n",
       "      <td>2021</td>\n",
       "      <td>TV-MA</td>\n",
       "      <td>1 Season</td>\n",
       "      <td>TV Dramas, TV Horror, TV Mysteries</td>\n",
       "    </tr>\n",
       "    <tr>\n",
       "      <th>3</th>\n",
       "      <td>s14</td>\n",
       "      <td>Movie</td>\n",
       "      <td>Confessions of an Invisible Girl</td>\n",
       "      <td>Bruno Garotti</td>\n",
       "      <td>Brazil</td>\n",
       "      <td>9/22/2021</td>\n",
       "      <td>2021</td>\n",
       "      <td>TV-PG</td>\n",
       "      <td>91 min</td>\n",
       "      <td>Children &amp; Family Movies, Comedies</td>\n",
       "    </tr>\n",
       "    <tr>\n",
       "      <th>4</th>\n",
       "      <td>s8</td>\n",
       "      <td>Movie</td>\n",
       "      <td>Sankofa</td>\n",
       "      <td>Haile Gerima</td>\n",
       "      <td>United States</td>\n",
       "      <td>9/24/2021</td>\n",
       "      <td>1993</td>\n",
       "      <td>TV-MA</td>\n",
       "      <td>125 min</td>\n",
       "      <td>Dramas, Independent Movies, International Movies</td>\n",
       "    </tr>\n",
       "  </tbody>\n",
       "</table>\n",
       "</div>"
      ],
      "text/plain": [
       "  show_id     type                             title         director  \\\n",
       "0      s1    Movie              Dick Johnson Is Dead  Kirsten Johnson   \n",
       "1      s3  TV Show                         Ganglands  Julien Leclercq   \n",
       "2      s6  TV Show                     Midnight Mass    Mike Flanagan   \n",
       "3     s14    Movie  Confessions of an Invisible Girl    Bruno Garotti   \n",
       "4      s8    Movie                           Sankofa     Haile Gerima   \n",
       "\n",
       "         country date_added  release_year rating  duration  \\\n",
       "0  United States  9/25/2021          2020  PG-13    90 min   \n",
       "1         France  9/24/2021          2021  TV-MA  1 Season   \n",
       "2  United States  9/24/2021          2021  TV-MA  1 Season   \n",
       "3         Brazil  9/22/2021          2021  TV-PG    91 min   \n",
       "4  United States  9/24/2021          1993  TV-MA   125 min   \n",
       "\n",
       "                                           listed_in  \n",
       "0                                      Documentaries  \n",
       "1  Crime TV Shows, International TV Shows, TV Act...  \n",
       "2                 TV Dramas, TV Horror, TV Mysteries  \n",
       "3                 Children & Family Movies, Comedies  \n",
       "4   Dramas, Independent Movies, International Movies  "
      ]
     },
     "execution_count": 6,
     "metadata": {},
     "output_type": "execute_result"
    }
   ],
   "source": [
    "# dropped ALL duplicate values\n",
    "netflix.drop_duplicates(subset =\"show_id\",keep = False, inplace = True)\n",
    "netflix.head()"
   ]
  },
  {
   "cell_type": "code",
   "execution_count": 7,
   "id": "4e159d58",
   "metadata": {
    "execution": {
     "iopub.execute_input": "2023-11-07T06:31:42.310120Z",
     "iopub.status.busy": "2023-11-07T06:31:42.309591Z",
     "iopub.status.idle": "2023-11-07T06:31:42.487110Z",
     "shell.execute_reply": "2023-11-07T06:31:42.485771Z"
    },
    "papermill": {
     "duration": 0.197002,
     "end_time": "2023-11-07T06:31:42.489957",
     "exception": false,
     "start_time": "2023-11-07T06:31:42.292955",
     "status": "completed"
    },
    "tags": []
   },
   "outputs": [
    {
     "data": {
      "text/html": [
       "<div>\n",
       "<style scoped>\n",
       "    .dataframe tbody tr th:only-of-type {\n",
       "        vertical-align: middle;\n",
       "    }\n",
       "\n",
       "    .dataframe tbody tr th {\n",
       "        vertical-align: top;\n",
       "    }\n",
       "\n",
       "    .dataframe thead th {\n",
       "        text-align: right;\n",
       "    }\n",
       "</style>\n",
       "<table border=\"1\" class=\"dataframe\">\n",
       "  <thead>\n",
       "    <tr style=\"text-align: right;\">\n",
       "      <th></th>\n",
       "      <th>show_id</th>\n",
       "      <th>type</th>\n",
       "      <th>title</th>\n",
       "      <th>director</th>\n",
       "      <th>country</th>\n",
       "      <th>date_added</th>\n",
       "      <th>release_year</th>\n",
       "      <th>rating</th>\n",
       "      <th>duration</th>\n",
       "      <th>listed_in</th>\n",
       "      <th>month_added</th>\n",
       "      <th>year_added</th>\n",
       "      <th>day_added</th>\n",
       "    </tr>\n",
       "  </thead>\n",
       "  <tbody>\n",
       "    <tr>\n",
       "      <th>0</th>\n",
       "      <td>s1</td>\n",
       "      <td>Movie</td>\n",
       "      <td>Dick Johnson Is Dead</td>\n",
       "      <td>Kirsten Johnson</td>\n",
       "      <td>United States</td>\n",
       "      <td>2021-09-25</td>\n",
       "      <td>2020</td>\n",
       "      <td>PG-13</td>\n",
       "      <td>90 min</td>\n",
       "      <td>Documentaries</td>\n",
       "      <td>September</td>\n",
       "      <td>2021</td>\n",
       "      <td>Saturday</td>\n",
       "    </tr>\n",
       "    <tr>\n",
       "      <th>1</th>\n",
       "      <td>s3</td>\n",
       "      <td>TV Show</td>\n",
       "      <td>Ganglands</td>\n",
       "      <td>Julien Leclercq</td>\n",
       "      <td>France</td>\n",
       "      <td>2021-09-24</td>\n",
       "      <td>2021</td>\n",
       "      <td>TV-MA</td>\n",
       "      <td>1 Season</td>\n",
       "      <td>Crime TV Shows, International TV Shows, TV Act...</td>\n",
       "      <td>September</td>\n",
       "      <td>2021</td>\n",
       "      <td>Friday</td>\n",
       "    </tr>\n",
       "    <tr>\n",
       "      <th>2</th>\n",
       "      <td>s6</td>\n",
       "      <td>TV Show</td>\n",
       "      <td>Midnight Mass</td>\n",
       "      <td>Mike Flanagan</td>\n",
       "      <td>United States</td>\n",
       "      <td>2021-09-24</td>\n",
       "      <td>2021</td>\n",
       "      <td>TV-MA</td>\n",
       "      <td>1 Season</td>\n",
       "      <td>TV Dramas, TV Horror, TV Mysteries</td>\n",
       "      <td>September</td>\n",
       "      <td>2021</td>\n",
       "      <td>Friday</td>\n",
       "    </tr>\n",
       "    <tr>\n",
       "      <th>3</th>\n",
       "      <td>s14</td>\n",
       "      <td>Movie</td>\n",
       "      <td>Confessions of an Invisible Girl</td>\n",
       "      <td>Bruno Garotti</td>\n",
       "      <td>Brazil</td>\n",
       "      <td>2021-09-22</td>\n",
       "      <td>2021</td>\n",
       "      <td>TV-PG</td>\n",
       "      <td>91 min</td>\n",
       "      <td>Children &amp; Family Movies, Comedies</td>\n",
       "      <td>September</td>\n",
       "      <td>2021</td>\n",
       "      <td>Wednesday</td>\n",
       "    </tr>\n",
       "    <tr>\n",
       "      <th>4</th>\n",
       "      <td>s8</td>\n",
       "      <td>Movie</td>\n",
       "      <td>Sankofa</td>\n",
       "      <td>Haile Gerima</td>\n",
       "      <td>United States</td>\n",
       "      <td>2021-09-24</td>\n",
       "      <td>1993</td>\n",
       "      <td>TV-MA</td>\n",
       "      <td>125 min</td>\n",
       "      <td>Dramas, Independent Movies, International Movies</td>\n",
       "      <td>September</td>\n",
       "      <td>2021</td>\n",
       "      <td>Friday</td>\n",
       "    </tr>\n",
       "  </tbody>\n",
       "</table>\n",
       "</div>"
      ],
      "text/plain": [
       "  show_id     type                             title         director  \\\n",
       "0      s1    Movie              Dick Johnson Is Dead  Kirsten Johnson   \n",
       "1      s3  TV Show                         Ganglands  Julien Leclercq   \n",
       "2      s6  TV Show                     Midnight Mass    Mike Flanagan   \n",
       "3     s14    Movie  Confessions of an Invisible Girl    Bruno Garotti   \n",
       "4      s8    Movie                           Sankofa     Haile Gerima   \n",
       "\n",
       "         country date_added  release_year rating  duration  \\\n",
       "0  United States 2021-09-25          2020  PG-13    90 min   \n",
       "1         France 2021-09-24          2021  TV-MA  1 Season   \n",
       "2  United States 2021-09-24          2021  TV-MA  1 Season   \n",
       "3         Brazil 2021-09-22          2021  TV-PG    91 min   \n",
       "4  United States 2021-09-24          1993  TV-MA   125 min   \n",
       "\n",
       "                                           listed_in month_added  year_added  \\\n",
       "0                                      Documentaries   September        2021   \n",
       "1  Crime TV Shows, International TV Shows, TV Act...   September        2021   \n",
       "2                 TV Dramas, TV Horror, TV Mysteries   September        2021   \n",
       "3                 Children & Family Movies, Comedies   September        2021   \n",
       "4   Dramas, Independent Movies, International Movies   September        2021   \n",
       "\n",
       "   day_added  \n",
       "0   Saturday  \n",
       "1     Friday  \n",
       "2     Friday  \n",
       "3  Wednesday  \n",
       "4     Friday  "
      ]
     },
     "execution_count": 7,
     "metadata": {},
     "output_type": "execute_result"
    }
   ],
   "source": [
    "# Convert date type format\n",
    "netflix[\"date_added\"] = pd.to_datetime(netflix['date_added'])\n",
    "netflix['month_added'] = netflix['date_added'].dt.month_name()\n",
    "netflix['year_added'] = netflix['date_added'].dt.year\n",
    "netflix['day_added']=netflix['date_added'].dt.day_name()\n",
    "netflix.head()"
   ]
  },
  {
   "cell_type": "markdown",
   "id": "ced0aa13",
   "metadata": {
    "papermill": {
     "duration": 0.013739,
     "end_time": "2023-11-07T06:31:42.518121",
     "exception": false,
     "start_time": "2023-11-07T06:31:42.504382",
     "status": "completed"
    },
    "tags": []
   },
   "source": [
    "### **Content type on Netflix**"
   ]
  },
  {
   "cell_type": "code",
   "execution_count": 8,
   "id": "91c71c2e",
   "metadata": {
    "_kg_hide-output": true,
    "execution": {
     "iopub.execute_input": "2023-11-07T06:31:42.548778Z",
     "iopub.status.busy": "2023-11-07T06:31:42.548240Z",
     "iopub.status.idle": "2023-11-07T06:31:42.559988Z",
     "shell.execute_reply": "2023-11-07T06:31:42.558436Z"
    },
    "papermill": {
     "duration": 0.030155,
     "end_time": "2023-11-07T06:31:42.562708",
     "exception": false,
     "start_time": "2023-11-07T06:31:42.532553",
     "status": "completed"
    },
    "tags": []
   },
   "outputs": [
    {
     "data": {
      "text/plain": [
       "Movie      6126\n",
       "TV Show    2664\n",
       "Name: type, dtype: int64"
      ]
     },
     "execution_count": 8,
     "metadata": {},
     "output_type": "execute_result"
    }
   ],
   "source": [
    "#types of show on netflix\n",
    "types =netflix['type'].value_counts()\n",
    "types"
   ]
  },
  {
   "cell_type": "code",
   "execution_count": 9,
   "id": "ac1d25fa",
   "metadata": {
    "execution": {
     "iopub.execute_input": "2023-11-07T06:31:42.593986Z",
     "iopub.status.busy": "2023-11-07T06:31:42.593491Z",
     "iopub.status.idle": "2023-11-07T06:31:42.860079Z",
     "shell.execute_reply": "2023-11-07T06:31:42.858274Z"
    },
    "papermill": {
     "duration": 0.287986,
     "end_time": "2023-11-07T06:31:42.865461",
     "exception": false,
     "start_time": "2023-11-07T06:31:42.577475",
     "status": "completed"
    },
    "tags": []
   },
   "outputs": [
    {
     "data": {
      "text/plain": [
       "Text(0.5, 1.0, 'types_of_show')"
      ]
     },
     "execution_count": 9,
     "metadata": {},
     "output_type": "execute_result"
    },
    {
     "data": {
      "image/png": "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\n",
      "text/plain": [
       "<Figure size 360x432 with 1 Axes>"
      ]
     },
     "metadata": {},
     "output_type": "display_data"
    }
   ],
   "source": [
    "# percentage of types of show\n",
    "types.plot.pie(y='count',autopct='%.1f%%',legend= 'type' , figsize=(5,6))\n",
    "plt.title('types_of_show', fontsize=22)"
   ]
  },
  {
   "cell_type": "markdown",
   "id": "9ad2ecf1",
   "metadata": {
    "papermill": {
     "duration": 0.026995,
     "end_time": "2023-11-07T06:31:42.925301",
     "exception": false,
     "start_time": "2023-11-07T06:31:42.898306",
     "status": "completed"
    },
    "tags": []
   },
   "source": [
    "### **Directors**"
   ]
  },
  {
   "cell_type": "code",
   "execution_count": 10,
   "id": "6d0281fe",
   "metadata": {
    "execution": {
     "iopub.execute_input": "2023-11-07T06:31:42.959473Z",
     "iopub.status.busy": "2023-11-07T06:31:42.958280Z",
     "iopub.status.idle": "2023-11-07T06:31:42.989937Z",
     "shell.execute_reply": "2023-11-07T06:31:42.988662Z"
    },
    "papermill": {
     "duration": 0.051836,
     "end_time": "2023-11-07T06:31:42.992831",
     "exception": false,
     "start_time": "2023-11-07T06:31:42.940995",
     "status": "completed"
    },
    "tags": []
   },
   "outputs": [
    {
     "data": {
      "text/html": [
       "<div>\n",
       "<style scoped>\n",
       "    .dataframe tbody tr th:only-of-type {\n",
       "        vertical-align: middle;\n",
       "    }\n",
       "\n",
       "    .dataframe tbody tr th {\n",
       "        vertical-align: top;\n",
       "    }\n",
       "\n",
       "    .dataframe thead th {\n",
       "        text-align: right;\n",
       "    }\n",
       "</style>\n",
       "<table border=\"1\" class=\"dataframe\">\n",
       "  <thead>\n",
       "    <tr style=\"text-align: right;\">\n",
       "      <th></th>\n",
       "      <th>director</th>\n",
       "      <th>type</th>\n",
       "      <th>show_count</th>\n",
       "    </tr>\n",
       "  </thead>\n",
       "  <tbody>\n",
       "    <tr>\n",
       "      <th>0</th>\n",
       "      <td>A. L. Vijay</td>\n",
       "      <td>Movie</td>\n",
       "      <td>2</td>\n",
       "    </tr>\n",
       "    <tr>\n",
       "      <th>1</th>\n",
       "      <td>A. Raajdheep</td>\n",
       "      <td>Movie</td>\n",
       "      <td>1</td>\n",
       "    </tr>\n",
       "    <tr>\n",
       "      <th>2</th>\n",
       "      <td>A. Salaam</td>\n",
       "      <td>Movie</td>\n",
       "      <td>1</td>\n",
       "    </tr>\n",
       "    <tr>\n",
       "      <th>3</th>\n",
       "      <td>A.R. Murugadoss</td>\n",
       "      <td>Movie</td>\n",
       "      <td>2</td>\n",
       "    </tr>\n",
       "    <tr>\n",
       "      <th>4</th>\n",
       "      <td>Aadish Keluskar</td>\n",
       "      <td>Movie</td>\n",
       "      <td>1</td>\n",
       "    </tr>\n",
       "    <tr>\n",
       "      <th>...</th>\n",
       "      <td>...</td>\n",
       "      <td>...</td>\n",
       "      <td>...</td>\n",
       "    </tr>\n",
       "    <tr>\n",
       "      <th>4576</th>\n",
       "      <td>Çagan Irmak</td>\n",
       "      <td>Movie</td>\n",
       "      <td>1</td>\n",
       "    </tr>\n",
       "    <tr>\n",
       "      <th>4577</th>\n",
       "      <td>Ísold Uggadóttir</td>\n",
       "      <td>Movie</td>\n",
       "      <td>1</td>\n",
       "    </tr>\n",
       "    <tr>\n",
       "      <th>4578</th>\n",
       "      <td>Óskar Thór Axelsson</td>\n",
       "      <td>Movie</td>\n",
       "      <td>1</td>\n",
       "    </tr>\n",
       "    <tr>\n",
       "      <th>4579</th>\n",
       "      <td>Ömer Faruk Sorak</td>\n",
       "      <td>Movie</td>\n",
       "      <td>2</td>\n",
       "    </tr>\n",
       "    <tr>\n",
       "      <th>4580</th>\n",
       "      <td>Şenol Sönmez</td>\n",
       "      <td>Movie</td>\n",
       "      <td>2</td>\n",
       "    </tr>\n",
       "  </tbody>\n",
       "</table>\n",
       "<p>4581 rows × 3 columns</p>\n",
       "</div>"
      ],
      "text/plain": [
       "                 director   type  show_count\n",
       "0             A. L. Vijay  Movie           2\n",
       "1            A. Raajdheep  Movie           1\n",
       "2               A. Salaam  Movie           1\n",
       "3         A.R. Murugadoss  Movie           2\n",
       "4         Aadish Keluskar  Movie           1\n",
       "...                   ...    ...         ...\n",
       "4576          Çagan Irmak  Movie           1\n",
       "4577     Ísold Uggadóttir  Movie           1\n",
       "4578  Óskar Thór Axelsson  Movie           1\n",
       "4579     Ömer Faruk Sorak  Movie           2\n",
       "4580         Şenol Sönmez  Movie           2\n",
       "\n",
       "[4581 rows x 3 columns]"
      ]
     },
     "execution_count": 10,
     "metadata": {},
     "output_type": "execute_result"
    }
   ],
   "source": [
    "#grouped by directors of show and type\n",
    "show_director= netflix.groupby(['director', 'type'])['director'].count().reset_index(name='show_count')\n",
    "show_director"
   ]
  },
  {
   "cell_type": "code",
   "execution_count": 11,
   "id": "8627bea0",
   "metadata": {
    "execution": {
     "iopub.execute_input": "2023-11-07T06:31:43.028006Z",
     "iopub.status.busy": "2023-11-07T06:31:43.026959Z",
     "iopub.status.idle": "2023-11-07T06:31:43.047300Z",
     "shell.execute_reply": "2023-11-07T06:31:43.046011Z"
    },
    "papermill": {
     "duration": 0.041374,
     "end_time": "2023-11-07T06:31:43.050165",
     "exception": false,
     "start_time": "2023-11-07T06:31:43.008791",
     "status": "completed"
    },
    "tags": []
   },
   "outputs": [
    {
     "data": {
      "text/html": [
       "<div>\n",
       "<style scoped>\n",
       "    .dataframe tbody tr th:only-of-type {\n",
       "        vertical-align: middle;\n",
       "    }\n",
       "\n",
       "    .dataframe tbody tr th {\n",
       "        vertical-align: top;\n",
       "    }\n",
       "\n",
       "    .dataframe thead th {\n",
       "        text-align: right;\n",
       "    }\n",
       "</style>\n",
       "<table border=\"1\" class=\"dataframe\">\n",
       "  <thead>\n",
       "    <tr style=\"text-align: right;\">\n",
       "      <th></th>\n",
       "      <th>director</th>\n",
       "      <th>type</th>\n",
       "      <th>show_count</th>\n",
       "    </tr>\n",
       "  </thead>\n",
       "  <tbody>\n",
       "    <tr>\n",
       "      <th>127</th>\n",
       "      <td>Alastair Fothergill</td>\n",
       "      <td>TV Show</td>\n",
       "      <td>14</td>\n",
       "    </tr>\n",
       "    <tr>\n",
       "      <th>690</th>\n",
       "      <td>Cathy Garcia-Molina</td>\n",
       "      <td>Movie</td>\n",
       "      <td>13</td>\n",
       "    </tr>\n",
       "    <tr>\n",
       "      <th>1800</th>\n",
       "      <td>Jay Chapman</td>\n",
       "      <td>Movie</td>\n",
       "      <td>12</td>\n",
       "    </tr>\n",
       "    <tr>\n",
       "      <th>1803</th>\n",
       "      <td>Jay Karas</td>\n",
       "      <td>Movie</td>\n",
       "      <td>14</td>\n",
       "    </tr>\n",
       "    <tr>\n",
       "      <th>2623</th>\n",
       "      <td>Marcus Raboy</td>\n",
       "      <td>Movie</td>\n",
       "      <td>15</td>\n",
       "    </tr>\n",
       "    <tr>\n",
       "      <th>2699</th>\n",
       "      <td>Martin Scorsese</td>\n",
       "      <td>Movie</td>\n",
       "      <td>12</td>\n",
       "    </tr>\n",
       "    <tr>\n",
       "      <th>3100</th>\n",
       "      <td>Not Given</td>\n",
       "      <td>Movie</td>\n",
       "      <td>173</td>\n",
       "    </tr>\n",
       "    <tr>\n",
       "      <th>3101</th>\n",
       "      <td>Not Given</td>\n",
       "      <td>TV Show</td>\n",
       "      <td>2415</td>\n",
       "    </tr>\n",
       "    <tr>\n",
       "      <th>3432</th>\n",
       "      <td>Rajiv Chilaka</td>\n",
       "      <td>Movie</td>\n",
       "      <td>19</td>\n",
       "    </tr>\n",
       "    <tr>\n",
       "      <th>3484</th>\n",
       "      <td>Raúl Campos, Jan Suter</td>\n",
       "      <td>Movie</td>\n",
       "      <td>18</td>\n",
       "    </tr>\n",
       "    <tr>\n",
       "      <th>4092</th>\n",
       "      <td>Suhas Kadav</td>\n",
       "      <td>Movie</td>\n",
       "      <td>16</td>\n",
       "    </tr>\n",
       "    <tr>\n",
       "      <th>4532</th>\n",
       "      <td>Youssef Chahine</td>\n",
       "      <td>Movie</td>\n",
       "      <td>12</td>\n",
       "    </tr>\n",
       "  </tbody>\n",
       "</table>\n",
       "</div>"
      ],
      "text/plain": [
       "                    director     type  show_count\n",
       "127      Alastair Fothergill  TV Show          14\n",
       "690      Cathy Garcia-Molina    Movie          13\n",
       "1800             Jay Chapman    Movie          12\n",
       "1803               Jay Karas    Movie          14\n",
       "2623            Marcus Raboy    Movie          15\n",
       "2699         Martin Scorsese    Movie          12\n",
       "3100               Not Given    Movie         173\n",
       "3101               Not Given  TV Show        2415\n",
       "3432           Rajiv Chilaka    Movie          19\n",
       "3484  Raúl Campos, Jan Suter    Movie          18\n",
       "4092             Suhas Kadav    Movie          16\n",
       "4532         Youssef Chahine    Movie          12"
      ]
     },
     "execution_count": 11,
     "metadata": {},
     "output_type": "execute_result"
    }
   ],
   "source": [
    "#top 10 directors\n",
    "top10_directors=show_director.query(\"show_count >= 12\")\n",
    "top10_directors"
   ]
  },
  {
   "cell_type": "markdown",
   "id": "2c5e230a",
   "metadata": {
    "papermill": {
     "duration": 0.015934,
     "end_time": "2023-11-07T06:31:43.083065",
     "exception": false,
     "start_time": "2023-11-07T06:31:43.067131",
     "status": "completed"
    },
    "tags": []
   },
   "source": [
    "### **Countries producing most content**"
   ]
  },
  {
   "cell_type": "code",
   "execution_count": 12,
   "id": "7b6d3d1c",
   "metadata": {
    "execution": {
     "iopub.execute_input": "2023-11-07T06:31:43.117745Z",
     "iopub.status.busy": "2023-11-07T06:31:43.117234Z",
     "iopub.status.idle": "2023-11-07T06:31:43.136801Z",
     "shell.execute_reply": "2023-11-07T06:31:43.135823Z"
    },
    "papermill": {
     "duration": 0.039685,
     "end_time": "2023-11-07T06:31:43.139146",
     "exception": false,
     "start_time": "2023-11-07T06:31:43.099461",
     "status": "completed"
    },
    "tags": []
   },
   "outputs": [
    {
     "data": {
      "text/html": [
       "<div>\n",
       "<style scoped>\n",
       "    .dataframe tbody tr th:only-of-type {\n",
       "        vertical-align: middle;\n",
       "    }\n",
       "\n",
       "    .dataframe tbody tr th {\n",
       "        vertical-align: top;\n",
       "    }\n",
       "\n",
       "    .dataframe thead th {\n",
       "        text-align: right;\n",
       "    }\n",
       "</style>\n",
       "<table border=\"1\" class=\"dataframe\">\n",
       "  <thead>\n",
       "    <tr style=\"text-align: right;\">\n",
       "      <th></th>\n",
       "      <th>country</th>\n",
       "      <th>show_count</th>\n",
       "    </tr>\n",
       "  </thead>\n",
       "  <tbody>\n",
       "    <tr>\n",
       "      <th>80</th>\n",
       "      <td>United States</td>\n",
       "      <td>3240</td>\n",
       "    </tr>\n",
       "    <tr>\n",
       "      <th>29</th>\n",
       "      <td>India</td>\n",
       "      <td>1057</td>\n",
       "    </tr>\n",
       "    <tr>\n",
       "      <th>79</th>\n",
       "      <td>United Kingdom</td>\n",
       "      <td>638</td>\n",
       "    </tr>\n",
       "    <tr>\n",
       "      <th>52</th>\n",
       "      <td>Pakistan</td>\n",
       "      <td>421</td>\n",
       "    </tr>\n",
       "    <tr>\n",
       "      <th>51</th>\n",
       "      <td>Not Given</td>\n",
       "      <td>287</td>\n",
       "    </tr>\n",
       "    <tr>\n",
       "      <th>10</th>\n",
       "      <td>Canada</td>\n",
       "      <td>271</td>\n",
       "    </tr>\n",
       "    <tr>\n",
       "      <th>36</th>\n",
       "      <td>Japan</td>\n",
       "      <td>259</td>\n",
       "    </tr>\n",
       "    <tr>\n",
       "      <th>68</th>\n",
       "      <td>South Korea</td>\n",
       "      <td>214</td>\n",
       "    </tr>\n",
       "    <tr>\n",
       "      <th>20</th>\n",
       "      <td>France</td>\n",
       "      <td>213</td>\n",
       "    </tr>\n",
       "    <tr>\n",
       "      <th>70</th>\n",
       "      <td>Spain</td>\n",
       "      <td>182</td>\n",
       "    </tr>\n",
       "    <tr>\n",
       "      <th>44</th>\n",
       "      <td>Mexico</td>\n",
       "      <td>138</td>\n",
       "    </tr>\n",
       "    <tr>\n",
       "      <th>18</th>\n",
       "      <td>Egypt</td>\n",
       "      <td>123</td>\n",
       "    </tr>\n",
       "    <tr>\n",
       "      <th>1</th>\n",
       "      <td>Australia</td>\n",
       "      <td>114</td>\n",
       "    </tr>\n",
       "    <tr>\n",
       "      <th>76</th>\n",
       "      <td>Turkey</td>\n",
       "      <td>112</td>\n",
       "    </tr>\n",
       "    <tr>\n",
       "      <th>49</th>\n",
       "      <td>Nigeria</td>\n",
       "      <td>105</td>\n",
       "    </tr>\n",
       "    <tr>\n",
       "      <th>22</th>\n",
       "      <td>Germany</td>\n",
       "      <td>104</td>\n",
       "    </tr>\n",
       "    <tr>\n",
       "      <th>12</th>\n",
       "      <td>China</td>\n",
       "      <td>100</td>\n",
       "    </tr>\n",
       "    <tr>\n",
       "      <th>6</th>\n",
       "      <td>Brazil</td>\n",
       "      <td>88</td>\n",
       "    </tr>\n",
       "    <tr>\n",
       "      <th>74</th>\n",
       "      <td>Taiwan</td>\n",
       "      <td>86</td>\n",
       "    </tr>\n",
       "    <tr>\n",
       "      <th>30</th>\n",
       "      <td>Indonesia</td>\n",
       "      <td>86</td>\n",
       "    </tr>\n",
       "  </tbody>\n",
       "</table>\n",
       "</div>"
      ],
      "text/plain": [
       "           country  show_count\n",
       "80   United States        3240\n",
       "29           India        1057\n",
       "79  United Kingdom         638\n",
       "52        Pakistan         421\n",
       "51       Not Given         287\n",
       "10          Canada         271\n",
       "36           Japan         259\n",
       "68     South Korea         214\n",
       "20          France         213\n",
       "70           Spain         182\n",
       "44          Mexico         138\n",
       "18           Egypt         123\n",
       "1        Australia         114\n",
       "76          Turkey         112\n",
       "49         Nigeria         105\n",
       "22         Germany         104\n",
       "12           China         100\n",
       "6           Brazil          88\n",
       "74          Taiwan          86\n",
       "30       Indonesia          86"
      ]
     },
     "execution_count": 12,
     "metadata": {},
     "output_type": "execute_result"
    }
   ],
   "source": [
    "#Top-20 countries producing most contents:\n",
    "show_origin= netflix.groupby(['country'])['country'].count().reset_index(name='show_count')\n",
    "origin = show_origin.sort_values(by='show_count', ascending=False)\n",
    "origin = origin.head(20)\n",
    "origin"
   ]
  },
  {
   "cell_type": "code",
   "execution_count": 13,
   "id": "32e2e449",
   "metadata": {
    "execution": {
     "iopub.execute_input": "2023-11-07T06:31:43.174459Z",
     "iopub.status.busy": "2023-11-07T06:31:43.173593Z",
     "iopub.status.idle": "2023-11-07T06:31:43.522188Z",
     "shell.execute_reply": "2023-11-07T06:31:43.520628Z"
    },
    "papermill": {
     "duration": 0.369827,
     "end_time": "2023-11-07T06:31:43.525386",
     "exception": false,
     "start_time": "2023-11-07T06:31:43.155559",
     "status": "completed"
    },
    "tags": []
   },
   "outputs": [
    {
     "data": {
      "image/png": "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\n",
      "text/plain": [
       "<Figure size 1080x288 with 1 Axes>"
      ]
     },
     "metadata": {
      "needs_background": "light"
     },
     "output_type": "display_data"
    }
   ],
   "source": [
    "origin.plot.bar(x='country', y='show_count',figsize =(15,4)\n",
    "                ,xlabel='Country',ylabel='Count',legend=False)\n",
    "plt.title('Top-20 countries producing most contents', fontsize=20)\n",
    "plt.show()"
   ]
  },
  {
   "cell_type": "markdown",
   "id": "e3584aa5",
   "metadata": {
    "papermill": {
     "duration": 0.016363,
     "end_time": "2023-11-07T06:31:43.558827",
     "exception": false,
     "start_time": "2023-11-07T06:31:43.542464",
     "status": "completed"
    },
    "tags": []
   },
   "source": [
    "### **Genre Relationship**"
   ]
  },
  {
   "cell_type": "code",
   "execution_count": 14,
   "id": "e553bb3c",
   "metadata": {
    "execution": {
     "iopub.execute_input": "2023-11-07T06:31:43.595570Z",
     "iopub.status.busy": "2023-11-07T06:31:43.594068Z",
     "iopub.status.idle": "2023-11-07T06:31:43.618767Z",
     "shell.execute_reply": "2023-11-07T06:31:43.617810Z"
    },
    "papermill": {
     "duration": 0.045572,
     "end_time": "2023-11-07T06:31:43.621301",
     "exception": false,
     "start_time": "2023-11-07T06:31:43.575729",
     "status": "completed"
    },
    "tags": []
   },
   "outputs": [
    {
     "data": {
      "text/html": [
       "<div>\n",
       "<style scoped>\n",
       "    .dataframe tbody tr th:only-of-type {\n",
       "        vertical-align: middle;\n",
       "    }\n",
       "\n",
       "    .dataframe tbody tr th {\n",
       "        vertical-align: top;\n",
       "    }\n",
       "\n",
       "    .dataframe thead th {\n",
       "        text-align: right;\n",
       "    }\n",
       "</style>\n",
       "<table border=\"1\" class=\"dataframe\">\n",
       "  <thead>\n",
       "    <tr style=\"text-align: right;\">\n",
       "      <th></th>\n",
       "      <th>listed_in</th>\n",
       "      <th>type</th>\n",
       "      <th>show_genre_count</th>\n",
       "    </tr>\n",
       "  </thead>\n",
       "  <tbody>\n",
       "    <tr>\n",
       "      <th>0</th>\n",
       "      <td>Action &amp; Adventure</td>\n",
       "      <td>Movie</td>\n",
       "      <td>128</td>\n",
       "    </tr>\n",
       "    <tr>\n",
       "      <th>1</th>\n",
       "      <td>Action &amp; Adventure, Anime Features</td>\n",
       "      <td>Movie</td>\n",
       "      <td>1</td>\n",
       "    </tr>\n",
       "    <tr>\n",
       "      <th>2</th>\n",
       "      <td>Action &amp; Adventure, Anime Features, Children &amp;...</td>\n",
       "      <td>Movie</td>\n",
       "      <td>4</td>\n",
       "    </tr>\n",
       "    <tr>\n",
       "      <th>3</th>\n",
       "      <td>Action &amp; Adventure, Anime Features, Classic Mo...</td>\n",
       "      <td>Movie</td>\n",
       "      <td>2</td>\n",
       "    </tr>\n",
       "    <tr>\n",
       "      <th>4</th>\n",
       "      <td>Action &amp; Adventure, Anime Features, Horror Movies</td>\n",
       "      <td>Movie</td>\n",
       "      <td>1</td>\n",
       "    </tr>\n",
       "    <tr>\n",
       "      <th>...</th>\n",
       "      <td>...</td>\n",
       "      <td>...</td>\n",
       "      <td>...</td>\n",
       "    </tr>\n",
       "    <tr>\n",
       "      <th>508</th>\n",
       "      <td>TV Horror, TV Mysteries, Teen TV Shows</td>\n",
       "      <td>TV Show</td>\n",
       "      <td>1</td>\n",
       "    </tr>\n",
       "    <tr>\n",
       "      <th>509</th>\n",
       "      <td>TV Horror, Teen TV Shows</td>\n",
       "      <td>TV Show</td>\n",
       "      <td>2</td>\n",
       "    </tr>\n",
       "    <tr>\n",
       "      <th>510</th>\n",
       "      <td>TV Sci-Fi &amp; Fantasy, TV Thrillers</td>\n",
       "      <td>TV Show</td>\n",
       "      <td>1</td>\n",
       "    </tr>\n",
       "    <tr>\n",
       "      <th>511</th>\n",
       "      <td>TV Shows</td>\n",
       "      <td>TV Show</td>\n",
       "      <td>16</td>\n",
       "    </tr>\n",
       "    <tr>\n",
       "      <th>512</th>\n",
       "      <td>Thrillers</td>\n",
       "      <td>Movie</td>\n",
       "      <td>65</td>\n",
       "    </tr>\n",
       "  </tbody>\n",
       "</table>\n",
       "<p>513 rows × 3 columns</p>\n",
       "</div>"
      ],
      "text/plain": [
       "                                             listed_in     type  \\\n",
       "0                                   Action & Adventure    Movie   \n",
       "1                   Action & Adventure, Anime Features    Movie   \n",
       "2    Action & Adventure, Anime Features, Children &...    Movie   \n",
       "3    Action & Adventure, Anime Features, Classic Mo...    Movie   \n",
       "4    Action & Adventure, Anime Features, Horror Movies    Movie   \n",
       "..                                                 ...      ...   \n",
       "508             TV Horror, TV Mysteries, Teen TV Shows  TV Show   \n",
       "509                           TV Horror, Teen TV Shows  TV Show   \n",
       "510                  TV Sci-Fi & Fantasy, TV Thrillers  TV Show   \n",
       "511                                           TV Shows  TV Show   \n",
       "512                                          Thrillers    Movie   \n",
       "\n",
       "     show_genre_count  \n",
       "0                 128  \n",
       "1                   1  \n",
       "2                   4  \n",
       "3                   2  \n",
       "4                   1  \n",
       "..                ...  \n",
       "508                 1  \n",
       "509                 2  \n",
       "510                 1  \n",
       "511                16  \n",
       "512                65  \n",
       "\n",
       "[513 rows x 3 columns]"
      ]
     },
     "execution_count": 14,
     "metadata": {},
     "output_type": "execute_result"
    }
   ],
   "source": [
    "#grouped by listed_In and type\n",
    "show_genre= netflix.groupby(['listed_in','type'])[ 'type'].count().reset_index(name='show_genre_count')\n",
    "show_genre"
   ]
  },
  {
   "cell_type": "code",
   "execution_count": 15,
   "id": "8a584471",
   "metadata": {
    "execution": {
     "iopub.execute_input": "2023-11-07T06:31:43.660062Z",
     "iopub.status.busy": "2023-11-07T06:31:43.658720Z",
     "iopub.status.idle": "2023-11-07T06:31:44.000931Z",
     "shell.execute_reply": "2023-11-07T06:31:43.999904Z"
    },
    "papermill": {
     "duration": 0.363808,
     "end_time": "2023-11-07T06:31:44.003570",
     "exception": false,
     "start_time": "2023-11-07T06:31:43.639762",
     "status": "completed"
    },
    "tags": []
   },
   "outputs": [
    {
     "data": {
      "text/plain": [
       "Text(0.5, 1.0, 'Top 10 Genres of Movies')"
      ]
     },
     "execution_count": 15,
     "metadata": {},
     "output_type": "execute_result"
    },
    {
     "data": {
      "image/png": "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\n",
      "text/plain": [
       "<Figure size 864x432 with 1 Axes>"
      ]
     },
     "metadata": {
      "needs_background": "light"
     },
     "output_type": "display_data"
    }
   ],
   "source": [
    "#Top 10 Genres of Movies\n",
    "plt.figure(figsize=(12,6))\n",
    "netflix[netflix[\"type\"]==\"Movie\"][\"listed_in\"].value_counts()[:10].plot(kind=\"barh\",color=\"blue\")\n",
    "plt.title(\"Top 10 Genres of Movies\",size=18)"
   ]
  },
  {
   "cell_type": "code",
   "execution_count": 16,
   "id": "32c844de",
   "metadata": {
    "execution": {
     "iopub.execute_input": "2023-11-07T06:31:44.041958Z",
     "iopub.status.busy": "2023-11-07T06:31:44.041439Z",
     "iopub.status.idle": "2023-11-07T06:31:44.365345Z",
     "shell.execute_reply": "2023-11-07T06:31:44.364026Z"
    },
    "papermill": {
     "duration": 0.346256,
     "end_time": "2023-11-07T06:31:44.368110",
     "exception": false,
     "start_time": "2023-11-07T06:31:44.021854",
     "status": "completed"
    },
    "tags": []
   },
   "outputs": [
    {
     "data": {
      "text/plain": [
       "Text(0.5, 1.0, 'Top 10 Genres of TV Shows')"
      ]
     },
     "execution_count": 16,
     "metadata": {},
     "output_type": "execute_result"
    },
    {
     "data": {
      "image/png": "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\n",
      "text/plain": [
       "<Figure size 864x432 with 1 Axes>"
      ]
     },
     "metadata": {
      "needs_background": "light"
     },
     "output_type": "display_data"
    }
   ],
   "source": [
    "#Top 10 Genres of TV Shows\n",
    "plt.figure(figsize=(12,6))\n",
    "netflix[netflix[\"type\"]==\"TV Show\"][\"listed_in\"].value_counts()[:10].plot(kind=\"barh\",color=\"brown\")\n",
    "plt.title(\"Top 10 Genres of TV Shows\",size=18)"
   ]
  },
  {
   "cell_type": "markdown",
   "id": "7678018a",
   "metadata": {
    "papermill": {
     "duration": 0.017947,
     "end_time": "2023-11-07T06:31:44.405053",
     "exception": false,
     "start_time": "2023-11-07T06:31:44.387106",
     "status": "completed"
    },
    "tags": []
   },
   "source": [
    "### **Rating Distribution**"
   ]
  },
  {
   "cell_type": "code",
   "execution_count": 17,
   "id": "f22f84dc",
   "metadata": {
    "execution": {
     "iopub.execute_input": "2023-11-07T06:31:44.444329Z",
     "iopub.status.busy": "2023-11-07T06:31:44.443798Z",
     "iopub.status.idle": "2023-11-07T06:31:44.874565Z",
     "shell.execute_reply": "2023-11-07T06:31:44.873179Z"
    },
    "papermill": {
     "duration": 0.453878,
     "end_time": "2023-11-07T06:31:44.877352",
     "exception": false,
     "start_time": "2023-11-07T06:31:44.423474",
     "status": "completed"
    },
    "tags": []
   },
   "outputs": [
    {
     "name": "stderr",
     "output_type": "stream",
     "text": [
      "/opt/conda/lib/python3.7/site-packages/seaborn/_decorators.py:43: FutureWarning: Pass the following variable as a keyword arg: x. From version 0.12, the only valid positional argument will be `data`, and passing other arguments without an explicit keyword will result in an error or misinterpretation.\n",
      "  FutureWarning\n",
      "/opt/conda/lib/python3.7/site-packages/seaborn/_decorators.py:43: FutureWarning: Pass the following variable as a keyword arg: x. From version 0.12, the only valid positional argument will be `data`, and passing other arguments without an explicit keyword will result in an error or misinterpretation.\n",
      "  FutureWarning\n"
     ]
    },
    {
     "data": {
      "text/plain": [
       "Text(0.5, 1.0, 'Rating')"
      ]
     },
     "execution_count": 17,
     "metadata": {},
     "output_type": "execute_result"
    },
    {
     "data": {
      "image/png": "iVBORw0KGgoAAAANSUhEUgAAAmoAAAGkCAYAAACB2AkmAAAAOXRFWHRTb2Z0d2FyZQBNYXRwbG90bGliIHZlcnNpb24zLjUuMywgaHR0cHM6Ly9tYXRwbG90bGliLm9yZy/NK7nSAAAACXBIWXMAAAsTAAALEwEAmpwYAAAsNElEQVR4nO3deZxkZX3v8c+XTWJAAZkgAopXUcQNdQIoGlEjixsuBPFeIxIMasBEo1cxm1twX+KCJCgouCOioKKIuCQaFVARBVzG7QKyjLKIGlHgd/94TkMx9kADU32e7v68X69+TdVzTlX9erq76nue5ZxUFZIkSerPWmMXIEmSpNkZ1CRJkjplUJMkSeqUQU2SJKlTBjVJkqROGdQkSZI6ZVCTpJsgyb8n+eex65C0NMTzqEla7JL8BNgMuBr4FfBp4KCq+tWNPO7pwDOq6sHTrlGSZmOPmqSl4rFVtQGwPXA/4MXjliNJN86gJmlJqaoLgZNogY0kByf5YZIrkpyd5AlD+z2AfwcemORXSS4b2t+d5F+H27skOS/J85NcnOSCJPvNvFaS2yX5eJJfJjktyb8m+dL8fseSFjKDmqQlJcmWwB7AiqHph8BDgNsCLwPem2TzqjoHeBbwlaraoKo2Ws1T3n547BbA/sChSTYeth0K/HrYZ9/hS5LmzKAmaan4WJIrgHOBi4GXAFTVh6vqZ1V1TVV9CPgBsMNNeN7fAy+vqt9X1Ym0OXB3T7I28CTgJVX1m6o6GzhqTX5DkhY/g5qkpeLxVbUhsAuwLbApQJKnJTkjyWXD8Oa9ZrbN0S+q6qqJ+78BNgCWAevQguGMyduSdKMMapKWlKr6IvBu4PVJ7gS8AzgIuN0wvPkdIDO734KXWglcBWw50bbVLXg+SUuQQU3SUvRvwCOBjWhhbCXAsBDgXhP7XQRsmWS9m/oCVXU1cBzw0iS3TrIt8LRbVrakpcagJmnJqaqVwNHAvwBvAL5CC2X3Br48sevngLOAC5P8/Ga81EG0hQYXAu8BPgBcefMrl7TUeMJbSZonSV4D3L6qXP0paU7sUZOkKUmybZL7pNmBdvqOj45dl6SFY52xC5CkRWxD2nDnHWhDq28Ajh+1IkkLikOfkiRJnXLoU5IkqVMGNUmSpE4tyjlqm266aW299dZjlyFJknSjvv71r/+8qpbNtm1RBrWtt96a008/fewyJEmSblSSn65um0OfkiRJnTKoSZIkdcqgJkmS1CmDmiRJUqcMapIkSZ0yqEmSJHXKoCZJktQpg5okSVKnDGqSJEmdMqhJkiR1yqAmSZLUKYOaJElSpwxqkiRJnTKoSZIkdWqdsQsQnH/ogaO+/hYHHjrq60uSpNnZoyZJktQpg5okSVKnDGqSJEmdMqhJkiR1yqAmSZLUKYOaJElSpwxqkiRJnTKoSZIkdcqgJkmS1CmDmiRJUqcMapIkSZ0yqEmSJHXKoCZJktQpg5okSVKnDGqSJEmdmlpQS7J+klOTfCvJWUleNrTfOcnXkqxI8qEk6w3ttxrurxi2bz3xXC8e2r+XZLdp1SxJktSTafaoXQk8vKruC2wP7J5kJ+A1wJuq6q7ApcD+w/77A5cO7W8a9iPJdsA+wD2B3YG3J1l7inVLkiR1YWpBrZpfDXfXHb4KeDhw7NB+FPD44faew32G7Y9IkqH9g1V1ZVX9GFgB7DCtuiVJknox1TlqSdZOcgZwMXAy8EPgsqq6atjlPGCL4fYWwLkAw/bLgdtNts/ymMnXOiDJ6UlOX7ly5RS+G0mSpPk11aBWVVdX1fbAlrResG2n+FqHV9Xyqlq+bNmyab2MJEnSvJmXVZ9VdRnweeCBwEZJ1hk2bQmcP9w+H9gKYNh+W+AXk+2zPEaSJGnRmuaqz2VJNhpu/xHwSOAcWmDba9htX+D44fYJw32G7Z+rqhra9xlWhd4Z2AY4dVp1S5Ik9WKdG9/lZtscOGpYobkWcExVfSLJ2cAHk/wr8E3giGH/I4D3JFkBXEJb6UlVnZXkGOBs4CrgwKq6eop1S5IkdWFqQa2qzgTuN0v7j5hl1WZV/Rb4i9U81yHAIWu6RkmSpJ55ZQJJkqROGdQkSZI6ZVCTJEnqlEFNkiSpUwY1SZKkThnUJEmSOmVQkyRJ6pRBTZIkqVMGNUmSpE4Z1CRJkjplUJMkSeqUQU2SJKlTBjVJkqROGdQkSZI6ZVCTJEnqlEFNkiSpUwY1SZKkThnUJEmSOmVQkyRJ6pRBTZIkqVMGNUmSpE4Z1CRJkjplUJMkSeqUQU2SJKlTBjVJkqROGdQkSZI6ZVCTJEnqlEFNkiSpUwY1SZKkThnUJEmSOmVQkyRJ6pRBTZIkqVMGNUmSpE4Z1CRJkjplUJMkSeqUQU2SJKlTBjVJkqROGdQkSZI6ZVCTJEnq1NSCWpKtknw+ydlJzkryd0P7S5Ocn+SM4etRE495cZIVSb6XZLeJ9t2HthVJDp5WzZIkST1ZZ4rPfRXw/Kr6RpINga8nOXnY9qaqev3kzkm2A/YB7gncAfhskrsNmw8FHgmcB5yW5ISqOnuKtUuSJI1uakGtqi4ALhhuX5HkHGCLG3jInsAHq+pK4MdJVgA7DNtWVNWPAJJ8cNjXoCZJkha1eZmjlmRr4H7A14amg5KcmeTIJBsPbVsA50487LyhbXXtkiRJi9rUg1qSDYCPAM+tql8ChwF3Aban9bi9YQ29zgFJTk9y+sqVK9fEU0qSJI1qqkEtybq0kPa+qjoOoKouqqqrq+oa4B1cN7x5PrDVxMO3HNpW1349VXV4VS2vquXLli1b89+MJEnSPJvmqs8ARwDnVNUbJ9o3n9jtCcB3htsnAPskuVWSOwPbAKcCpwHbJLlzkvVoCw5OmFbdkiRJvZjmqs+dgb8Evp3kjKHtH4CnJNkeKOAnwDMBquqsJMfQFglcBRxYVVcDJDkIOAlYGziyqs6aYt2SJEldmOaqzy8BmWXTiTfwmEOAQ2ZpP/GGHidJkrQYeWUCSZKkThnUJEmSOmVQkyRJ6pRBTZIkqVMGNUmSpE4Z1CRJkjplUJMkSeqUQU2SJKlTBjVJkqROGdQkSZI6ZVCTJEnqlEFNkiSpUwY1SZKkThnUJEmSOmVQkyRJ6pRBTZIkqVMGNUmSpE4Z1CRJkjplUJMkSeqUQU2SJKlTBjVJkqROGdQkSZI6ZVCTJEnqlEFNkiSpUwY1SZKkThnUJEmSOmVQkyRJ6pRBTZIkqVPrjF2AdEt94N27jfr6T3n6SaO+viRp8bJHTZIkqVMGNUmSpE4Z1CRJkjplUJMkSeqUQU2SJKlTBjVJkqROGdQkSZI6ZVCTJEnqlEFNkiSpUwY1SZKkThnUJEmSOjW1oJZkqySfT3J2krOS/N3QvkmSk5P8YPh346E9Sd6SZEWSM5Pcf+K59h32/0GSfadVsyRJUk+m2aN2FfD8qtoO2Ak4MMl2wMHAKVW1DXDKcB9gD2Cb4esA4DBowQ54CbAjsAPwkplwJ0mStJhNLahV1QVV9Y3h9hXAOcAWwJ7AUcNuRwGPH27vCRxdzVeBjZJsDuwGnFxVl1TVpcDJwO7TqluSJKkX8zJHLcnWwP2ArwGbVdUFw6YLgc2G21sA50487LyhbXXtq77GAUlOT3L6ypUr1+w3IEmSNIKpB7UkGwAfAZ5bVb+c3FZVBdSaeJ2qOryqllfV8mXLlq2Jp5QkSRrVVINaknVpIe19VXXc0HzRMKTJ8O/FQ/v5wFYTD99yaFtduyRJ0qI2zVWfAY4AzqmqN05sOgGYWbm5L3D8RPvThtWfOwGXD0OkJwG7Jtl4WESw69AmSZK0qK0zxefeGfhL4NtJzhja/gF4NXBMkv2BnwJ7D9tOBB4FrAB+A+wHUFWXJHkFcNqw38ur6pIp1i1JktSFqQW1qvoSkNVsfsQs+xdw4Gqe60jgyDVXnSRJUv+8MoEkSVKnDGqSJEmdMqhJkiR1yqAmSZLUKYOaJElSpwxqkiRJnTKoSZIkdcqgJkmS1CmDmiRJUqcMapIkSZ0yqEmSJHXKoCZJktQpg5okSVKn5hTUkpwylzZJkiStOevc0MYk6wO3BjZNsjGQYdNtgC2mXJskSdKSdoNBDXgm8FzgDsDXuS6o/RJ42/TKkiRJ0g0Gtap6M/DmJM+pqrfOU02SJEnixnvUAKiqtyZ5ELD15GOq6ugp1SVJkrTkzSmoJXkPcBfgDODqobkAg5okSdKUzCmoAcuB7aqqplmMJEmSrjPX86h9B7j9NAuRJEnS9c21R21T4OwkpwJXzjRW1eOmUpUkSZLmHNReOs0iJEmS9Ifmuurzi9MuRJIkSdc311WfV9BWeQKsB6wL/LqqbjOtwiRJkpa6ufaobThzO0mAPYGdplWUJEmS5r7q81rVfAzYbc2XI0mSpBlzHfp84sTdtWjnVfvtVCqSJEkSMPdVn4+duH0V8BPa8KckSZKmZK5z1PabdiGSJEm6vjnNUUuyZZKPJrl4+PpIki2nXZwkSdJSNtfFBO8CTgDuMHx9fGiTJEnSlMw1qC2rqndV1VXD17uBZVOsS5Ikacmba1D7RZKnJll7+Hoq8ItpFiZJkrTUzTWo/RWwN3AhcAGwF/D0KdUkSZIk5n56jpcD+1bVpQBJNgFeTwtwkiRJmoK59qjdZyakAVTVJcD9plOSJEmSYO5Bba0kG8/cGXrU5tobJ0mSpJthrmHrDcBXknx4uP8XwCHTKUmSJEkwxx61qjoaeCJw0fD1xKp6zw09JsmRw8lxvzPR9tIk5yc5Y/h61MS2FydZkeR7SXabaN99aFuR5OCb+g1KkiQtVHMevqyqs4Gzb8Jzvxt4G3D0Ku1vqqrXTzYk2Q7YB7gn7YS6n01yt2HzocAjgfOA05KcMNQiSZK0qE1tnllV/WeSree4+57AB6vqSuDHSVYAOwzbVlTVjwCSfHDY16AmSZIWvbkuJliTDkpy5jA0OrNAYQvg3Il9zhvaVtcuSZK06M13UDsMuAuwPe3EuW9YU0+c5IAkpyc5feXKlWvqaSVJkkYzr0Gtqi6qqqur6hrgHVw3vHk+sNXErlsObatrn+25D6+q5VW1fNkyL0MqSZIWvnkNakk2n7j7BGBmRegJwD5JbpXkzsA2wKnAacA2Se6cZD3agoMT5rNmSZKksUxtMUGSDwC7AJsmOQ94CbBLku2BAn4CPBOgqs5KcgxtkcBVwIFVdfXwPAcBJwFrA0dW1VnTqlmSJKkn01z1+ZRZmo+4gf0PYZaT6FbVicCJa7A0SZKkBWGMVZ+SJEmaA4OaJElSpwxqkiRJnTKoSZIkdcqgJkmS1CmDmiRJUqcMapIkSZ0yqEmSJHXKoCZJktQpg5okSVKnDGqSJEmdMqhJkiR1yqAmSZLUKYOaJElSpwxqkiRJnTKoSZIkdcqgJkmS1CmDmiRJUqcMapIkSZ0yqEmSJHXKoCZJktQpg5okSVKnDGqSJEmdMqhJkiR1yqAmSZLUKYOaJElSpwxqkiRJnTKoSZIkdcqgJkmS1CmDmiRJUqcMapIkSZ0yqEmSJHXKoCZJktQpg5okSVKnDGqSJEmdMqhJkiR1yqAmSZLUKYOaJElSpwxqkiRJnZpaUEtyZJKLk3xnom2TJCcn+cHw78ZDe5K8JcmKJGcmuf/EY/Yd9v9Bkn2nVa8kSVJvptmj9m5g91XaDgZOqaptgFOG+wB7ANsMXwcAh0ELdsBLgB2BHYCXzIQ7SZKkxW5qQa2q/hO4ZJXmPYGjhttHAY+faD+6mq8CGyXZHNgNOLmqLqmqS4GT+cPwJ0mStCjN9xy1zarqguH2hcBmw+0tgHMn9jtvaFtduyRJ0qI32mKCqiqg1tTzJTkgyelJTl+5cuWaelpJkqTRzHdQu2gY0mT49+Kh/Xxgq4n9thzaVtf+B6rq8KpaXlXLly1btsYLlyRJmm/zHdROAGZWbu4LHD/R/rRh9edOwOXDEOlJwK5JNh4WEew6tEmSJC1660zriZN8ANgF2DTJebTVm68GjkmyP/BTYO9h9xOBRwErgN8A+wFU1SVJXgGcNuz38qpadYGCJEnSojS1oFZVT1nNpkfMsm8BB67meY4EjlyDpUmSJC0IXplAkiSpUwY1SZKkThnUJEmSOmVQkyRJ6pRBTZIkqVMGNUmSpE4Z1CRJkjplUJMkSeqUQU2SJKlTU7sygRaP/3rHY0Z9/Yf89SdGfX1JksZij5okSVKnDGqSJEmdMqhJkiR1yqAmSZLUKYOaJElSp1z1KUmL1J7HnjTq6x+/126jvr60GNijJkmS1CmDmiRJUqcMapIkSZ0yqEmSJHXKoCZJktQpg5okSVKnDGqSJEmdMqhJkiR1yqAmSZLUKYOaJElSpwxqkiRJnTKoSZIkdcqgJkmS1CmDmiRJUqcMapIkSZ0yqEmSJHXKoCZJktQpg5okSVKnDGqSJEmdMqhJkiR1yqAmSZLUKYOaJElSpwxqkiRJnTKoSZIkdWqUoJbkJ0m+neSMJKcPbZskOTnJD4Z/Nx7ak+QtSVYkOTPJ/ceoWZIkab6N2aP2sKravqqWD/cPBk6pqm2AU4b7AHsA2wxfBwCHzXulkiRJI+hp6HNP4Kjh9lHA4yfaj67mq8BGSTYfoT5JkqR5NVZQK+AzSb6e5IChbbOqumC4fSGw2XB7C+DciceeN7RJkiQtauuM9LoPrqrzk/wJcHKS705urKpKUjflCYfAdwDAHe94xzVXqSRJ0khGCWpVdf7w78VJPgrsAFyUZPOqumAY2rx42P18YKuJh285tK36nIcDhwMsX778eiFv5WHvXfPfxE2w7NlPHfX1JUnSwjTvQ59J/jjJhjO3gV2B7wAnAPsOu+0LHD/cPgF42rD6cyfg8okhUkmSpEVrjB61zYCPJpl5/fdX1aeTnAYck2R/4KfA3sP+JwKPAlYAvwH2m/+SJUmS5t+8B7Wq+hFw31nafwE8Ypb2Ag6ch9IkSZK60tPpOSRJkjTBoCZJktQpg5okSVKnDGqSJEmdMqhJkiR1yqAmSZLUKYOaJElSpwxqkiRJnTKoSZIkdcqgJkmS1CmDmiRJUqfGuCi7tKS85oO7jfr6L9rnpFFfX5J089mjJkmS1CmDmiRJUqcc+pSWuD2O33fU1//UnkeN+vqS1DODmqSuPfq4fxvttT/5xOeO9tqSBA59SpIkdcugJkmS1CmDmiRJUqcMapIkSZ0yqEmSJHXKoCZJktQpT88hSTfTY45936iv/4m9/s+ory9p+uxRkyRJ6pRBTZIkqVMGNUmSpE4Z1CRJkjplUJMkSeqUQU2SJKlTBjVJkqROGdQkSZI6ZVCTJEnqlEFNkiSpUwY1SZKkThnUJEmSOmVQkyRJ6tQ6YxcgSZJuuq++++JRX3+np//JqK+/VNijJkmS1CmDmiRJUqcWzNBnkt2BNwNrA++sqlePXJIk6RbY+yPfHfX1j3nStqO+vjQXC6JHLcnawKHAHsB2wFOSbDduVZIkSdO1IIIasAOwoqp+VFW/Az4I7DlyTZIkSVO1UILaFsC5E/fPG9okSZIWrVTV2DXcqCR7AbtX1TOG+38J7FhVB03scwBwwHD37sD31mAJmwI/X4PPt6ZZ3y1jfbeM9d18PdcG1ndLWd8ts5Tqu1NVLZttw0JZTHA+sNXE/S2HtmtV1eHA4dN48SSnV9XyaTz3mmB9t4z13TLWd/P1XBtY3y1lfbeM9TULZejzNGCbJHdOsh6wD3DCyDVJkiRN1YLoUauqq5IcBJxEOz3HkVV11shlSZIkTdWCCGoAVXUicOJILz+VIdU1yPpuGeu7Zazv5uu5NrC+W8r6bhnrY4EsJpAkSVqKFsocNUmSpCXHoKZFLUnGrmEhSnLvJBsl8T3iFvD3T9It5ZvwwA+kmybJeknWH7uOG1NVlaS7uZhJNhu7htUZ/hYOAu5WVdeMXc9ClOSPk6Q6nlsyEyJ7DJNJ1l8I7y+66ZLsl2T/setYSJZ8OEmyLMkGMx9Ivb1pTQbIXmob6vhHYN8km49dz2ySHJzkBdBWDQ9t645bVZPkjsBpSR4zdi2zGf4WfgD8Y68HMEnWTbJdkk3GrmU1Xg68NslWN7rneNaGdjAzdiGzeAnwnF7//5LslOTOY9dxYzr9+70MODDJ3nDttby7lGStHv4PRy9gTEleDLwFuCzJs6CfN60kd0myRVVdk+TWcP3aRg5t/wRsDXysqi4Y6nngiPVcz3Ak/nDaB+X3kvzFsGndYfvYv/f/DPwEOCjJLtDfm1VVvZ72Qf6IsWtZjVcCzwAeMnYhq0ry18A2wBur6tyh7UG9/IyT3C7J64BXJfnHJJtObBv7b4MkL6Kd4PyIif+/ncet6jrDe+97af9/m0y0dSHJOknulWTbHjsgquqjwBuBRyX5k6q6euyaJg3hbIskW1fVNT2MKizZVZ9Dr8bHgYcB/wvYn3Zi3d8AX5wJIGNJchpwF+BIoIDfAh+ghY3vVtWVI9V1R+BkYIequnxo+3vgr4DvA6+uqlPHqG1Skh2A+9GuEXsY8GPapcXuV1UXjjUsleTPgZdV1c5JngvsADyrqn4537XMJsk9gGXAJcB+wHbA06pq5aiFTUhyP9rPdPequmxoezZwZVUdOXJt6wNnAE+aOdfjMMzzH8DxwOuq6qvjVQhJjgTWA75JC0Sfq6oTkqw99odmktsD/wnsPPM7l+R5wL8A5wDPq6qvjVgiSV4C7Aj8P+Cyqjp4zHpWleRQ2oH0rrTPjGdU1e9W2Wes978M01FuTeskWQ48s6q+lmStLkJR8ibgjsBuwIdo78+/X2Wfef3/G/3oaUQvoPUIXQJsQAsafwzsDXwoyZ+MUVSatYAv0q5XegXw38AmtA+AFwE/HXGM//HAJ6vq8uHIbSPgKcCzgM8AeyW51Ui1Tfoe8DjaG+mdaAH3tsA/J1lvxJ7TxwJvGm6/a/j340NAGrVHI8m2wCeBJwPvAK4BtgBekeQRSTYYq7ZVHAIcPhHStgH+HvjrJGeOPCT1EOCcqjprYqh9B+ChwCnAS5JsMVZxSR4CbFtVT62qN9BOIn5gkn8C3p7kTUmeMmIPzO60A+WVw/D2rYFHAg+iHbQemGTDkWpjGIrdE3gS8FJglySvyzAnceyeqyTb0w6iH037zLgG2CfJtkluneQ+MM7IUZK7DSHtVlX1m+Ha3e+l/XzpJKRtDzyYdt3wu9IOaHYeDiBIcgeY//+/JRnUhg/DI2lv+AD3B/6qqt5aVU8EVtB6Y+ZdNdcA/wB8BLh46Co+CjgbOBB4NC0UjeF04O5D2Llq+LA8sKq+BHwHuCcw2lH5zBvl0Nv3UuCBaYsJNqF9WN4D+N8j1fYA2sHBscPR4+XA04Av0QLcqG9WVfVd4D5VdWBVPbCq/i/tb+N7tN/H1ya57Vj1AQwf3BcBX5lofjitl/KBwKeAB4xR2+AbAEk2qarfp13y7u1V9WVar9r6tF77sdwJ2CnJE4f7p9Le67YAvg5sDPxyxAOZrwGbJVm3qn5fVb+h/WzPAb4A3B743Q09wZQ9EXhPVf1PVV1IO0DdDHjw8N499hDVwcD3k6xfVVcA7wReARwHfA541zA0P6+S3IV2QPpp4OAkb0hyX9pc2L2TvK2TA8GDgf+qql8MP99P0nrvj0/ybeA9SZ4830Ut2aFPaIFtmAN226GHaOb+J4H3V9X7Rqhp/ar67XB7B9ovyanAnwPPrqrPDtvG6rpen9bbcjbw4apaMbHtI8Anqupdq3v8fEibCxTg1sAbaMHsP6rq70esaS3gzcDRVXXaRKCs4ed8NPBl4IAxhp/S5spdXFVnDyH8d0P7Xarqh0Mv1ZOGuWujSvIfAFX1zFm2fQp4S1V9aoS6AtyKFsi2oQ2ZnDmx/R3AeVX1svmubVKS29EO/DYDrgIOqapPjFkTXPv/tz7wfmAl8Naq+vbE9g/RetvePlKJsxqCz8uAfxpz6H3owX02bcrMpbQpKs8HvllVr0hyd2DlMIo037UdQOt42JN2IL8jMHNg9VjaAf4Dquqb813bRI13o82//jmt0+Ek4FBamHwVrYftt5N/0/NW21ILakO362rnd6WtRPmbqtpl/qq69rUfQutyfQ/w2SE03o42RHZ1VT1hvmuaqO1utLlLV9Lmeu0I/JI2T+OCoW2vqtpppPrWo/VOHTf5RpS2KvUA4OVDKBptHkSSFwI7A08YfrbXhu3h/3fXqnrbCHWtTXsjurCq3jjR/khgv6oapQdydYZhiFfSfu+Or2FOZNo8tT2q6nFj1jfU8gpaT985wKdpw5+7AvfvYYgHYBgGO442N/dZQw/v6JLcidZTtQFtruS3aB/kj62qHcasDdpk/RpWkk+07QHsC7ygqs4bqa7tq+qMJPemBaJtae/TT5wMvCPU9SLa7/2TV2m/La2HFOAhVfXOeS/u+vW8gOumyGxGGzbeAdilqn4xam1LKagNvUEfol2f679qYgL3cDS3JW3u2nFV9cUR6ns98DzauP3FtN6pLw4B7gjgNVV1xHz3pg3/b6fQjr5XAN+mDYHuTAtvf04Lk6dU1Xfmq65VajyMtkLxLOCEyV69JLcehlBGl+QTwJur6uSJtrWr6uqMOJk7ySOAt9EmvP/jUM+JwPuq6n2zfTjNc32b0P421gV+AVxI+yDamja39HzgPsBBVfWtkcqc/FmuR1uI8SxaL9uXgdPGrG02w/vePrQetn2r6gMjlwRAko1pc5eW0+anvQf48ojvL7sAv6qq04f7a9EWec30im8K/J+qevNI9T0EeCZt9OV42iKqnWhDtb+n9RJ9aL5DZJJltEV7j6+2iOtvaX8HX7mRh86rYXrM3rQOh98NXxvRMsHZtOkfXxim+sx/fUssqL2GtrrzK8APuW7e1+/rumXMo32oD13Xb6AFonNoHzz/j/YB+iDaL/tzRqjrNcAVVfWvSR5NO8fRs6vq6/Ndy2yGD/HP0IYfoE2GXws4qqpOGvZ5wFj1ZgGspARIclfavL4PVNUnk+xUI69QnJHrViqeCWxOW2H8MdpwxLbAr4Av1XA6h3mubRfggqr63mSPbZK7VtWKyaHkXqUtANqwqn4+di29GQ5Uz6ed/+uzwL9U1UXDtl5WKt6e1oN7H9qBy6nAJ2jDjHvSPj9eOlP3PNb1duDPqupeQ0/pccP9X0/s082JodMW+jwKuDNt+PjC4fa9aZ95o/x9LJmgNoSg/Wg9Q5cBL6ZNlP4MbcLlrWiTLp815ptqkgfTAse3aas9d6Al+zOB9873/IK0VS7n0ZZ4Hzm0vQVYUVVvGbMXaNLwJvBL4HLaHI1daUfk3wZ2oa1UffUIdW0LnEibi3F/2sKB3Wg/2w8DX6uqX813XbMZegn2pS1YeVFVnTJyScC1vQWvqaoHDfcfB/w1rQdo3ufbrFLb2rRh2IsWwrCxbrok+9HeS55LO03In9Hm0b12mMKwI/CzMQ4Shvqu7e0eDlofTwsXAJ+pqv9Kcrv5Hr4b3k92pa2+3xjYnnZ6miOHv5vqJORuWG3hxWTbfWl1b0vrqdy0qn4yQnmtnqUS1KD9QIB1Z97ckyynLetfi/YDOaWqnj9CXbvQJtF+jtabtgXt6OgLwP/QloL/uqqOHqG2tWlzv55GO8I4knbC1odX1a/HDmqTk/JXad+I9uZwCO2UCXcacW7aBpNhbOhmfw7wGFqX+ovHmB+UZDfaEfhatCPdn1fVpUP7C4AXjjm5d0aSp9IWW+xVVccNc1tOAh5WVf8z9hH5HIaNu+h10c2T5DbANjM98kkeBLyQtpL8fcDf0n4XLx6htu1pB1Zn03rP1qEd1O9Fm2P1UNoCptfMd21DfWvResAfSju4+jHtRMZfHqOeVSXZGvg8cFhVvXaW7UcAH6+qj81zadevYykFtRmrfrgneSWtt22L+X5DTTsvz09pY+LH0OZ+7U47Ce/FtKOjXw/ljtnTtwltRdHf0FYHjnL6kpsqyRm0VYDzvhorna+kTPIzWuD5DcP5q2gHCT8E7kU7aHhUDauQx5Trr1S8BnhVVX0sE6ukx9TzsLFuvtUdBAzDoQ+l9ZS/vqpeOO/FcW1v3xG0VbL703rrL6OdhuhWtNGFf6+qt4xR34zh4PR/0d5ndqENKb5yvufMzSbJw2nXNr49rZf0YxPbjgVOHOPzY9KSC2qzHd0Ok/i/X1WHj1TTX9LmEWxHG379GvAEWkD7WLXzuXQhbXXi39Emqn6kql45Vo/GDcwNuiftyA3aOd5eN0JtXa+kTLt82r1n6hiC+Ha0Vb1Ppq24+6Oq2ne8Kv9Qrlup+FXaz7aXlYpdDhtretKukPFh4G5j9pgOPczvBO5Amw6wYmjfuKouHauuGRMLbP4YuA3tahhPpfX0nT5udc0QJPehLf75JfB64G7APjXCGSBWteSC2oy0UyV8gLbE/05V9cOR67kd8HTam/1xtKO00eYurRKCrh3eTDsXz49pQ7O7VdXzRqrvhuYG7VtVTx2jrklzGBIbZSVlks1owyPHD19nrjq/Jm3V4tU9zD9c1dAjPrNS8elV9f4RalgQw8ZaM3LdOTY3BDYbFok8mvYZOvo56ODa4Hgs7dJgB4w1fzPJZhOLLSZPQfQB4E1VdWqS21Qnl82bNAxzP5u2WvZ42uXVRu8ZX9RBbVhAsA2tV+OSiT+2h9G6OP905BL/wNBj9XzgT4FjqurV891jNdcQtADmBo16Somhxu6GxNJWUP6WNsx+P9oQ+9eA/+xhGHGuMuJKxYU0bKybbngfvqqqfrRK+9uBk6tdLaY7w0HMk2lzOuf9ICbtWtBfop2L9BMT7X9Om67Q3WfubMaee72qxR7UXgesTTub9fET7YcAp1fVR0fs1diFvnusFsQE6R6D0KTehsSGybMfqqodh/sPp61i24j2e/ffVXXaaAUuAAt12FhzMwwlHkM7UfF767qLw+843N9muN/NaSVWNdZBTNrVN+5OO4B5dVV9YTjw3wH4RVV9v4cD6IVm0Qa1oRv4MGD3uu7izc8GLh9jqGSV2hZKj1XXIQi6DELdD4mlXYdy8uoNG9ImIS8Hbkcbnjh7rPp6ttCHjXXjkhxK+5z4h1XaNwFuW1U/znAt0nEq7NPQa/ayqto5yXNp4exZPQ5xLjSLOaidCBxb1537axva+awupa2GecKq3drzXF/3PVa9hSDoPwgttCGxVeaQbA3sWFUfGreqfi2WYWPNLm0l9ser6l7D/cnRjmXAHauTE333JsmbaVf8OXbolTyM9t73N1V1Vg+faQvVogxqSW5Nu5jqa6vqnKHtmbRzkb03yatpQ5/HjlxnVz1WvYegocZug9BCHRIbu+d2oXDYePFLO13SO2hnof/xzN/GcNAa4K20HucfjFpoZ5I8ALhNVX1+Yi74OrSTt19es5yjTHO3KIMaQJL/AKiqZ86y7VO0c2t9at4Lu34dXfVY9RyChvq6DUIOiS0NDhsvfkPP0Bk1XC94Inj8GfBvVXX/cSvsy/A59mba6TZOGxY0zFwDdQfawoYv01ai+t53MyzmoHZ72jywC4Djq+rUof3ZwB5V9bgRauq2x6rnEDTU03UQckhs6XHYeHFJsnNVfXlYNPB+2oHqC2k9aVfSTm77prFHYnqUdrqrnWlTiq5Z5W/jbsCuVfW2UYtcwBZVUBvCxfOAdYFf0M5+vC2wNe1CtefTgtJBVfWtEerrsseq9xA0vH63QcghsaXLYePFIe16ss8AvkG7LNRVtDnEDwC+T7vE3xlV9aLRiuxckk8Ab66qkyfaZk5229XpLhaaxRbUjgTWo4WOzWl/YB8D7koLbL8CvrRqCJmn2rrtseo5BMHCCEIOiUkL1zAC83DgvrT34s8DH6EdSIf2/nhpeVqJ60lyD2AZcAntMozbAU+r4ZQmWjMWTVAbjoheU1UPGu4/jnYR2H1rpDM0T9TWbY/VQghBsLCCkENi0sKRifN6DQfQj6ddI7OAk4GvVtWV41XYpyTb0s6k8Cng/rQT3e4G/Dft0lpfqxGvrrOYLKag9lTapMW9quq4YXnwScDDqup/xhyiWAA9VgsmBMHCCEIOiUn9S7I9bTHX2cDVwDq0g+q9gGuAhwDvpZ1BwL/nVSTZYDKMDSs9nwM8Bvge8OLq5Hq8C9miCWoAadfLPArYjPZH9qqq+liS9Udcqbg1C6DHasZCCEFgEJJ0yyXZDzgCWAnsTztAvQy4B+18m3cB/r2q3jJWjT1Ku7LOxVV1dpL1qup3Q/tdquqHw/nonlRVrx+zzsViUQW1GUnuQ1tV+VXgwLET/ULusZKkxWwYfXkncAfaVJkVQ/vGVXXpqMV1KO3KOq+iXUN71Svr7DczD1trzqIMatDCBrAPrYdt3i9OuzoLpcdKkpaStMsOHgt8k3bOr1HnNvcsN35lHa/nuQYt2qA2IyNdnPaG2GMlSf0ZDvCfTJvv3M0Bfo/S2ZV1FrNFH9QkSbopejzA701vV9ZZzNYZuwBJknoynI7DU3JMWM2Vdd41nMj94CSXjHVlncXOHjVJknSDer2yzlJgj5okSVqt4co6X6iq/Yb7q15Z52zalXUMaVNgj5okSZpVz1fWWSoMapIkaVa9X1lnKTCoSZKkP7DQrqyzWBnUJEnSrBbalXUWI4OaJEm6UV5ZZxwGNUmSNCdeWWf+GdQkSZI6tdbYBUiSJGl2BjVJkqROGdQkSZI6ZVCTJEnqlEFNkiSpUwY1SVqNJM9NcuuJ+ycm2WjEkiQtMZ6eQ9KSliS098JrZtn2E2B5Vf183guTJOxRk7QEJdk6yfeSHA18BzgiyelJzkrysmGfvwXuAHw+yeeHtp8k2XR4/DlJ3jE85jNJ/mjY50+TnJnkjCSvS/Kdsb5PSQufQU3SUrUN8Paquifw/KpaDtwHeGiS+1TVW4CfAQ+rqoet5vGHDo+/DHjS0P4u4JlVtT1w9ZS/B0mLnEFN0lL106r66nB77yTfAL4J3BPYbg6P/3FVnTHc/jqw9TB/bcOq+srQ/v41WK+kJWidsQuQpJH8GiDJnYEXAH9aVZcmeTew/hwef+XE7auBP1rjFUpa8uxRk7TU3YYW2i5Pshmwx8S2K4AN5/pEVXUZcEWSHYemfdZUkZKWJnvUJC1pVfWtJN8EvgucC3x5YvPhwKeT/Gw189Rmsz/wjiTXAF8ELl+jBUtaUjw9hyStQUk2qKpfDbcPBjavqr8buSxJC5Q9apK0Zj06yYtp768/BZ4+bjmSFjJ71CRJkjrlYgJJkqROGdQkSZI6ZVCTJEnqlEFNkiSpUwY1SZKkThnUJEmSOvX/Adf8zM+45vsvAAAAAElFTkSuQmCC\n",
      "text/plain": [
       "<Figure size 720x432 with 1 Axes>"
      ]
     },
     "metadata": {
      "needs_background": "light"
     },
     "output_type": "display_data"
    }
   ],
   "source": [
    "#Rating of shows and movies\n",
    "sns.countplot(netflix['rating']).set_xticklabels(sns.countplot(netflix['rating']).get_xticklabels(), rotation=60, ha=\"right\")\n",
    "fig = plt.gcf()\n",
    "fig.set_size_inches(10,6)\n",
    "plt.title('Rating')"
   ]
  },
  {
   "cell_type": "code",
   "execution_count": 18,
   "id": "5fd8a146",
   "metadata": {
    "execution": {
     "iopub.execute_input": "2023-11-07T06:31:44.918479Z",
     "iopub.status.busy": "2023-11-07T06:31:44.917393Z",
     "iopub.status.idle": "2023-11-07T06:31:44.940597Z",
     "shell.execute_reply": "2023-11-07T06:31:44.939318Z"
    },
    "papermill": {
     "duration": 0.04707,
     "end_time": "2023-11-07T06:31:44.943374",
     "exception": false,
     "start_time": "2023-11-07T06:31:44.896304",
     "status": "completed"
    },
    "tags": []
   },
   "outputs": [
    {
     "data": {
      "text/html": [
       "<div>\n",
       "<style scoped>\n",
       "    .dataframe tbody tr th:only-of-type {\n",
       "        vertical-align: middle;\n",
       "    }\n",
       "\n",
       "    .dataframe tbody tr th {\n",
       "        vertical-align: top;\n",
       "    }\n",
       "\n",
       "    .dataframe thead th {\n",
       "        text-align: right;\n",
       "    }\n",
       "</style>\n",
       "<table border=\"1\" class=\"dataframe\">\n",
       "  <thead>\n",
       "    <tr style=\"text-align: right;\">\n",
       "      <th></th>\n",
       "      <th>type</th>\n",
       "      <th>ratings_count</th>\n",
       "    </tr>\n",
       "    <tr>\n",
       "      <th>rating</th>\n",
       "      <th></th>\n",
       "      <th></th>\n",
       "    </tr>\n",
       "  </thead>\n",
       "  <tbody>\n",
       "    <tr>\n",
       "      <th>G</th>\n",
       "      <td>Movie</td>\n",
       "      <td>41</td>\n",
       "    </tr>\n",
       "    <tr>\n",
       "      <th>NC-17</th>\n",
       "      <td>Movie</td>\n",
       "      <td>3</td>\n",
       "    </tr>\n",
       "    <tr>\n",
       "      <th>NR</th>\n",
       "      <td>Movie</td>\n",
       "      <td>75</td>\n",
       "    </tr>\n",
       "    <tr>\n",
       "      <th>NR</th>\n",
       "      <td>TV Show</td>\n",
       "      <td>4</td>\n",
       "    </tr>\n",
       "    <tr>\n",
       "      <th>PG</th>\n",
       "      <td>Movie</td>\n",
       "      <td>287</td>\n",
       "    </tr>\n",
       "    <tr>\n",
       "      <th>PG-13</th>\n",
       "      <td>Movie</td>\n",
       "      <td>490</td>\n",
       "    </tr>\n",
       "    <tr>\n",
       "      <th>R</th>\n",
       "      <td>Movie</td>\n",
       "      <td>797</td>\n",
       "    </tr>\n",
       "    <tr>\n",
       "      <th>R</th>\n",
       "      <td>TV Show</td>\n",
       "      <td>2</td>\n",
       "    </tr>\n",
       "    <tr>\n",
       "      <th>TV-14</th>\n",
       "      <td>Movie</td>\n",
       "      <td>1427</td>\n",
       "    </tr>\n",
       "    <tr>\n",
       "      <th>TV-14</th>\n",
       "      <td>TV Show</td>\n",
       "      <td>730</td>\n",
       "    </tr>\n",
       "    <tr>\n",
       "      <th>TV-G</th>\n",
       "      <td>Movie</td>\n",
       "      <td>126</td>\n",
       "    </tr>\n",
       "    <tr>\n",
       "      <th>TV-G</th>\n",
       "      <td>TV Show</td>\n",
       "      <td>94</td>\n",
       "    </tr>\n",
       "    <tr>\n",
       "      <th>TV-MA</th>\n",
       "      <td>Movie</td>\n",
       "      <td>2062</td>\n",
       "    </tr>\n",
       "    <tr>\n",
       "      <th>TV-MA</th>\n",
       "      <td>TV Show</td>\n",
       "      <td>1143</td>\n",
       "    </tr>\n",
       "    <tr>\n",
       "      <th>TV-PG</th>\n",
       "      <td>Movie</td>\n",
       "      <td>540</td>\n",
       "    </tr>\n",
       "    <tr>\n",
       "      <th>TV-PG</th>\n",
       "      <td>TV Show</td>\n",
       "      <td>321</td>\n",
       "    </tr>\n",
       "    <tr>\n",
       "      <th>TV-Y</th>\n",
       "      <td>Movie</td>\n",
       "      <td>131</td>\n",
       "    </tr>\n",
       "    <tr>\n",
       "      <th>TV-Y</th>\n",
       "      <td>TV Show</td>\n",
       "      <td>175</td>\n",
       "    </tr>\n",
       "    <tr>\n",
       "      <th>TV-Y7</th>\n",
       "      <td>Movie</td>\n",
       "      <td>139</td>\n",
       "    </tr>\n",
       "    <tr>\n",
       "      <th>TV-Y7</th>\n",
       "      <td>TV Show</td>\n",
       "      <td>194</td>\n",
       "    </tr>\n",
       "    <tr>\n",
       "      <th>TV-Y7-FV</th>\n",
       "      <td>Movie</td>\n",
       "      <td>5</td>\n",
       "    </tr>\n",
       "    <tr>\n",
       "      <th>TV-Y7-FV</th>\n",
       "      <td>TV Show</td>\n",
       "      <td>1</td>\n",
       "    </tr>\n",
       "    <tr>\n",
       "      <th>UR</th>\n",
       "      <td>Movie</td>\n",
       "      <td>3</td>\n",
       "    </tr>\n",
       "  </tbody>\n",
       "</table>\n",
       "</div>"
      ],
      "text/plain": [
       "             type  ratings_count\n",
       "rating                          \n",
       "G           Movie             41\n",
       "NC-17       Movie              3\n",
       "NR          Movie             75\n",
       "NR        TV Show              4\n",
       "PG          Movie            287\n",
       "PG-13       Movie            490\n",
       "R           Movie            797\n",
       "R         TV Show              2\n",
       "TV-14       Movie           1427\n",
       "TV-14     TV Show            730\n",
       "TV-G        Movie            126\n",
       "TV-G      TV Show             94\n",
       "TV-MA       Movie           2062\n",
       "TV-MA     TV Show           1143\n",
       "TV-PG       Movie            540\n",
       "TV-PG     TV Show            321\n",
       "TV-Y        Movie            131\n",
       "TV-Y      TV Show            175\n",
       "TV-Y7       Movie            139\n",
       "TV-Y7     TV Show            194\n",
       "TV-Y7-FV    Movie              5\n",
       "TV-Y7-FV  TV Show              1\n",
       "UR          Movie              3"
      ]
     },
     "execution_count": 18,
     "metadata": {},
     "output_type": "execute_result"
    }
   ],
   "source": [
    "#grouped by rating and type\n",
    "show_rating= netflix.groupby(['rating','type'])[ 'rating'].count().reset_index(name='ratings_count')\n",
    "show_rating=show_rating.set_index('rating')\n",
    "show_rating"
   ]
  },
  {
   "cell_type": "code",
   "execution_count": 19,
   "id": "6eb805fb",
   "metadata": {
    "execution": {
     "iopub.execute_input": "2023-11-07T06:31:44.985733Z",
     "iopub.status.busy": "2023-11-07T06:31:44.984198Z",
     "iopub.status.idle": "2023-11-07T06:31:45.396017Z",
     "shell.execute_reply": "2023-11-07T06:31:45.394927Z"
    },
    "papermill": {
     "duration": 0.435794,
     "end_time": "2023-11-07T06:31:45.398500",
     "exception": false,
     "start_time": "2023-11-07T06:31:44.962706",
     "status": "completed"
    },
    "tags": []
   },
   "outputs": [
    {
     "data": {
      "image/png": "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\n",
      "text/plain": [
       "<Figure size 720x360 with 1 Axes>"
      ]
     },
     "metadata": {
      "needs_background": "light"
     },
     "output_type": "display_data"
    }
   ],
   "source": [
    "plt.figure(figsize=(10,5))\n",
    "sns.countplot(x='rating',hue='type',data=netflix)\n",
    "plt.title('Relation between Type and Rating')\n",
    "plt.show()"
   ]
  },
  {
   "cell_type": "code",
   "execution_count": 20,
   "id": "7a17fff5",
   "metadata": {
    "execution": {
     "iopub.execute_input": "2023-11-07T06:31:45.441503Z",
     "iopub.status.busy": "2023-11-07T06:31:45.440249Z",
     "iopub.status.idle": "2023-11-07T06:31:45.461005Z",
     "shell.execute_reply": "2023-11-07T06:31:45.459279Z"
    },
    "papermill": {
     "duration": 0.045598,
     "end_time": "2023-11-07T06:31:45.464290",
     "exception": false,
     "start_time": "2023-11-07T06:31:45.418692",
     "status": "completed"
    },
    "tags": []
   },
   "outputs": [
    {
     "data": {
      "text/html": [
       "<div>\n",
       "<style scoped>\n",
       "    .dataframe tbody tr th:only-of-type {\n",
       "        vertical-align: middle;\n",
       "    }\n",
       "\n",
       "    .dataframe tbody tr th {\n",
       "        vertical-align: top;\n",
       "    }\n",
       "\n",
       "    .dataframe thead th {\n",
       "        text-align: right;\n",
       "    }\n",
       "</style>\n",
       "<table border=\"1\" class=\"dataframe\">\n",
       "  <thead>\n",
       "    <tr style=\"text-align: right;\">\n",
       "      <th></th>\n",
       "      <th>type</th>\n",
       "      <th>title</th>\n",
       "      <th>duration</th>\n",
       "    </tr>\n",
       "  </thead>\n",
       "  <tbody>\n",
       "    <tr>\n",
       "      <th>0</th>\n",
       "      <td>Movie</td>\n",
       "      <td>Dick Johnson Is Dead</td>\n",
       "      <td>90 min</td>\n",
       "    </tr>\n",
       "    <tr>\n",
       "      <th>1</th>\n",
       "      <td>TV Show</td>\n",
       "      <td>Ganglands</td>\n",
       "      <td>1 Season</td>\n",
       "    </tr>\n",
       "    <tr>\n",
       "      <th>2</th>\n",
       "      <td>TV Show</td>\n",
       "      <td>Midnight Mass</td>\n",
       "      <td>1 Season</td>\n",
       "    </tr>\n",
       "    <tr>\n",
       "      <th>3</th>\n",
       "      <td>Movie</td>\n",
       "      <td>Confessions of an Invisible Girl</td>\n",
       "      <td>91 min</td>\n",
       "    </tr>\n",
       "    <tr>\n",
       "      <th>4</th>\n",
       "      <td>Movie</td>\n",
       "      <td>Sankofa</td>\n",
       "      <td>125 min</td>\n",
       "    </tr>\n",
       "    <tr>\n",
       "      <th>...</th>\n",
       "      <td>...</td>\n",
       "      <td>...</td>\n",
       "      <td>...</td>\n",
       "    </tr>\n",
       "    <tr>\n",
       "      <th>8785</th>\n",
       "      <td>TV Show</td>\n",
       "      <td>Yunus Emre</td>\n",
       "      <td>2 Seasons</td>\n",
       "    </tr>\n",
       "    <tr>\n",
       "      <th>8786</th>\n",
       "      <td>TV Show</td>\n",
       "      <td>Zak Storm</td>\n",
       "      <td>3 Seasons</td>\n",
       "    </tr>\n",
       "    <tr>\n",
       "      <th>8787</th>\n",
       "      <td>TV Show</td>\n",
       "      <td>Zindagi Gulzar Hai</td>\n",
       "      <td>1 Season</td>\n",
       "    </tr>\n",
       "    <tr>\n",
       "      <th>8788</th>\n",
       "      <td>TV Show</td>\n",
       "      <td>Yoko</td>\n",
       "      <td>1 Season</td>\n",
       "    </tr>\n",
       "    <tr>\n",
       "      <th>8789</th>\n",
       "      <td>TV Show</td>\n",
       "      <td>YOM</td>\n",
       "      <td>1 Season</td>\n",
       "    </tr>\n",
       "  </tbody>\n",
       "</table>\n",
       "<p>8790 rows × 3 columns</p>\n",
       "</div>"
      ],
      "text/plain": [
       "         type                             title   duration\n",
       "0       Movie              Dick Johnson Is Dead     90 min\n",
       "1     TV Show                         Ganglands   1 Season\n",
       "2     TV Show                     Midnight Mass   1 Season\n",
       "3       Movie  Confessions of an Invisible Girl     91 min\n",
       "4       Movie                           Sankofa    125 min\n",
       "...       ...                               ...        ...\n",
       "8785  TV Show                        Yunus Emre  2 Seasons\n",
       "8786  TV Show                         Zak Storm  3 Seasons\n",
       "8787  TV Show                Zindagi Gulzar Hai   1 Season\n",
       "8788  TV Show                              Yoko   1 Season\n",
       "8789  TV Show                               YOM   1 Season\n",
       "\n",
       "[8790 rows x 3 columns]"
      ]
     },
     "execution_count": 20,
     "metadata": {},
     "output_type": "execute_result"
    }
   ],
   "source": [
    "dsc= pd.DataFrame(netflix[['type','title','duration']])\n",
    "dsc"
   ]
  },
  {
   "cell_type": "markdown",
   "id": "f8af7572",
   "metadata": {
    "papermill": {
     "duration": 0.023195,
     "end_time": "2023-11-07T06:31:45.508928",
     "exception": false,
     "start_time": "2023-11-07T06:31:45.485733",
     "status": "completed"
    },
    "tags": []
   },
   "source": [
    "### **Contents added over the year**"
   ]
  },
  {
   "cell_type": "code",
   "execution_count": 21,
   "id": "bcb8a5df",
   "metadata": {
    "execution": {
     "iopub.execute_input": "2023-11-07T06:31:45.552169Z",
     "iopub.status.busy": "2023-11-07T06:31:45.551254Z",
     "iopub.status.idle": "2023-11-07T06:31:45.575006Z",
     "shell.execute_reply": "2023-11-07T06:31:45.574045Z"
    },
    "papermill": {
     "duration": 0.048506,
     "end_time": "2023-11-07T06:31:45.577800",
     "exception": false,
     "start_time": "2023-11-07T06:31:45.529294",
     "status": "completed"
    },
    "tags": []
   },
   "outputs": [
    {
     "data": {
      "text/html": [
       "<div>\n",
       "<style scoped>\n",
       "    .dataframe tbody tr th:only-of-type {\n",
       "        vertical-align: middle;\n",
       "    }\n",
       "\n",
       "    .dataframe tbody tr th {\n",
       "        vertical-align: top;\n",
       "    }\n",
       "\n",
       "    .dataframe thead th {\n",
       "        text-align: right;\n",
       "    }\n",
       "</style>\n",
       "<table border=\"1\" class=\"dataframe\">\n",
       "  <thead>\n",
       "    <tr style=\"text-align: right;\">\n",
       "      <th></th>\n",
       "      <th>year_added</th>\n",
       "      <th>type</th>\n",
       "      <th>release_count</th>\n",
       "    </tr>\n",
       "  </thead>\n",
       "  <tbody>\n",
       "    <tr>\n",
       "      <th>0</th>\n",
       "      <td>2008</td>\n",
       "      <td>Movie</td>\n",
       "      <td>1</td>\n",
       "    </tr>\n",
       "    <tr>\n",
       "      <th>1</th>\n",
       "      <td>2008</td>\n",
       "      <td>TV Show</td>\n",
       "      <td>1</td>\n",
       "    </tr>\n",
       "    <tr>\n",
       "      <th>2</th>\n",
       "      <td>2009</td>\n",
       "      <td>Movie</td>\n",
       "      <td>2</td>\n",
       "    </tr>\n",
       "    <tr>\n",
       "      <th>3</th>\n",
       "      <td>2010</td>\n",
       "      <td>Movie</td>\n",
       "      <td>1</td>\n",
       "    </tr>\n",
       "    <tr>\n",
       "      <th>4</th>\n",
       "      <td>2011</td>\n",
       "      <td>Movie</td>\n",
       "      <td>13</td>\n",
       "    </tr>\n",
       "    <tr>\n",
       "      <th>5</th>\n",
       "      <td>2012</td>\n",
       "      <td>Movie</td>\n",
       "      <td>3</td>\n",
       "    </tr>\n",
       "    <tr>\n",
       "      <th>6</th>\n",
       "      <td>2013</td>\n",
       "      <td>Movie</td>\n",
       "      <td>6</td>\n",
       "    </tr>\n",
       "    <tr>\n",
       "      <th>7</th>\n",
       "      <td>2013</td>\n",
       "      <td>TV Show</td>\n",
       "      <td>5</td>\n",
       "    </tr>\n",
       "    <tr>\n",
       "      <th>8</th>\n",
       "      <td>2014</td>\n",
       "      <td>Movie</td>\n",
       "      <td>19</td>\n",
       "    </tr>\n",
       "    <tr>\n",
       "      <th>9</th>\n",
       "      <td>2014</td>\n",
       "      <td>TV Show</td>\n",
       "      <td>5</td>\n",
       "    </tr>\n",
       "    <tr>\n",
       "      <th>10</th>\n",
       "      <td>2015</td>\n",
       "      <td>Movie</td>\n",
       "      <td>56</td>\n",
       "    </tr>\n",
       "    <tr>\n",
       "      <th>11</th>\n",
       "      <td>2015</td>\n",
       "      <td>TV Show</td>\n",
       "      <td>26</td>\n",
       "    </tr>\n",
       "    <tr>\n",
       "      <th>12</th>\n",
       "      <td>2016</td>\n",
       "      <td>Movie</td>\n",
       "      <td>251</td>\n",
       "    </tr>\n",
       "    <tr>\n",
       "      <th>13</th>\n",
       "      <td>2016</td>\n",
       "      <td>TV Show</td>\n",
       "      <td>175</td>\n",
       "    </tr>\n",
       "    <tr>\n",
       "      <th>14</th>\n",
       "      <td>2017</td>\n",
       "      <td>Movie</td>\n",
       "      <td>836</td>\n",
       "    </tr>\n",
       "    <tr>\n",
       "      <th>15</th>\n",
       "      <td>2017</td>\n",
       "      <td>TV Show</td>\n",
       "      <td>349</td>\n",
       "    </tr>\n",
       "    <tr>\n",
       "      <th>16</th>\n",
       "      <td>2018</td>\n",
       "      <td>Movie</td>\n",
       "      <td>1237</td>\n",
       "    </tr>\n",
       "    <tr>\n",
       "      <th>17</th>\n",
       "      <td>2018</td>\n",
       "      <td>TV Show</td>\n",
       "      <td>411</td>\n",
       "    </tr>\n",
       "    <tr>\n",
       "      <th>18</th>\n",
       "      <td>2019</td>\n",
       "      <td>Movie</td>\n",
       "      <td>1424</td>\n",
       "    </tr>\n",
       "    <tr>\n",
       "      <th>19</th>\n",
       "      <td>2019</td>\n",
       "      <td>TV Show</td>\n",
       "      <td>592</td>\n",
       "    </tr>\n",
       "    <tr>\n",
       "      <th>20</th>\n",
       "      <td>2020</td>\n",
       "      <td>Movie</td>\n",
       "      <td>1284</td>\n",
       "    </tr>\n",
       "    <tr>\n",
       "      <th>21</th>\n",
       "      <td>2020</td>\n",
       "      <td>TV Show</td>\n",
       "      <td>595</td>\n",
       "    </tr>\n",
       "    <tr>\n",
       "      <th>22</th>\n",
       "      <td>2021</td>\n",
       "      <td>Movie</td>\n",
       "      <td>993</td>\n",
       "    </tr>\n",
       "    <tr>\n",
       "      <th>23</th>\n",
       "      <td>2021</td>\n",
       "      <td>TV Show</td>\n",
       "      <td>505</td>\n",
       "    </tr>\n",
       "  </tbody>\n",
       "</table>\n",
       "</div>"
      ],
      "text/plain": [
       "    year_added     type  release_count\n",
       "0         2008    Movie              1\n",
       "1         2008  TV Show              1\n",
       "2         2009    Movie              2\n",
       "3         2010    Movie              1\n",
       "4         2011    Movie             13\n",
       "5         2012    Movie              3\n",
       "6         2013    Movie              6\n",
       "7         2013  TV Show              5\n",
       "8         2014    Movie             19\n",
       "9         2014  TV Show              5\n",
       "10        2015    Movie             56\n",
       "11        2015  TV Show             26\n",
       "12        2016    Movie            251\n",
       "13        2016  TV Show            175\n",
       "14        2017    Movie            836\n",
       "15        2017  TV Show            349\n",
       "16        2018    Movie           1237\n",
       "17        2018  TV Show            411\n",
       "18        2019    Movie           1424\n",
       "19        2019  TV Show            592\n",
       "20        2020    Movie           1284\n",
       "21        2020  TV Show            595\n",
       "22        2021    Movie            993\n",
       "23        2021  TV Show            505"
      ]
     },
     "execution_count": 21,
     "metadata": {},
     "output_type": "execute_result"
    }
   ],
   "source": [
    "#grouped by year_added and type\n",
    "release_year= netflix.groupby(['year_added','type'])[ 'type'].count().reset_index(name='release_count')\n",
    "release_year"
   ]
  },
  {
   "cell_type": "code",
   "execution_count": 22,
   "id": "7c6379df",
   "metadata": {
    "execution": {
     "iopub.execute_input": "2023-11-07T06:31:45.623161Z",
     "iopub.status.busy": "2023-11-07T06:31:45.622455Z",
     "iopub.status.idle": "2023-11-07T06:31:46.048938Z",
     "shell.execute_reply": "2023-11-07T06:31:46.047858Z"
    },
    "papermill": {
     "duration": 0.452924,
     "end_time": "2023-11-07T06:31:46.051765",
     "exception": false,
     "start_time": "2023-11-07T06:31:45.598841",
     "status": "completed"
    },
    "tags": []
   },
   "outputs": [
    {
     "data": {
      "text/plain": [
       "[Text(0.5, 0, 'year'),\n",
       " Text(0, 0.5, 'release_count'),\n",
       " Text(0.5, 1.0, 'release_per_year')]"
      ]
     },
     "execution_count": 22,
     "metadata": {},
     "output_type": "execute_result"
    },
    {
     "data": {
      "image/png": "iVBORw0KGgoAAAANSUhEUgAAAYwAAAEWCAYAAAB1xKBvAAAAOXRFWHRTb2Z0d2FyZQBNYXRwbG90bGliIHZlcnNpb24zLjUuMywgaHR0cHM6Ly9tYXRwbG90bGliLm9yZy/NK7nSAAAACXBIWXMAAAsTAAALEwEAmpwYAABRB0lEQVR4nO3dd3xT9f7H8VfSNN2bklJaNrKnINSCSLFFRqEs0auAuBAHIspVxC3CVXFcB14QWf5c7C2rjLJkyVAoexZoWrpb2rRpzu+PSLDM0CZN036ejwcP2zPfiW0+Pd9zvt+vSlEUBSGEEOI21I4OIIQQwjlIwRBCCGEVKRhCCCGsIgVDCCGEVaRgCCGEsIoUDCGEEFaRgiEqpSFDhjBv3jxHxxCiUpGCIYQQwipSMIRTMhqNjo7gUIqiYDKZqnwGUb6kYAinERUVxbRp04iNjaV169bs3r2bhx9+mHbt2tGnTx927Nhx033nz59Pjx49aN++PU8++STnz5+3rJswYQJdunShbdu29O/fn927d1vWHThwgP79+9O2bVvuvfdeJk2aZFm3b98+q89/xZAhQ/j0008ZOHAgbdu2ZeTIkWRmZlp1zCFDhvD555/z8MMP06pVK86dO3fDc/z222/079+/xLKZM2cycuRIAAoLC/noo4+4//77uffee3n77bcpKCgAICsrixEjRtCxY0fat2/PiBEjSE5OvuMMopJShHASXbt2Vfr06aNcuHBBSU5OVu655x5l48aNSnFxsbJlyxblnnvuUdLS0hRFUZTHHntMmTt3rqIoirJ27VrlgQceUI4fP64UFRUp33zzjTJ48GDLcRcvXqykp6crRUVFyvfff6/ce++9SkFBgaIoivLQQw8pixYtUhRFUXJzc5W9e/cqiqLc9vw389hjjymdOnVSjhw5ouTl5SkvvPCC8sorr1h1zMcee0zp0qWLcvToUaWoqEgpLCy84TkMBoPSvn175fjx45Zlffv2VVatWqUoiqJ8+OGHyogRI5SMjAwlJydHGTFihDJ58mRFURQlPT1dWbVqlXL58mUlJydHefHFF5WRI0eWyG9NBlE5yRWGcCpDhgyhRo0aLFmyhPvuu48uXbqgVquJjIykefPmbNq06bp9fvnlF5555hnq16+PRqPh2WefJTEx0XKV0bdvXwICAtBoNDzxxBMUFhZy6tQpADQaDWfPniU9PR0vLy9at24NcEfnv1bfvn2566678PT05KWXXmLVqlUUFxdbdcx+/frRsGFDNBoNrq6uNzy+VqulR48eLF26FIBjx45x/vx5unbtiqIozJ07lzfeeAN/f3+8vb0ZMWIEK1asACAgIIDu3bvj4eGBt7c3I0eOZNeuXSWOb00GUTlpHB1AiDtRo0YNAC5cuMCqVavYsGGDZZ3RaKRDhw7X7XPhwgUmTpzIRx99ZFmmKAp6vZ6aNWvy/fffM3/+fFJSUlCpVOTm5pKRkQHAhx9+yJdffkmPHj0ICwvjhRdeoGvXrnd0/pu9BoDQ0FCKiorIyMiw6pj/3PdW+vXrx5gxYxg9ejRLliyhR48eaLVa0tLSyM/PL9FkpfzjXkR+fj6TJk1i8+bNZGVlAZCXl0dxcTEuLi53lEFUPlIwhFNRqVSA+UOrb9++TJgw4bb71KhRg2effZY+ffpct2737t1Mnz6dWbNm0bBhQ9RqNe3bt0f5exDnOnXq8Nlnn2EymVizZg2jRo1ix44dd3T+a128eLHE166urgQEBFh1zCuv/3Zat26Nq6sru3fvZvny5UyePBkwX0G4u7uzYsUKdDrddfvNmDGDU6dOMXfuXIKDg0lMTCQuLs7yftxJBlH5SJOUcEp9+vRhw4YNbN68meLiYgwGAzt27Chxg/aKhx9+mGnTpnHs2DEAcnJy+O233wDzX88uLi4EBgZiNBr5+uuvyc3Ntey7ZMkS0tPTUavV+Pr6AqBWq+/o/NdaunQpx48fJz8/n//+9790794dFxeXMh3zRuLi4nj//ffRaDS0a9fOkn3QoEFMnDiRtLQ0APR6PZs3b7a8H25ubvj6+pKZmcnXX39dqnOLykkKhnBKNWrUYMqUKUydOpWIiAi6dOnC999/f8PHPKOjo3nqqacYM2YMbdu2pXfv3iQkJADQqVMnOnfuTPfu3YmKisLNza1Ek8vmzZvp1asXbdq04cMPP+Tzzz/H3d39js5/rb59+/L6668TGRlJYWEh48ePv+PXZI2+ffty7Nix666sxo4dS+3atXnooYdo27Ytjz/+uOWezbBhwzAYDHTs2JHBgwfTuXPnUp1bVE4qRZEJlIQoL0OGDKFPnz4MGjTI7ucqKCggIiKCRYsWUadOHbufT1R+coUhRCX1888/06JFCykWwmbkprcQNtamTZsbLv/uu+/K7Tz//ve/URSFb775xqbnFFWbNEkJIYSwijRJCSGEsEqlbZLat28fbm5upd7fYDCUaX9HcdbcINkdRbI7RkXNbjAYLCMaXKvSFgw3NzeaNGlS6v0TExPLtL+jOGtukOyOItkdo6JmT0xMvOk6aZISQghhFSkYQgghrCIFQwghhFUq7T2MGykqKiIpKckyWczttr1VW15FZY/c7u7uhIWFyVDWQlRxVapgJCUl4ePjQ506dW474mZ+fj4eHh7llMx2bJ1bURTS0tJISkqibt26NjuuEML5VKkmqYKCAoKCgmR45jugUqkICgqy6qpMiMrAZFJIzTFwPuMyqTkGTCbp23xFlbrCABnLvzTkPRNVhcmkcESfw9NzdpOUkU9YgAffDW1HI50ParX8HlSpKwwhhLiVtLxCS7EASMrI5+k5u0nLK3RwsorBrgVj3LhxRERE0Lt37+vWzZgxg0aNGpGeng6Y28onTJhAdHQ0sbGxHDx40LLtokWLiImJISYmhkWLFtkzss1lZ2fz448/OjqGEMIKhcZiS7G4Iikjn0JjsYMSVSx2LRj9+/dn+vTp1y2/ePEiW7duJTQ01LIsISGB06dPs2bNGj744APeffddAMusX3PnzmXevHl8/fXXlrmGnUF2djY///yzo2MIIaygAGEBJR8aCQvwwEWaowA7F4z27dvj5+d33fJJkyYxduzYEm3j8fHxxMXFoVKpaN26NdnZ2aSkpLBlyxYiIyPx9/fHz8+PyMhIy3SSzuDTTz/l7Nmz9O3bl1GjRrFu3TrLuldeeYV169axcOFCRo4cyZAhQ4iJiSkxLeaSJUsYOHAgffv25e2336a4WP7SEcIe0nINTFyRyMcDW1qKRliABx8NaMn7yw5xIjX3Nkeo/Mr9Hsa6deuoXr06jRs3LrFcr9cTEhJi+T4kJAS9Xn/dcp1Oh16vL7e8ZfXKK69Qq1YtlixZwmOPPcbChQsB87zSe/fu5f777wfgzz//5Msvv2Tp0qWsWrWKP//8kxMnTvDbb7/x888/s2TJEtRqNcuWLXPgqxGicsozGHli1i7WH0nB39OVRc9FsvW1rix6LhJ/T1d2nEon7putJBxNdXRUhyrXp6Ty8/OZOnUqM2bMsPu5DAbDdR3YioqKyM/Pv8keJSmKYvW2t1JQUIDJZCI/P58WLVpw6tQpzp8/T3x8PN26daOoqIjCwkI6dOiAu7s7iqLQtWtXfv/9dzQaDX/99Rf9+/e3vCZfX99b5rJV7muVR0fGgoICp+wsCZLdUWyRvahY4b31yfx5MZ+3uupQZV7gUubV9Wrg0wd1vLtez+Mzd/JM+yD6NPYt89ODzvi+l2vBOHv2LElJSfTt2xeA5ORk+vfvz7x589DpdCQnJ1u2TU5ORqfTodPp2Llzp2W5Xq/nnnvuue25bjRabWJiotWd2mzVAc7d3R21Wm05Vr9+/Vi7di0rVqxg0qRJeHh4oNVq0Wg0lm00Gg1arRa1Wk2/fv145ZVXrD6fvTocurq62n1kzYo6eqc1JLtjlDW7yaTwyrz97LmQz3/6t+Dhe2rdcLsmwIqWRkb/uo//7dSThRfv922Gq0vpG2kq6vteYUarbdSoEdu3b2f9+vWsX7+ekJAQFi5cSHBwMFFRUSxevBhFUdi3bx8+Pj5Ur16dTp06sWXLFrKyssjKymLLli106tSpPGOXiZeXF3l5eZbv+/fvz+zZswFo0KCBZfnWrVvJzMykoKCAdevW0bZtWyIiIli9ejVpaWmA+QGA8+fPl+8LEKIS+2jVYRbtPc8r0XfdtFhc4eWmYepjdzPy/vr8vPMsQ77fQUYVe9zWrlcYY8aMYefOnWRkZHDffffx4osvMmjQoBtu26VLFzZt2kR0dDQeHh5MnDgRAH9/f5577jkGDhwIwPPPP4+/v789Y9tUQEAAbdu2pXfv3nTu3JnXXnuNevXq8cADD5TYrmXLlrz44ovo9Xr69OlDixYtABg9ejRPPPEEJpMJV1dX3n77bWrWrOmIlyJEpTJ980mmJpxkaERtXohqcPsdALVaxWsPNuYunTevLfiTvt9s5fth7Wio87Fz2orBrgXjs88+u+X69evXW75WqVS88847N9xu4MCBloLhjD799FPL1/n5+Zw5c+a6vikhISFMmTLlun179uxJz5497Z5RiKpkyb7zTFiRSI/mIbwT2+yO70f0axNG7SAvnpmzh/5TtvHlv9rQtVF1O6WtOKSndznatm0bPXv25LHHHsPHp2r8RSJERbP5WCqvzttPh7qBfD64dan7WLStFcDSFyIJD/TkyVm7mL75JIpSucedqnJjSTnSvffey4YNG65b3r9/f8uTUEII+/kzKYtnf9hD/WBvpg1th7urS5mOF+rvwfyREYz5dT8TViRyVJ/DhLgWaDWV82/xyvmqhBDiGmfS8hg+ayf+nlpmP3EPfh62md/FU6thyqNtGRXVgLm7k3hs+g7Scg02OXZFIwVDCFHppeYYGDpjJ8UmhdlP3IPO192mx1erVYyJacSXj7Rhf1Imfb/ZypHkHJueoyKQgiGEqNRyDUaGz9qJPruA7x9vT4Pq3nY7V59WocwdEUGh0UT/KVtZd8h5RqWwhhQMIUSlVWg08ewPe0i8mMOUR9vStlaA3c/ZKtyfpS90ol6wN0//sJv/bTpRaW6GS8EoZ40aNeLVV1+1fG80GunYsSMjRowo1fF+/vlnFi9ebKN0QlQeJpPC2Pn72XL8Ev/p34KoxrpyO3eInztzR0TQs0UN/vPbYV6Ztx9DJRgiXZ6SuoXFe8/zyeojXMjMJ9Tfg7HdGxHXpmyd5jw9PTl27BgFBQW4u7uzdetWdLrS/yA/8sgjZcojRGU1cWUiS/ZdYGz3RgxqF17u5/fQuvD1I224q7oPn687yulLeUwd0o5gH7dyz2IrcoVxE8v+TGbcwj85n5mPApzPzGfcwj9ZvLfsQ3N06dKFjRs3ArBixQp69eplWZeZmclzzz1HbGwsDz30EIcPH8ZkMhEVFUV2drZlu5iYGC5dusRXX33F999/D5jH6nruuefo378///rXvzhx4kSZswrhjKYlnGD6llM8fm8dnru/vsNyqFQqXnqgId/8qy2HLmYT981WTqTkkppjwCMo1OnmDK+yVxgL9iQxd/e5m67fezaDwuKS/yPzi4r59/wD/Lzz7A33eahdOAPuDrvtuXv27MmUKVPo2rUrR44cYcCAAezZsweAr776iqZNmzJlyhS2b9/Oa6+9xpIlS4iKimLt2rUMGDCA/fv3ExoaSrVq1Uoc96233mLcuHE0btyY/fv389577zFnzpzb5hGiMlm0N4mJKw/Tq2UN3u7dtELMSd+rZQ1qB3ny+Zoj6LMLGDZzp1POGS5XGDdxbbG4utxU5mM3btyYpKQkli9fTpcuXUqs27Nnj2U034iICDIzM8nNzaVnz56sXLkSMF+VXDtcSF5eHnv37mXs2LGWyZZSU6v22P2i6tl0NJWx8w4QUS+Izx5qVaE+hJvX9OODfi3494IDTjtneJW9whhwd9gtrwbunbSOC1nXd76p6e/BryMiynz+qKgoPv74Y+bMmUNmZuZtt2/Tpg1nz54lPT2ddevWMXLkyBLrFUXB19eXuXPn2mV4cyEquv3nMhn5f3toqPNh6tC7cdOUrRe3PSiK4tRzhssVxk2M7lYfj2uGDfBwdWFs90Y2Of7AgQN5/vnnadSo5PHatWvH0qVLAdixYwcBAQF4e3ujUql44IEHmDRpEvXr1ycgoOTjgd7e3oSFhbFmzRrA/IN5+PBhm2QVoqI7dSmP4bN2EeilZfbw9vi626YXt61pNS43nDNcWwGL241IwbiJ2BYhTOrfgpr+HqgwX1lM6t+izE9JXRESEsLQoUOvW/7CCy9w8OBBYmNj+fTTT/nPf/5jWdezZ0+WLl1609FrP/nkExYvXkyfPn3o1atXifnDhaisUnIKGDpjBwBznriH6jbuxW1LQV5avhvarsSc4VOH3E2Ql9bByayjUipLj5Jr3Gg2qzuZ4cpeM9fZm71yl8fsYBV1BjJrSPbyZTIppOUVknO5gKSsQr5Zf5xxvZrQOtzf0dFu60r2rLwCTqTlczwll+e7WjcfR3m41c9Dlb2HIYRwTiaTwhF9Dk/P2W150mjKo21pHurn6GhWUatVBPu4cSnpJDtOKszcdor7GwXTzAnyS5OUEMKppOUVWooFmG8aP/fjH07zpNE/vfRAQwI8tby37JBTDB8iBUMI4VQKjcVO/aTRP/l5uPJqTCN2nkpnxZ8XHR3ntqRgCCGcirM/aXStwe3DaVLDl0krD5NfWLGLnl0Lxrhx44iIiCgxf/VHH33Egw8+SGxsLM8//3yJ4S6mTp1KdHQ03bt3Z/PmzZblCQkJdO/enejoaKZNm2bPyEKICk6tUvhoQMsSTxp9N7Sd0zxpdC0XtYp3Y5tyPjOfaQknHR3nluxaMPr378/06dNLLIuMjGT58uUsW7aMOnXqMHXqVACOHz/OihUrWLFiBdOnT+e9996juLiY4uJi3n//faZPn86KFStYvnw5x48ft2dsIUQF9sPvZ5m8+gg/P92RjWM6sei5SKcZWuNmOtQLolfLGny76TgXMvNvv4OD2LVgtG/fHj+/knf+O3XqhEZjfjirdevWJCcnAxAfH0+vXr3QarWEh4dTu3ZtDhw4wIEDB6hduzbh4eFotVp69epFfHy8PWPbTUZGBn379qVv375ERkbSuXNn+vbtS6NGjUpcUQHMmjWLd95557pjfPvtt/Tq1YvY2Fj69u3L/v37AXPP8fT09HJ5HUI4SlGxiZ92nMXXw5XwQE/y0y4Q7OPm1MXiinE9GqMoMOm3itvh1qGP1S5YsIAePXoAoNfradWqlWWdTqdDrzfPVhUSElJi+YEDB257bIPBQGJiYollRUVF5OdbV70VRcFweC2u697EMHgu6rSjlq/xrm7VMa7l7u7OL7/8Apg/+D09PRk2bBjz589n6dKltGvXzrLt8uXLGT16dIm8+/fvZ/369fz0009otVoyMjIsr8lkMlmGTLf2Nd6JoqKi695PWysoKLD7OexFspePhNO5pOQYeK69msTERKfKfq0bZR/QzJef9l/gvhoKzXUVrx+YwwrGt99+i4uLC3369LHL8d3c3G7Ycc/aTm2Gw2txWzAEjEV4rHgBzu8yf73jv9D7szLnc3V1xdXVFQ8PD2JjY5kyZQouLi5otVqSkpK4dOkSkZGRJUbazM7OJigoyHLV9s/XolarmT9/PvHx8ZhMJr744gvq169PZmYmb7zxBufOncPDw4P333+fxo0bExsby48//oiPjw8dO3Zk3LhxxMXF8e9//9tyBXRtXum4d3OSvXy8s2k74YEeDHngblzUKqfKfq0bZX+zvpENpzcx60AeS19og4sDrpxuVYAd8pTUwoUL2bhxI5MnT7Z8IOp0OkvzFJivOHQ63U2X28TMXjf+B7iuexOKCkAxwpktUJRv/vqP2XDx7yucvT9et19p+Pv707JlSxISEgBYuXIlPXr0uG5Y5sjISC5evEj37t1599132blzZ4n1AQEB/PLLLzz88MPMmDEDuDpc+rJly3j55Zd57bXXAPNghn/88QfHjh0jLCyM3bt3A7Bv3z7atGlT6tcihL0kXsxm5+l0hnSs7ZAP0vLgqdUwrmcTDl7IZt4tpl9wlHIvGAkJCUyfPp1vv/22xF/IUVFRrFixgsLCQs6dO8fp06dp2bIlLVq04PTp05w7d47CwkJWrFhBVFSU3XMaBv8KvqGgUoPy95DmKjUE2qcLf69evUoMX/7PSZWu8PLyYuHChbz//vsEBgby8ssvs3DhQsv6mJgYAJo3b8758+aJnm42XHq7du3YtWsXu3bt4pFHHuHo0aPo9Xp8fX3x9PS0y2sUoizmbD+Dm0bNQw6YPa88xbasQbvaAXyy+gjZBUWOjlOCXZukxowZw86dO8nIyOC+++7jxRdfZNq0aRQWFjJ8+HAAWrVqxfvvv0/Dhg3p0aMHPXv2xMXFhbfffhsXF/Nz1W+//TZPPfUUxcXFDBgwgIYNG9om4PAVN12lTjsG+elXiwWAWgN1IqFGS/P3bR41/7OBbt26MWnSJA4ePEhBQQHNmze/4XYuLi506NCBDh06cNddd7F48WL69+8PmJuNwNw8VVx86+e527dvz08//cTFixd5+eWXWbduHatWrSpxH0WIiiIrv4jFe8/Tt3Uo/p7O+fistVQqFe/ENqPPN1v4Kv4Y43s1dXQkC7sWjM8+u76tf9CgQTfdfuTIkdfN8wDmKU2vnWjI3lzXvQnGv6u7xgOUYiguhEOLbXIP41peXl506NCBN95444ZXFwAnT55ErVZTp04dwNzWGBoaesvjXhku/fnnny8xXLq3tzcZGRkUFhYSHh5O27ZtmTFjBm+99ZatX5oQZTZ/TxL5RcUMjajj6CjlokWYHw/dHc7Mrad5+J5a1A/2dnQkQHp635Rh8Fy4exh4BkG//0GbIeavB82y2zl79+7N4cOHb1owLl++zOuvv07Pnj2JjY3lxIkTvPDCC7c85q2GS2/ZsiV169YFzIVFr9dz99132+4FCWEDJpPCD9tP07aWP81rVvwB+mzl1e6N8HB1YcLyQ46OcpVSSR06dMiqZTdz+fJlW8YpN/bKfSfvXUU+h71IdvvZeCRFqf3acmXx3qTr1lX07LdiTfZpm04otV9brqxP1JdDIrNb5ZIrDCFEhTZn22mqeWt5sHnI7TeuZIbdW4e61bz4YMUhCo2m2+9gZ1IwhBAV1rn0y6w/ksIj99SqkHN025tWo+at3k04mZrHnO2nHR2n6hUMxQnGnK9o5D0TjvJ/v59BrVLxrw61HB3FYaIa67i/UTD/XXeMS7kGh2apUgXD3d2dtLQ0+QC8A4qikJaWhrt7xZ0nWVROBUXF/Lr7HDFNddTwq3jDZJSnN3s1Jb+omE/XHHFojio1RWtYWBhJSUmkpqbedtuioiJLvwZnYo/c7u7uhIWF2fSYQtzO0v0XyLxcVGUepb2VBtW9GXZvHWZsPcWjHWo77GmxKlUwXF1dLY+R3o6zjlHjrLmF+CdFUZiz/TR36bzpWC/Q0XEqhFHdGrJ473neX3aIX0d0vG7ooPJQpZqkhBDOYe+5TP46n82QiDoO+WCsiPw8XHm1eyN2nk5n+QHHTOcqBUMIUeHM2XYabzcN/drUdHSUCuWhduE0reHLpJWJDpnOVQqGEKJCSc0xsPLPZAbeHYa3W5VqNb8tF7WKd2KbciGrgKkJJ8r9/FIwhBAVyq+7zlJYbOKxjrUdHaVCujKd6/82neB8OU/nKgVDCFFhGItN/LjjLJ0aVKNB9Yox4F5F9EbPJubpXFeW72yDUjCEEBXGukQ9F7MKGBohVxe3UtPfg2e71Gf5gYvsPJVebueVgiGEqDBmbztDTX8PujWx0ayaldizXepTw8+d95YdpNhUPp2RpWAIISqEY/octp9M49GOtSrtFKy25KF1KffpXKVgCCEqhDnbz6DVqBlcyadgtaXYljVoX8c8nWtWvv2nc5WCIYRwuJyCIhb+kUTvljUI8nZzdByncWU61/TLhXwVf8zu55OCIYRwuIV/nCevsJhhMm7UHWte04/B7cKZte00J1Jz7XouuxaMcePGERERQe/evS3LMjMzGT58ODExMQwfPpysrCzAPHbMhAkTiI6OJjY2loMHD1r2WbRoETExMcTExLBo0SJ7RhZClLMr40a1CvenVbi/o+M4pSvTuX5g5+lc7Vow+vfvz/Tp00ssmzZtGhEREaxZs4aIiAimTZsGQEJCAqdPn2bNmjV88MEHvPvuu4C5wHz99dfMnTuXefPm8fXXX1uKjBDC+W07kcaJ1DyGSke9Uqvm7cZLDzQk63IRx1NyOZ9xmdQcAyYbPz1l14LRvn17/PxKDsMbHx9PXFwcAHFxcaxbt67EcpVKRevWrcnOziYlJYUtW7YQGRmJv78/fn5+REZGsnnzZnvGFkKUo9nbThPopaVXyxqOjuLUhnSszWs9GvP4zJ1EfrSBflO2ckSfY9OiUe4DtaSlpVG9enUAgoODSUtLA0Cv1xMScnXO3pCQEPR6/XXLdToder3+tucxGAwkJpa+F2RBQUGZ9ncUZ80Nkt1RHJk9JdfIukQ9A5v5c+r40TveX973q7yCQnh13n6SMszDhSRl5PP0nN38NLwNeWnJNjmHQ0f2UqlUdhu62M3NrUzzQjjrvBLOmhsku6M4MvuyVYcBGNWrDWEBnne8v7zvV53PuGwpFlckZeTj4npnn4W3KmLl/pRUUFAQKSkpAKSkpBAYaJ4cRafTkZx8tQomJyej0+muW67X69HppBeoEM6uoKiYX3ad44EmulIVC1GSVuNCWEDJqWzDAjzQalxsdo5yLxhRUVEsXrwYgMWLF9OtW7cSyxVFYd++ffj4+FC9enU6derEli1byMrKIisriy1bttCpU6fyji2EsLGVf14kPa9QpmC1kSAvLd8NbWcpGmEBHnw3tB1BXlqbncOuTVJjxoxh586dZGRkcN999/Hiiy/yzDPPMHr0aObPn09oaChffPEFAF26dGHTpk1ER0fj4eHBxIkTAfD39+e5555j4MCBADz//PP4+/vbM7YQohzM3n6GesFeRDYIcnSUSkGtVtFI58Oi5yIpNBaj1bgQ5KVFbcNhVuxaMD777LMbLp89e/Z1y1QqFe+8884Ntx84cKClYAghnN/+c5nsP5fJu7FNZQpWG1KrVQT72K+nvPT0FkKUuznbz+CldWHA3WGOjiLugBQMIUS5Ss8rZNmBC/RvG4aPu6uj44g7YHXB+O2336xaJoQQt/LrrnMUGk0MkUmSnI7VBePKEB63WyaEEDdTbFL4v9/PEFEviLt0Po6OI+7QbW96b9q0iYSEBPR6PRMmTLAsz83NxcXFds/3CiEqv/WHUzifmc+bvZyzs11Vd9uCodPpaN68OevXr6dZs2aW5V5eXowbN86u4YQQlcuc7aep4edOdFPpfOuMblswGjduTOPGjenduzeurnKDSghROidSc9l87BKvxtyFxkWet3FGVvfDOHDgAF9//TUXLlzAaDSiKAoqlYr4+Hh75hNCVBI/bD+Dq4uKwe1rOTqKKCWrC8b48eMZN24czZs3R62Wvw6EENbLMxhZsCeJXi1q2LVjmbAvqwuGj48PXbp0sWcWIUQltWjveXIMRobIuFFOzeqC0aFDBz766CNiYmLQaq8OZvXPG+FCCHGtK1OwNq/pS9ta/o6OI8rA6oKxf/9+AP766y/LMpVKxZw5c2yfSghRaew4lc5RfS4fD2wp40Y5OasLxg8//GDPHEKISmrO9tP4e7rSp1Woo6OIMrK6YHz99dc3XP7CCy/YLIwQonK5mJXP6oN6nupUF3dX6ejr7KwuGJ6eV2fEMhgMbNy4kXr16tkllBDCuZlMCml5hWTkFTHl0ba0DPNzdCRhA1YXjCeeeKLE908++SRPPvmkzQMJIZybyaRwRJ/D03N2k5SRb5n5TefjbtPJfET5K3WHivz8/BJzbQshBEBaXqGlWAAkZeTz9JzdpOUVOjiZKCurrzBiY2MtX5tMJtLT03n++eftEkoI4bwKjcWWYnFFUkY+hcZiByUStmJ1wfjf//53dSeNhqCgIDQau87wKoRwQlqNC2EBHiWKRliAB1qN3PR2dlY3SdWsWZOcnBw2bNjA2rVrOX78eJlOPGvWLHr16kXv3r0ZM2YMBoOBc+fOMWjQIKKjoxk9ejSFheZL2MLCQkaPHk10dDSDBg0iKSmpTOcWQthPkJeWbx9tS1iAB4DlHkaQl/Y2e4qKzuqCMXv2bF599VXS0tJIS0tj7Nixpe6bodfrmTNnDgsWLGD58uUUFxezYsUKJk+ezOOPP87atWvx9fVl/vz5AMybNw9fX1/Wrl3L448/zuTJk0t1XiGE/anVKvaey+Ct3k3Z/O+uLHoukkY6H7nhXQlYXTDmz5/P3Llzeemll3jppZf49ddfmTt3bqlPXFxcTEFBAUajkYKCAoKDg/n999/p3r07AP369bOMhLt+/Xr69esHQPfu3dm+fTuKopT63EII+/ppxzlmbDlFeKAnwT5uUiwqiTu6CfHPGfbKMtueTqfjiSeeoGvXrri5uREZGUmzZs3w9fW13BcJCQlBr9cD5iuSGjVqmANrNPj4+JCRkUFgYOBNz2EwGEhMTCx1xoKCgjLt7yjOmhsku6PYOvulPCOHk3N44u5Au78n8r6XL6sLRv/+/S33FwDWrVvHgAEDSnXSrKws4uPjiY+Px8fHh5deeonNmzeX6lg34+bmRpMmpZ8GMjExsUz7O4qz5gbJ7ii2zv7LzrMADO7cnEYh9p23W95327tVEbO6YAwfPpx77rmHPXv2ADBp0iSaNm1aqkDbtm0jLCzMcoUQExPDH3/8QXZ2NkajEY1GQ3JyMjqdeRpHnU7HxYsXCQkJwWg0kpOTQ0BAQKnOLYSwrw1HUgj1c+cunbejowgbs/oexr59+6hduzZDhw5l6NCh1KpVyzKC7Z0KDQ1l//795OfnoygK27dvp0GDBnTo0IHVq1cDsGjRIqKiogCIiopi0aJFAKxevZqOHTvKqJdCVECFRhNbjl2iS6Pq8jtaCVldMN599128vLws33t6evLuu++W6qStWrWie/fu9OvXj9jYWEwmE4MHD2bs2LHMnDmT6OhoMjMzGTRoEAADBw4kMzOT6OhoZs6cyauvvlqq8woh7Gv3mXTyCovp2ijY0VGEHVjdJHVlDu8r1Go1RqOx1CceNWoUo0aNKrEsPDzc8ijtP7m5ufHll1+W+lxCiPKx8Ugqri4qIhtUc3QUYQdWX2GEh4czZ84cioqKKCoqYvbs2YSHh9szmxDCyWw4nEKHukF4uckoEJWR1QXjvffeY+/evdx333106dKFAwcO8MEHH9gzmxDCiSRlXOZYSi73S3NUpWX1nwFBQUF8/vnnN10/depURowYYZNQQgjns/FIKgD3N6ru4CTCXko9vPm1Vq1aZatDCSGc0MYjKYQHelA/2Ov2GwunZLOCIUN1CFF1FRQVs/V4Gl3lcdpKzWYFQ35IhKi6dp5KJ7+oWO5fVHJyhSGEKLONR1LRatRE1JPHaSszmxWMBx980FaHEkI4mY1HUoioF4SHViZJqsysLhinTp1i2LBh9O7dG4DDhw8zZcoUy/pnn33W9umEEBXe6Ut5nLyUJ727qwCrC8Zbb73FK6+8Yhl+vHHjxqxcudJuwYQQzmHjkRRAHqetCqwuGPn5+bRs2bLEsrLMiSGEqBw2Hk2lbjUv6lSTx2krO6sLRkBAAGfPnrU8DbVq1SqCg+USVIiqLL+wmO0n0uTpqCrC6p7e77zzDm+99RYnT56kc+fOhIWF8cknn9gzmxCigvv9ZBoGo4mu0hxVJVhdMMLDw5k1axaXL1/GZDLh7S2TowhR1W04koKHqwv31L35dMmi8rC6SWr27Nnk5ubi4eHBpEmT6NevH1u2bLFnNiFEBaYoChuPpHJv/SDcXeV+ZlVgdcFYsGAB3t7ebNmyhczMTD7++GM+/fRTe2YTQlRgJy/lcTb9Mvc3luaoqsLqgnGlJ/emTZuIi4ujYcOG0rtbiCpsw+G/H6e9S254VxVWF4zmzZvzxBNPkJCQQKdOncjNzUWttllHcSGEk9l4JJUG1b0JD/R0dBRRTqy+6f3hhx+SmJhIeHg4Hh4eZGRkMHHiRHtmE0JUUHkGIztPpTPs3tqOjiLKkdUFQ61WExYWxunTpzEYDGU+cXZ2Nm+++SZHjx5FpVIxceJE6taty8svv8z58+epWbMmX3zxBX5+fiiKwocffsimTZtwd3fnP//5D82aNStzBiFE6Ww7kUZhsTxOW2r5mVdH+M7PBA9/R6axmtVtSvPmzeOxxx7jySef5Msvv+TJJ5/kq6++KvWJP/zwQzp37syqVatYsmQJ9evXZ9q0aURERLBmzRoiIiKYNm0aAAkJCZw+fZo1a9bwwQcf8O6775b6vEKIsttwJAUvrQvt6lTSx2nzM2/8tS1knYcDc6ke6Gf5msLLtj2HnVhdMObMmcP8+fMJDQ3lhx9+YNGiRfj6+pbqpDk5OezatYuBAwcCoNVq8fX1JT4+nri4OADi4uJYt24dgGW5SqWidevWZGdnk5KSUqpzCyHKRlEUNh5OIbJBNbSaSngf88qHeFFByQ90U7F5mfHvFpZiI2RfhMxzkH4SLh0D/SFIPXr1WGd3wMmNcGwdHFkFl45D4lJY/wF+mQdhdm/YMwOKnKNgWN0kpdVqcXNzA6CwsJD69etz6tSpUp00KSmJwMBAxo0bx+HDh2nWrBnjx48nLS2N6tXNl7jBwcGkpaUBoNfrCQkJsewfEhKCXq+3bHsjBoOBxMTEUuUDKCgoKNP+juKsuUGyO8qdZj+TUciFrAIGNvV2+Gu29fseHuyL5/FlqDd8iMkvHPWaN0DjhlK9MarZsQCkNxiA/u6xaLNOUn/Vv647hsG3Did7/AJAw8WD0Rgyrq7UuEHUWxQPmIHLTwMAMD6zhbP6bAyGVJu9DnuxumCEhISQnZ3NAw88wPDhw/H19SU0NLRUJzUajRw6dIi33nqLVq1aMWHCBEvz0xUqlapMs/i5ubnRpEmTUu+fmJhYpv0dxVlzg2R3lDvNnrDpBACP3N+SGn4e9oplFZu/74oCbnEQ3Aj1D3HmZU/Fozr/B3QdD2oXAmu0JrBBE8gPAc3noHYFtQZcXEHtgpu7H03q/53J82dAMa9Xa8DVE1w9cLlybECz7wfqtRgEddtBBZi59FYF2OqC8c033wDw4osv0qFDB3JycujcuXOpAoWEhBASEkKrVq0A8+RL06ZNIygoiJSUFKpXr05KSgqBgeb2UZ1OR3JysmX/5ORkdDpdqc4thCibDUdSaBzi4/BiYRe7pkNoa1gx5uqyQ0vg/nGgvebxYY8AaPfErY9XO6Lk9/mZcOBX0LhhfGYLmj9/hjPboElv+K4rPPAu1Lu/7K/DTu6oAXL37t0sWLCAe+65hzZt2qDX60t10uDgYEJCQjh58iQA27dvp379+kRFRbF48WIAFi9eTLdu3QAsyxVFYd++ffj4+NyyOUoIYR85BUXsPp1ROee+2PkdeAXDuZ3mpqOR2+HeUXB6s+3uMXj4Q5shMGw5Zwu8oOub8Oh8cyHJTYU5fSH+A9ucyw6svsL4+uuv+euvvzh16hQDBgygqKiIsWPH8ssvv5TqxG+99RavvvoqRUVFhIeHM2nSJEwmE6NHj7bcXP/iiy8A6NKlC5s2bSI6OhoPDw/p/yGEg2w9fgmjSal8s+sdmAsrX4XGfaDft9ByMHhVM19ZFL1k/tpWtJ6g9TTfs/j7a5r2gYYxsPt7qB1p3u7iAdB6QVB92527jKwuGGvXrmXx4sX069cPMDcT5eXllfrETZo0YeHChdctnz179nXLVCoV77zzTqnPJYSwjQ2HU/Fx19C2doCjo9jOkVWw6Fmo0xkGfAeu7uD292jcVz7Qy4OrO0Q8f/X71W/A2e3Qdih0eQ18Qm6+bzmxuknK1dW1xI3oy5ed4zEwIYRtKIrChiMp3NcwGFeXSvQ4rdYL6kTCwz+ZP7QrioEz4O7h8Mcc+G9rWPee7fuE3CGr/6/36NGDt99+m+zsbObOncvw4cN56KGH7JlNCFGBHLqYTUqOgS6VpTkq8yyYTFC3MwxdCu6l61dmN97VoddkeGEXNO4FWz6DGQ+an+RyEKubpJ588km2bt2Kl5cXp06dYtSoUURGRtozmxCiAtl4xNxPoFKMTnvpmPnDt/UjEDOhQjzOelOB9WDg9xD5EuQkm7PmpsDR1dDqEXCx+mO8zO7oTJGRkVIkhKiiNh5JoXlNX6r7VqBmm9LIPAdz4swfvHcPd3Qa69Voaf4HsO8nWPcObPsKur0FjXuXS9G7bcFo06bNDTvQKYqCSqXijz/+sEswIUTFkXW5iD1nMni+awNHRymb3FT4IQ4MOfD48gr1BNIdiXzJnD3+ffj1MajZztyHo27nkoMZ2nhgw9sWjL1799rsZEII55RwLBWTAvc78/2Lgiz4v/7m8aGGLLr617ozUqmgSSzc1QP2/wQbJsGyl2DoYvNTX22HwuU0OLwC2jxmsye97qhJavfu3Zw5c4YBAwaQnp5OXl4e4eHhNgkihKi4Nh5Jxd/TldbhTvw4ranYPDTH4B+u74HtrFw05uLQYhBkX4Ajv8H6CVCtobm3usYNmvcv/4Jh6457QgjnYDIpbDpqfpzWRV2Bbw7fjLHQfHXhHQxPrKrYN7hLy9XD3ETlWxOq3WVudgNzb3Ubdjq0+rHatWvX8u233+LhYR4/pqwd94QQzuGvC1lcyi2ka2MnbI4yFcPiZ+H7aCjMq5zF4p8up5UcB2v/zzada0M67gkhbmnD4VRUKrivoZMVDEWBlWPhrwVw9zBzB73KLD8TDi+33zhYWNkkpSgK999/f4mOewsWLJCOe0JUARuPptAyzJ8gbzdHR7kz6yeYx2aKfAk6vezoNPZ3ZWDD5gPsNg6WVQVDpVKxevVqXn/9dem4J0QVkp5XyL5zmbzUraGjo9yZbV/B5snQdhg88J6j05Sff459ZYdxsKy+6d20aVN8fHx47bXXbBpACFFxJRxNRVGgq7MNZ56fCU3joPfnlf++RTmyumDs37+fZcuWERoaarnxDbBs2TK7BBNCON6GIykEeWlpUdPP0VGsk3fJ3ATT7S3zDW+1i6MTVSpWF4zvv//enjmEEBVMsUkh4WgqXRtVR+0Mj9OeWA+/PAYPzYGGD0ixsAOrC0bNmjXtmUMIUcHsT8ok43IR9zd2guaoczvhl0fNA/WF3e3oNJVWJRrUXghhSxsPp6BWwX0NbTjbnD3oD8KPA80TDD220DzXtrCL8hsXVwjhVDYcSaVNrQD8PbWOjnJj+Zlo8y7A1v9A3P9A1wx8dI5OVak59AqjuLiYuLg4RowYAcC5c+cYNGgQ0dHRjB49msLCQgAKCwsZPXo00dHRDBo0iKSkJEfGFqLSS80x8Of5rIo7d3fWeTgwl+Dg6tDjI8g6B14VNGsl4tCCMWfOHOrXvzq88OTJk3n88cdZu3Ytvr6+zJ8/H4B58+bh6+vL2rVrefzxx5k8ebKjIgtRJWw6+vdkSRXxcdq8S3BoCaz/AC+DHhY8CXtm2rRHs7gxhxWM5ORkNm7cyMCBAwFzb/Lff/+d7t27A9CvXz/i4+MBWL9+Pf369QOge/fubN++HcWB0xQKUdltOJJCdR83moVWkGlLi4vMw3bPHQb/bQNKMQz4DpefBkD6SRgww6Y9msWNOewexsSJExk7dqxlAMOMjAx8fX3RaMyRQkJC0Ov1AOj1emrUqAGARqPBx8eHjIwMAgMDb3p8g8FAYmJiqfMVFBSUaX9HcdbcINkd5drsxSaFTYf1RNTy5PDhww5MZuaTtIGQ3R+jMWRgdPMnt/kQvBv2QPPzIMs2pn0/ktrsadJz8h2Y9M4448+MQwrGhg0bCAwMpHnz5uzYscMu53Bzc6NJkyal3j8xMbFM+zuKs+YGye4o12bfdTqd3MJT9OtwF02a1Cj/QNkX4c+5EFAXmvYB33xI7wSt/oWmwQP4F12GA7+Cxg3jM1vQ/DUX9enN6Dq9jC6sTvnnLaWK+jNzqyLmkILxxx9/sH79ehISEjAYDOTm5vLhhx+SnZ2N0WhEo9GQnJyMTmd+4kGn03Hx4kVCQkIwGo3k5OQQECCPzglhDxsOp+CiVtGpPB+nLbxsnh1u/89wcgMoJmj3hLlg1GwLg//v6rYarWWQvbP6bOrZYZA9cWMOuYfxyiuvkJCQwPr16/nss8/o2LEjn376KR06dGD16tUALFq0iKioKACioqJYtGgRAKtXr6Zjx443nGdcCFF2G46k0q52AL7uruVzwtSjMLkhLHwKLh2Fzq/AC3vM40DdjNYTvKphMBgsXwv7q1Ad98aOHcvMmTOJjo4mMzOTQYPMbZQDBw4kMzOT6OhoZs6cyauvvurgpEJUTslZBSRezLbv01GXjpuHHl86yvx9UAPzFcOw5fDSAYh6E6o1sN/5Rak5vONehw4d6NChAwDh4eGWR2n/yc3NjS+//LK8owlR5Ww6mgJgm9n18jPNczSA+VHYxGWw70dI2gUqNTR44OoAgT3+U/bzCbtzeMEQQlQcGw6nUsPPnUY6n7IdKOu8+Z5E26HmaUMPLoKMU+ZpUqM/gBaDwNcBN9RFmUjBEEIAUGg0seX4JWJbhZbtHuGVqULXT4Cg+rDyVfO0oY/Oh56TZX4KJyYFQwgBwO4z6eQajNxf1uFA3HzALxz6fAX/19+8bOR28Asre0jhUBXqprcQwnE2HUnF1UVFZIMyPHFkMkH8++AdDPH/mBp1/8/mR2eFU5OCIYQAzMOB3FM3EG+3UjY8KAqsfAVC28C5XeZmqJHb4d5RcHqzjPVUCUiTlBCCpIzLHNXn8lC78NIf5NBi2D0DPIOg0xho+ZC5f4R0rKs0pGAIIdh45MrotGW4f9E0ztwju3Fv841trad5udbz6tfCqUmTlBCCjUdSCQvwoH6w953vnDAZjsebi0STWHkKqhKTgiFEFVdYrLD1+CW6Nqp+54/Tbv4M1n9g7pQnKj0pGEJUcX/p88kvKr7z3t3bp5ifhGoxCHp9ap9wokKRgiFEFbcr6TJajZqIendwU3rXdFg9Dpr0Mc+nrXaxX0BRYUjBEKKK230+n471gvDQWvmhn30BVo+Hu3rAgO/BRZ6dqSrk/7QQVZTJpHAhK59PH74bb3cNJpOCWm3FPQzfUHh8Beiam+emEFWGFAwhqiCTSeGIPoen5+wmKSOfsAAPvhvajkY6n5sXjYOLzB3yun8IYe3KN7CoEKRJSogqKC2v0FIsAJIy8nl6zm7S8gpvvMPhlbDgKTi/B4wF5ZhUVCRSMISoggqNxZZicUVSRj6FxuLrNz6+DuYNgxqt4NF54OpRTilFRSMFQ4gqqKDIRFhAyQ/+sAAPtJprbnyfSoBfHoXgRvDYAnD3LceUoqKRgiFEFXM4OZs3F//J5EGtLEXjyj2MIK9/3MRWFFj7DgTUhSGLwSPAMYFFhSE3vYWoQvTZBTwxcxfFikK9YC8WPRdJXn4BXh7uBHlpr97wVhTzEB//mguKSQYOFICDrjAuXrzIkCFD6NmzJ7169WL27NkAZGZmMnz4cGJiYhg+fDhZWVkAKIrChAkTiI6OJjY2loMHDzoithBOLc9g5MnZu8jML+L7Ye2p7uNOsI8b+WkXCPZxu1osLu6HWb0hN9U8r4WPzrHBRYXhkILh4uLC66+/zsqVK/n111/56aefOH78ONOmTSMiIoI1a9YQERHBtGnTAEhISOD06dOsWbOGDz74gHfffdcRsYVwWsUmhVE/7+XQhWy++Vdbmtf0u/GG+kMwJw4yz4Ax/8bbiCrLIQWjevXqNGvWDABvb2/q1auHXq8nPj6euLg4AOLi4li3bh2AZblKpaJ169ZkZ2eTkpLiiOhCOB1FUXh/2UHiD6fwXt/mdG1c/cYbph6FOX3MEx8NWwr+tco3qKjwHH4PIykpicTERFq1akVaWhrVq5t/mIODg0lLSwNAr9cTEhJi2SckJAS9Xm/Z9kYMBgOJiYmlzlVQUFCm/R3FWXODZLeXRYeymL0rjf5N/Wjnd/m6nAUFBRzftZba60eiMhk5E/UVhXoD6Cvm6/mnivy+344zZndowcjLy2PUqFG88cYbeHuXHIdfpVLd+VDL/+Dm5kaTJk1KvX9iYmKZ9ncUZ80Nkt0eVv2VzHe7T/JgsxAmP9r2+l7c+ZkcPpNMg4xj0OcLCKxPfV3Fex03U1Hfd2tU1Oy3KmIOe6y2qKiIUaNGERsbS0xMDABBQUGWpqaUlBQCAwMB0Ol0JCcnW/ZNTk5Gp5MbcULcyr5zmYz+dS+twvz5fHDr64tF1nk4MJfqgX7QtC9kn4eA2o4JK5yCQwqGoiiMHz+eevXqMXz4cMvyqKgoFi9eDMDixYvp1q1bieWKorBv3z58fHxu2RwlRFV3Lv0yT83eRbCPG9OHtbt+JNr8TPOkR+s/wD9jP8zuDXtmQtFlh+QVzsEhTVJ79uxhyZIl3HXXXfTt2xeAMWPG8MwzzzB69Gjmz59PaGgoX3zxBQBdunRh06ZNREdH4+HhwcSJEx0RWwinkJVfxPBZuyg0mvjlmY5U83a7fqP0k+Y5LPp8jfrnweZlI7dLfwtxSw4pGO3atePIkSM3XHelT8Y/qVQq3nnnHXvHEsLpFRpNPPvDHs6k5THniQ40qO5z/UZHV8O696Dv17DgyavL9/8M948DrWf5BRZORYYGEaKSUBSFcQv/ZPvJND4a0JKI+kHXb7T3R/j5EYh5H5J2gsYN4zNb4N5RcHqzNEmJW3L4Y7VCCNv4av1xFvyRxOgHGtK/bdiNN/INhbu6Q3hHqHUvNB/IWX029e4fB0UvSZOUuCW5whCiEli0N4nP1h6lf9uavNStYcmVxUXwxxzz+FD1u8IjP4Obt7npyasaBoPB8rUQtyJXGEI4ud9PpvHv+QeIqBfEf/q3LNl/yZADc4fCifXmntv17ndYTuH8pGAI4cROpOYy4oc91Ar05H+P3Y1W849Gg5xk+HGgeXyoPl9LsRBlJgVDCCeVlmtg+MxduLqomDX8Hvw8Xa+uTD0C/zcQLqfBv36FhtGOCyoqDSkYQjihgqJinpqzG312Ab8805HwwGsehV01zjz39vAVENrGMSFFpSMFQwgnYzIpvPzrPvady+TbR9vSptY/ZsIrKgBXd+g3FYryIKCOw3KKykeekhLCyXy06jC//ZXM+J5NeLB5jasrfv8W/hcJeWnmiY+kWAgbk4IhhBP5cccZpiacZEjH2jzZqa55ockEq8fDqtchuLH01BZ2I01SQjiJDUdSeHvJQbo2Cuad2Kbmx2eLCmDxs3BwEdwzAh6cZB4jSgg7kIIhRAVlMimk5RVSaCym2KQwdeMJGof48PW/2qJxUYPRAP/XH85shegP4N4XoQxzyAhxO1IwhKiATCaFI/ocnp6zm6SMfMICPPhkYEsa6rzxcvv711bjBrU6QrsnoMVAxwYWVYLcwxCiAkrLK7QUC4CkjHzGzj+Aoqjg4gE4tMS8Ybe3pViIciNXGEJUAMZiE0f1ufxxNoO9ZzP5V4dwS7G4IikjH9WJ9bDyafO4T3f1AI3WQYlFVSQFQwgHSM0xsPdsBnvPZbL3bAYHkrK4XFgMQJCXlkHtwuhYL5DnI4J56tdj1PBzZ0YvX4IWxUJgXXh0nhQLUe6kYAhRBlduTHsEhZKaYyDIS3vd3NmFRhOHLmabC8TZTPaey+BcuvnqQaNW0SzUl4fahdOmlj9twgMID/RAUeCHQeEoict5I+Z+BtQrxvvsepSoN6HNo+Du54iXK6o4KRjCKv98YkercbnhB2NVc6Mb098NbUeQl5ZdpzMsVxB/ns+i0GgCoIafO21q+TO0Yx3a1PKneU0/3F2vfwxWVZCJ6uhyVJs+ZMjABqgXjgWNG6phy6RYCIeRgiFu62YfjI10Pk5RNEwmBePlDFKL3PFw1RDgchmVh3+ZjpdTYCSnoIj3lh1kUs9aPPXrMTRqFbmZaSRlePD8T3+g1ahpWdOPYRG1aVMrgDa1/Knh52E+iKKAIRuuFIs9s8yjymaeNf/L0aPqPBoGzUT9fwPM24zcDl7BZXkrhCgTpyoYCQkJfPjhh5hMJgYNGsQzzzxj83Nc+XDxDAolPbewzB8u1x7bXn+lW9M0Yg1FUcg1GMm8XGT+l1+Izsf9uid2np6zm1nD7yErvxAfd1d83DX4uLvipXUpOR9DOWa/2bGLs85D4nLWGbvSo54ryvl1KG0eQ631RFEUsguMZOQVknHZ/C89r+ia7wvJyCuyfJ9xuYhik8Li5+7l8x7VCTy3ljdiuhJTV0PgudVkNRrMkufupUk1DVpPHzAWws6psPXs1YKQedYccFySue/EH3Mg9SgE1Db/axYHDWPg54evvhiZc1s4mNMUjOLiYt5//31mzpyJTqdj4MCBREVF0aBBA5ud458fLhtv8OFS1mOX6q90Rfn7nwlQQKU29+Q1mcyjkaJgMpk4ps/hxZ//4HxmAQEBgXw3tB1h7gVk5xWQlV9E1uVCsgsKyckv5KLRl4z8YopyUii4nEtOQRHZ+YXk5heRU1CE3uTLZdzxJZdgVRafDWqFe+Yx7lIpqFDIUHxIyoD0zCzem7kIFQoqQIWCWqWg0XqS7FEfH3dX2qiP46dV8NS64OWqxkvrgqdWTa6uPd6eHtQrPolnYTpfrT9Gem4B1by1vNC1PurQVmRrqqHOPIM27RDFJhMmk4Kp2IhJUcj2qEWmXxMoyCT44iZMiolik/m9KDaZKHDx4UTgfQxt449H4hJcN/2Hh/rUwmPheNC4Yah9P12/O05KPnTgAGGqS9e99TuU5uR5hdHa7SLdXI7h5abB01djfi1aFxq5N8Xl+Bq0myYyuE847oveBI0bwWFtqP5DP6jREp5YBWoNxH9g7jfhXxsC6kLdLuYJjUzF4KKBYcvB1eNqx7v8TDjwq3mfkdvNxeL0ZvM0qlIwhIM4TcE4cOAAtWvXJjw8HIBevXoRHx9v04JhvJwBicvQbprIY31q4LLwXdC4YQppSdKsYax2uZ8ZmsHUKj7HZ0XvWz4kr/w7TU2eVr+DosASZRR+Sq5lnadWTXhRMTkFXwDejM39hDpT96C4gMFoMm+nUvg3L7NB3YFHlN94TZlxXcZ56h58oX2GBsppZhteBsydaRoBa4DD2nAezPiIp+fsZoPxcXyKsqh5zTFaF0ylSOvPFM1ndDHtKLlSC2ubf0JGnR60TPqFxvsmwFJY53Z1k1nGGKb7jKSm6QIr3MZfl1HvXo+P6swku6CIN06/ibeSe902rQumkokPO+rPRHd+LZ/9fW4KgdWwL+JL4jZU43GXVbzrOue6/WcZY3jX+DiNVWdZ5fb6desPm8J5tlBH+zodaaWo0fT5Co95j5hXPr4ct4VD6dFoMu5+1Rh4/Dvqpq6/7hjKoNmomj0AO6bCb/+9fr3fJTLufQM3v7p4zRtsXjZ8Ffy1AO4eBrpm5g3Vahh7HNx9rzuGxbVFwMMf2gyB5gPMj9DKnNuiAnCagqHX6wkJCbF8r9PpOHDgwE23NxgMJCYm3tE5PINC2WiMYlBsHTznmZsCDMNWU7B/CefcG6G4hdDEy4XAYm9OZbcEVCgqc99HBRVZmmp09vdApYITGRFoTYa//2JU0SQ8iKX7kyn8+y1PKG5JshJA/xZhHDh7yVJ2qnvVobOrB2pDM1ZcfhhQ8Xc5wYSK864NaOLugpexGvMuD8MEdGpcg1nbzmJCRYbiA5ibjVKjX+fo6STcNGrcNC64a9S4uar5oX4jNFp3PJMf5cLlboAaVMDfJbBO9QaEeeXiGtqS8+7vo9FqMbh48d3WM1zKLSLfpzb/e7QNhXlJnOv08d/vngpUKhTUmFw9eTrYDXAjrc5HpJmKLe+DAhiK4SufRuQZ1eT7v8aAH+79R9k1b/NJwy68xSU8jX1ZURSJSq3GRQUuahdUaqjp5s+37tVwpTrb83/ERa3CRa1CrVbj4qJCpdayxFtHNR8NObWjcVs46OrPxqHfyO//CwPTckGtUKR7jWPFo6/7eSg2+aIkJqLyaIdL7NLr1rt4+lGrOANN/DjLMuXwclJbPkd6zt99KEr8DJ6/g5/Gf0q9yde2UVBQcMe/KxWFZC9fTlMw7pSbmxtNmjS5o33ScwvpUc8Vz4VvWJYpiUtx6foGEX18iACesqwZcMNj9LJ81bnE8tQcAzNObiX/7/sAC0z3EebnQf+YSLr5XP3zPbrE/k9xa30sx/7tr60lOnqFBXjges+T3N/N7WY7w23fnyZAd8DcpDaq7bX3XwKgUYvbHOLG52j0939Tcwzo/XOuyx4QXIMn69W5Tb7bU/IzUY7Hg8aN9GGb8Eyci3vSNrRdxuAfUsbj/6PZyPjMFjR/zUV9ejO6Ti+jCyt79vKSmJh4x78rFYVkt71bFTGnGRpEp9ORnJxs+V6v16PT6Wx6jgCXy1RLWmv5cCm453nck7bhpTaU+dhBXlrzfYUA81My/3wEsyIf+wq1WkWwjxs1AzwJ9nGz2U1pe2dXefhD2yEYhyyjKLARxs7jUB6dj8oWTTtXmo2GLedsgZe52ejR+dJsJCotp7nCaNGiBadPn+bcuXPodDpWrFjBp59+atNzqDz8UdoOwdisP/mF7mg7j0NRG2zy4aJWq2ik82HRc5E2f0rqn8fOyy/Ay8PdafpJlEd2tdYTtdaTq39e+Njs2Gg9QeuJwZBq+VqIysppCoZGo+Htt9/mqaeeori4mAEDBtCwYUObn+fKh0t2YiI1mzTBlh8uV/5Kt4crx76UdJI6FfAy91acObsQVYnTFAyALl260KVLF0fHEEKIKslp7mEIIYRwLCkYQgghrCIFQwghhFWkYAghhLCKSlEUxdEh7GHfvn24udnniSQhhKisDAYDrVu3vuG6SlswhBBC2JY0SQkhhLCKFAwhhBBWkYIhhBDCKlIwhBBCWEUKhhBCCKtIwRBCCGGVKlMwLl68yJAhQ+jZsye9evVi9uzZAGRmZjJ8+HBiYmIYPnw4WVlZACiKwoQJE4iOjiY2NpaDBw9ajvXxxx/Tq1cvevTowYQJE7D3k8l3mv3EiRMMHjyY5s2b8/3335c4VkJCAt27dyc6Oppp06Y5Re6bHccZsl9RXFxMXFwcI0aMcKrs2dnZjBo1igcffJAePXqwd+9ep8k+a9YsevXqRe/evRkzZgwGQ9nntbFl9qVLlxIbG0tsbCwPP/wwhw8fthyrPH9P74hSRej1euWvv/5SFEVRcnJylJiYGOXYsWPKRx99pEydOlVRFEWZOnWq8vHHHyuKoigbN25UnnzyScVkMil79+5VBg4cqCiKouzZs0cZPHiwYjQaFaPRqDz00EPK77//XqGyX7p0Sdm/f7/y2WefKdOnT7ccx2g0Kt26dVPOnj2rGAwGJTY2Vjl27FiFz32z49iTrbJfMWPGDGXMmDHKM888Y9fcts7+73//W5k7d66iKIpiMBiUrKwsp8ienJysdO3aVcnPz1cURVFGjRqlLFiwoEJl37Nnj5KZmakoivnz5spnTHn/nt6JKnOFUb16dZo1awaAt7c39erVQ6/XEx8fT1xcHABxcXGsW7cOwLJcpVLRunVrsrOzSUlJQaVSUVhYSFFRkeW/1arZd4a1O80eFBREy5Yt0WhKjl5/4MABateuTXh4OFqtll69ehEfH1/hc9/sOPZkq+wAycnJbNy4kYEDB9o1s62z5+TksGvXLkturVaLr6+vU2QH81VdQUEBRqORgoICqlevXqGyt23bFj8/PwBat25tmVG0vH9P70SVKRj/lJSURGJiIq1atSItLc3ygxQcHExaWhpgngI2JCTEsk9ISAh6vZ42bdrQoUMHOnXqRKdOnejcuTP169evUNlv5trXpNPp7P7Be0VZct/sOOWlrNknTpzI2LFjUavL/9etLNmTkpIIDAxk3LhxxMXFMX78eC5fvlwesS3nL212nU7HE088QdeuXenUqRPe3t506tSpPGIDd559/vz53HfffYBjf09vp8oVjLy8PEaNGsUbb7yBt7d3iXUqlQqV6tZTg545c4YTJ06wadMmEhIS+P3339m9e7c9I1uUNbuj2Cr3rY5jL2XNvmHDBgIDA2nevLk9Y95QWbMbjUYOHTrEI488wuLFi/Hw8Ci39vSyZs/KyiI+Pp74+Hg2b95Mfn4+S5YssWdkizvN/vvvvzN//nxeffXVcslXFlWqYBQVFTFq1ChiY2OJiYkBzJe0KSkpAKSkpBAYGAiYq/qVS0QwNyvodDrWrl1Lq1at8PLywsvLi86dO9v9RuCdZr+Za1+TXq9Hp9PdYo+ys0Xumx3H3myR/Y8//mD9+vVERUUxZswYfv/993L5YLBF9pCQEEJCQixXcw8++CCHDh2yb3Bsk33btm2EhYURGBiIq6srMTExFfL39PDhw7z55ptMmTKFgIAAwDG/p9aqMgVDURTGjx9PvXr1GD58uGV5VFQUixcvBmDx4sV069atxHJFUdi3bx8+Pj5Ur16d0NBQdu3ahdFopKioiF27dtm9SepOs99MixYtOH36NOfOnaOwsJAVK1YQFRVV4XPf7Dj2ZKvsr7zyCgkJCaxfv57PPvuMjh07MnnyZHtGt1n24OBgQkJCOHnyJADbt293mp/10NBQ9u/fT35+PoqiVMjsFy5c4MUXX+Tjjz+mbt26lu3L+/f0TlSZ0Wp3797No48+yl133WVpSx4zZgwtW7Zk9OjRXLx4kdDQUL744gv8/f1RFIX333+fzZs34+HhwcSJE2nRogXFxcW899577Nq1C5VKRefOnRk3blyFyp6amsqAAQPIzc1FrVbj6enJypUr8fb2ZtOmTUycOJHi4mIGDBjAyJEjK3zuw4cP3/A49pzf3Zbv+RU7duxgxowZTJ061W65bZ09MTGR8ePHU1RURHh4OJMmTbLcqK3o2b/88ktWrlyJRqOhSZMmfPjhh2i12gqTffz48axZs4bQ0FAAXFxcWLhwIUC5/p7eiSpTMIQQQpRNlWmSEkIIUTZSMIQQQlhFCoYQQgirSMEQQghhFSkYQgghrCIFQwghhFWkYAhRgRUXFzs6ghAW1w/xKIQolf/+97/4+fnx+OOPA/D5558TGBhIUVERv/32G4WFhURHRzNq1CgAnnvuOZKTkzEYDAwdOpTBgwcD0KZNGwYPHsy2bdt4++23adeunaNekhAlyBWGEDYyYMAAywB3JpOJFStWEBwczJkzZ5g/fz5Llizh4MGD7Nq1CzCPYrtw4UIWLFjADz/8QEZGBgCXL1+mZcuWLF26VIqFqFDkCkMIGwkLC8Pf359Dhw5x6dIlmjZtyp9//snWrVst8yFcvnyZ06dP0759e3744QfWrl0LmGdrO3PmDAEBAbi4uNC9e3cHvhIhbkwKhhA2NGjQIBYuXMilS5cYMGAA27dv55lnnuHhhx8usd2OHTvYtm0bv/76Kx4eHgwZMsQyhaibmxsuLi6OiC/ELUmTlBA29MADD7B582b+/PNPyyRbCxYsIC8vDzAPVZ2WlkZOTg5+fn54eHhw4sQJ9u3b59jgQlhBrjCEsCGtVkuHDh3w9fXFxcWFTp06ceLECcsVhqenJ5988gn33Xcfv/zyCz169KBu3bq0bt3ascGFsIKMViuEDZlMJvr168d///tf6tSp4+g4QtiUNEkJYSPHjx8nOjqaiIgIKRaiUpIrDCGEEFaRKwwhhBBWkYIhhBDCKlIwhBBCWEUKhhBCCKtIwRBCCGGV/wc4EvUd6W7cAQAAAABJRU5ErkJggg==\n",
      "text/plain": [
       "<Figure size 432x288 with 1 Axes>"
      ]
     },
     "metadata": {},
     "output_type": "display_data"
    }
   ],
   "source": [
    "sns.set_style(\"whitegrid\")\n",
    "# plot boxplot\n",
    "gfg = sns.lineplot(x =\"year_added\", y =\"release_count\", hue=\"type\" ,style=\"type\", markers=True, data = release_year)\n",
    " \n",
    "# add label to the axis and label to the plot\n",
    "gfg.set(xlabel =\"year\", ylabel = \"release_count\", title ='release_per_year')"
   ]
  },
  {
   "cell_type": "markdown",
   "id": "e59cca0b",
   "metadata": {
    "papermill": {
     "duration": 0.022345,
     "end_time": "2023-11-07T06:31:46.097246",
     "exception": false,
     "start_time": "2023-11-07T06:31:46.074901",
     "status": "completed"
    },
    "tags": []
   },
   "source": [
    "### **Contents over the Month**"
   ]
  },
  {
   "cell_type": "code",
   "execution_count": 23,
   "id": "f035254f",
   "metadata": {
    "execution": {
     "iopub.execute_input": "2023-11-07T06:31:46.143356Z",
     "iopub.status.busy": "2023-11-07T06:31:46.142596Z",
     "iopub.status.idle": "2023-11-07T06:31:46.164168Z",
     "shell.execute_reply": "2023-11-07T06:31:46.163132Z"
    },
    "papermill": {
     "duration": 0.047792,
     "end_time": "2023-11-07T06:31:46.166758",
     "exception": false,
     "start_time": "2023-11-07T06:31:46.118966",
     "status": "completed"
    },
    "tags": []
   },
   "outputs": [
    {
     "data": {
      "text/html": [
       "<div>\n",
       "<style scoped>\n",
       "    .dataframe tbody tr th:only-of-type {\n",
       "        vertical-align: middle;\n",
       "    }\n",
       "\n",
       "    .dataframe tbody tr th {\n",
       "        vertical-align: top;\n",
       "    }\n",
       "\n",
       "    .dataframe thead th {\n",
       "        text-align: right;\n",
       "    }\n",
       "</style>\n",
       "<table border=\"1\" class=\"dataframe\">\n",
       "  <thead>\n",
       "    <tr style=\"text-align: right;\">\n",
       "      <th></th>\n",
       "      <th>month_added</th>\n",
       "      <th>type</th>\n",
       "      <th>release_month</th>\n",
       "    </tr>\n",
       "  </thead>\n",
       "  <tbody>\n",
       "    <tr>\n",
       "      <th>0</th>\n",
       "      <td>April</td>\n",
       "      <td>Movie</td>\n",
       "      <td>549</td>\n",
       "    </tr>\n",
       "    <tr>\n",
       "      <th>1</th>\n",
       "      <td>April</td>\n",
       "      <td>TV Show</td>\n",
       "      <td>214</td>\n",
       "    </tr>\n",
       "    <tr>\n",
       "      <th>2</th>\n",
       "      <td>August</td>\n",
       "      <td>Movie</td>\n",
       "      <td>518</td>\n",
       "    </tr>\n",
       "    <tr>\n",
       "      <th>3</th>\n",
       "      <td>August</td>\n",
       "      <td>TV Show</td>\n",
       "      <td>236</td>\n",
       "    </tr>\n",
       "    <tr>\n",
       "      <th>4</th>\n",
       "      <td>December</td>\n",
       "      <td>Movie</td>\n",
       "      <td>547</td>\n",
       "    </tr>\n",
       "    <tr>\n",
       "      <th>5</th>\n",
       "      <td>December</td>\n",
       "      <td>TV Show</td>\n",
       "      <td>265</td>\n",
       "    </tr>\n",
       "    <tr>\n",
       "      <th>6</th>\n",
       "      <td>February</td>\n",
       "      <td>Movie</td>\n",
       "      <td>382</td>\n",
       "    </tr>\n",
       "    <tr>\n",
       "      <th>7</th>\n",
       "      <td>February</td>\n",
       "      <td>TV Show</td>\n",
       "      <td>180</td>\n",
       "    </tr>\n",
       "    <tr>\n",
       "      <th>8</th>\n",
       "      <td>January</td>\n",
       "      <td>Movie</td>\n",
       "      <td>545</td>\n",
       "    </tr>\n",
       "    <tr>\n",
       "      <th>9</th>\n",
       "      <td>January</td>\n",
       "      <td>TV Show</td>\n",
       "      <td>192</td>\n",
       "    </tr>\n",
       "    <tr>\n",
       "      <th>10</th>\n",
       "      <td>July</td>\n",
       "      <td>Movie</td>\n",
       "      <td>565</td>\n",
       "    </tr>\n",
       "    <tr>\n",
       "      <th>11</th>\n",
       "      <td>July</td>\n",
       "      <td>TV Show</td>\n",
       "      <td>262</td>\n",
       "    </tr>\n",
       "    <tr>\n",
       "      <th>12</th>\n",
       "      <td>June</td>\n",
       "      <td>Movie</td>\n",
       "      <td>492</td>\n",
       "    </tr>\n",
       "    <tr>\n",
       "      <th>13</th>\n",
       "      <td>June</td>\n",
       "      <td>TV Show</td>\n",
       "      <td>236</td>\n",
       "    </tr>\n",
       "    <tr>\n",
       "      <th>14</th>\n",
       "      <td>March</td>\n",
       "      <td>Movie</td>\n",
       "      <td>528</td>\n",
       "    </tr>\n",
       "    <tr>\n",
       "      <th>15</th>\n",
       "      <td>March</td>\n",
       "      <td>TV Show</td>\n",
       "      <td>213</td>\n",
       "    </tr>\n",
       "    <tr>\n",
       "      <th>16</th>\n",
       "      <td>May</td>\n",
       "      <td>Movie</td>\n",
       "      <td>439</td>\n",
       "    </tr>\n",
       "    <tr>\n",
       "      <th>17</th>\n",
       "      <td>May</td>\n",
       "      <td>TV Show</td>\n",
       "      <td>193</td>\n",
       "    </tr>\n",
       "    <tr>\n",
       "      <th>18</th>\n",
       "      <td>November</td>\n",
       "      <td>Movie</td>\n",
       "      <td>498</td>\n",
       "    </tr>\n",
       "    <tr>\n",
       "      <th>19</th>\n",
       "      <td>November</td>\n",
       "      <td>TV Show</td>\n",
       "      <td>207</td>\n",
       "    </tr>\n",
       "    <tr>\n",
       "      <th>20</th>\n",
       "      <td>October</td>\n",
       "      <td>Movie</td>\n",
       "      <td>545</td>\n",
       "    </tr>\n",
       "    <tr>\n",
       "      <th>21</th>\n",
       "      <td>October</td>\n",
       "      <td>TV Show</td>\n",
       "      <td>215</td>\n",
       "    </tr>\n",
       "    <tr>\n",
       "      <th>22</th>\n",
       "      <td>September</td>\n",
       "      <td>Movie</td>\n",
       "      <td>518</td>\n",
       "    </tr>\n",
       "    <tr>\n",
       "      <th>23</th>\n",
       "      <td>September</td>\n",
       "      <td>TV Show</td>\n",
       "      <td>251</td>\n",
       "    </tr>\n",
       "  </tbody>\n",
       "</table>\n",
       "</div>"
      ],
      "text/plain": [
       "   month_added     type  release_month\n",
       "0        April    Movie            549\n",
       "1        April  TV Show            214\n",
       "2       August    Movie            518\n",
       "3       August  TV Show            236\n",
       "4     December    Movie            547\n",
       "5     December  TV Show            265\n",
       "6     February    Movie            382\n",
       "7     February  TV Show            180\n",
       "8      January    Movie            545\n",
       "9      January  TV Show            192\n",
       "10        July    Movie            565\n",
       "11        July  TV Show            262\n",
       "12        June    Movie            492\n",
       "13        June  TV Show            236\n",
       "14       March    Movie            528\n",
       "15       March  TV Show            213\n",
       "16         May    Movie            439\n",
       "17         May  TV Show            193\n",
       "18    November    Movie            498\n",
       "19    November  TV Show            207\n",
       "20     October    Movie            545\n",
       "21     October  TV Show            215\n",
       "22   September    Movie            518\n",
       "23   September  TV Show            251"
      ]
     },
     "execution_count": 23,
     "metadata": {},
     "output_type": "execute_result"
    }
   ],
   "source": [
    "#grouped by month_added and type\n",
    "release_month= netflix.groupby(['month_added','type'])[ 'type'].count().reset_index(name='release_month')\n",
    "release_month"
   ]
  },
  {
   "cell_type": "code",
   "execution_count": 24,
   "id": "1709c749",
   "metadata": {
    "execution": {
     "iopub.execute_input": "2023-11-07T06:31:46.213301Z",
     "iopub.status.busy": "2023-11-07T06:31:46.212576Z",
     "iopub.status.idle": "2023-11-07T06:31:46.818135Z",
     "shell.execute_reply": "2023-11-07T06:31:46.816849Z"
    },
    "papermill": {
     "duration": 0.633489,
     "end_time": "2023-11-07T06:31:46.822072",
     "exception": false,
     "start_time": "2023-11-07T06:31:46.188583",
     "status": "completed"
    },
    "tags": []
   },
   "outputs": [
    {
     "data": {
      "image/png": "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\n",
      "text/plain": [
       "<Figure size 432x288 with 1 Axes>"
      ]
     },
     "metadata": {},
     "output_type": "display_data"
    }
   ],
   "source": [
    "sns.barplot(x =release_month.reset_index()['month_added'], y= release_month.reset_index()['release_month'],\n",
    "            hue =  release_month.reset_index()['type']);\n",
    "plt.title('release_month' , fontsize=16)\n",
    "plt.xlabel('month', fontsize=16);\n",
    "plt.ylabel('show_count', fontsize=16);\n",
    "sns.set(rc = {'figure.figsize':(12,8)})"
   ]
  },
  {
   "cell_type": "code",
   "execution_count": 25,
   "id": "71ced4f5",
   "metadata": {
    "execution": {
     "iopub.execute_input": "2023-11-07T06:31:46.870608Z",
     "iopub.status.busy": "2023-11-07T06:31:46.869777Z",
     "iopub.status.idle": "2023-11-07T06:31:46.889892Z",
     "shell.execute_reply": "2023-11-07T06:31:46.888670Z"
    },
    "papermill": {
     "duration": 0.048407,
     "end_time": "2023-11-07T06:31:46.892997",
     "exception": false,
     "start_time": "2023-11-07T06:31:46.844590",
     "status": "completed"
    },
    "tags": []
   },
   "outputs": [
    {
     "data": {
      "text/html": [
       "<div>\n",
       "<style scoped>\n",
       "    .dataframe tbody tr th:only-of-type {\n",
       "        vertical-align: middle;\n",
       "    }\n",
       "\n",
       "    .dataframe tbody tr th {\n",
       "        vertical-align: top;\n",
       "    }\n",
       "\n",
       "    .dataframe thead th {\n",
       "        text-align: right;\n",
       "    }\n",
       "</style>\n",
       "<table border=\"1\" class=\"dataframe\">\n",
       "  <thead>\n",
       "    <tr style=\"text-align: right;\">\n",
       "      <th></th>\n",
       "      <th>day_added</th>\n",
       "      <th>type</th>\n",
       "      <th>release_Day</th>\n",
       "    </tr>\n",
       "  </thead>\n",
       "  <tbody>\n",
       "    <tr>\n",
       "      <th>0</th>\n",
       "      <td>Friday</td>\n",
       "      <td>Movie</td>\n",
       "      <td>1565</td>\n",
       "    </tr>\n",
       "    <tr>\n",
       "      <th>1</th>\n",
       "      <td>Friday</td>\n",
       "      <td>TV Show</td>\n",
       "      <td>932</td>\n",
       "    </tr>\n",
       "    <tr>\n",
       "      <th>2</th>\n",
       "      <td>Monday</td>\n",
       "      <td>Movie</td>\n",
       "      <td>627</td>\n",
       "    </tr>\n",
       "    <tr>\n",
       "      <th>3</th>\n",
       "      <td>Monday</td>\n",
       "      <td>TV Show</td>\n",
       "      <td>223</td>\n",
       "    </tr>\n",
       "    <tr>\n",
       "      <th>4</th>\n",
       "      <td>Saturday</td>\n",
       "      <td>Movie</td>\n",
       "      <td>557</td>\n",
       "    </tr>\n",
       "    <tr>\n",
       "      <th>5</th>\n",
       "      <td>Saturday</td>\n",
       "      <td>TV Show</td>\n",
       "      <td>259</td>\n",
       "    </tr>\n",
       "    <tr>\n",
       "      <th>6</th>\n",
       "      <td>Sunday</td>\n",
       "      <td>Movie</td>\n",
       "      <td>569</td>\n",
       "    </tr>\n",
       "    <tr>\n",
       "      <th>7</th>\n",
       "      <td>Sunday</td>\n",
       "      <td>TV Show</td>\n",
       "      <td>182</td>\n",
       "    </tr>\n",
       "    <tr>\n",
       "      <th>8</th>\n",
       "      <td>Thursday</td>\n",
       "      <td>Movie</td>\n",
       "      <td>1052</td>\n",
       "    </tr>\n",
       "    <tr>\n",
       "      <th>9</th>\n",
       "      <td>Thursday</td>\n",
       "      <td>TV Show</td>\n",
       "      <td>341</td>\n",
       "    </tr>\n",
       "    <tr>\n",
       "      <th>10</th>\n",
       "      <td>Tuesday</td>\n",
       "      <td>Movie</td>\n",
       "      <td>851</td>\n",
       "    </tr>\n",
       "    <tr>\n",
       "      <th>11</th>\n",
       "      <td>Tuesday</td>\n",
       "      <td>TV Show</td>\n",
       "      <td>345</td>\n",
       "    </tr>\n",
       "    <tr>\n",
       "      <th>12</th>\n",
       "      <td>Wednesday</td>\n",
       "      <td>Movie</td>\n",
       "      <td>905</td>\n",
       "    </tr>\n",
       "    <tr>\n",
       "      <th>13</th>\n",
       "      <td>Wednesday</td>\n",
       "      <td>TV Show</td>\n",
       "      <td>382</td>\n",
       "    </tr>\n",
       "  </tbody>\n",
       "</table>\n",
       "</div>"
      ],
      "text/plain": [
       "    day_added     type  release_Day\n",
       "0      Friday    Movie         1565\n",
       "1      Friday  TV Show          932\n",
       "2      Monday    Movie          627\n",
       "3      Monday  TV Show          223\n",
       "4    Saturday    Movie          557\n",
       "5    Saturday  TV Show          259\n",
       "6      Sunday    Movie          569\n",
       "7      Sunday  TV Show          182\n",
       "8    Thursday    Movie         1052\n",
       "9    Thursday  TV Show          341\n",
       "10    Tuesday    Movie          851\n",
       "11    Tuesday  TV Show          345\n",
       "12  Wednesday    Movie          905\n",
       "13  Wednesday  TV Show          382"
      ]
     },
     "execution_count": 25,
     "metadata": {},
     "output_type": "execute_result"
    }
   ],
   "source": [
    "#grouped by day_added and type\n",
    "release_Day= netflix.groupby(['day_added','type'])[ 'type'].count().reset_index(name='release_Day')\n",
    "release_Day"
   ]
  },
  {
   "cell_type": "code",
   "execution_count": 26,
   "id": "15b24faf",
   "metadata": {
    "execution": {
     "iopub.execute_input": "2023-11-07T06:31:46.942355Z",
     "iopub.status.busy": "2023-11-07T06:31:46.941838Z",
     "iopub.status.idle": "2023-11-07T06:31:47.401664Z",
     "shell.execute_reply": "2023-11-07T06:31:47.400100Z"
    },
    "papermill": {
     "duration": 0.487633,
     "end_time": "2023-11-07T06:31:47.404711",
     "exception": false,
     "start_time": "2023-11-07T06:31:46.917078",
     "status": "completed"
    },
    "tags": []
   },
   "outputs": [
    {
     "data": {
      "image/png": "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\n",
      "text/plain": [
       "<Figure size 864x576 with 1 Axes>"
      ]
     },
     "metadata": {},
     "output_type": "display_data"
    }
   ],
   "source": [
    "sns.barplot(x =release_Day.reset_index()['day_added'], y= release_Day.reset_index()['release_Day'],\n",
    "            hue =  release_Day.reset_index()['type']);\n",
    "plt.title('release_day' , fontsize=16)\n",
    "plt.xlabel('day_of_week', fontsize=16);\n",
    "plt.ylabel('show_count', fontsize=16);\n",
    "sns.set(rc = {'figure.figsize':(12,8)})"
   ]
  },
  {
   "cell_type": "markdown",
   "id": "26d9dd84",
   "metadata": {
    "papermill": {
     "duration": 0.022663,
     "end_time": "2023-11-07T06:31:47.450656",
     "exception": false,
     "start_time": "2023-11-07T06:31:47.427993",
     "status": "completed"
    },
    "tags": []
   },
   "source": [
    "# **KEY FINDINGS**"
   ]
  },
  {
   "cell_type": "markdown",
   "id": "8133770e",
   "metadata": {
    "papermill": {
     "duration": 0.023049,
     "end_time": "2023-11-07T06:31:47.496529",
     "exception": false,
     "start_time": "2023-11-07T06:31:47.473480",
     "status": "completed"
    },
    "tags": []
   },
   "source": [
    "* **A pie chart comparing Netflix movie uploads to TV show uploads from 2008 to 2021 reveals a 39.4% increase in movie uploads.**\n",
    "\n",
    "\n",
    "* **Netflix has the most movies and TV episodes from the United States, followed by India in second place and the United Kingdom in third place.**\n",
    "\n",
    "* **Netflix has the most titles in the \"Dramas, International Movies\" genre, followed by Documentaries in second place and Stand-Up Comedy in third, according to the overall top 10 genre of Movies.**\n",
    "\n",
    "* **In Netflix has majority of TV programmes are intended for kids tv, followed by International TV Shows, TV Dramas in second place and Crime TV Shows, International TV Shows, TV Dramas in third, according to the overall top 10 genre of TV Shows.**\n",
    "\n",
    "* **In the overall rating distribution, we can see that most of content are rated TV-MA, indicating that the majority of the shows are for mature audiences, with TV-14 ratings coming in second. Parental Guidelines denotes content, and R rating at the third R classification denotes that the film is not suitable for minors to watch due to violence, offensive language, or sexual activity.**\n",
    "\n",
    "* **The type wise rating distribution reveals that most of movie content are rated TV-MA, followed by TV-14 rating and the third most movie content are rated R.In TV Shows most of the content are rated TV-MA, followed by TV-14 rating and TV-PG, which denotes under parental guidance**\n",
    "\n",
    "* **In the release per year linechart, we can observe that Netflix began to add shows in large quantities from 2014.**\n",
    "\n",
    "* **The release month barchart indicates that Netflix routinely releases new shows throughout the year.**\n",
    "\n",
    "* **The majority of the shows on Netflix are released on Friday, as can be seen in the release day barchart.**"
   ]
  }
 ],
 "metadata": {
  "kernelspec": {
   "display_name": "Python 3",
   "language": "python",
   "name": "python3"
  },
  "language_info": {
   "codemirror_mode": {
    "name": "ipython",
    "version": 3
   },
   "file_extension": ".py",
   "mimetype": "text/x-python",
   "name": "python",
   "nbconvert_exporter": "python",
   "pygments_lexer": "ipython3",
   "version": "3.7.12"
  },
  "papermill": {
   "default_parameters": {},
   "duration": 20.358341,
   "end_time": "2023-11-07T06:31:48.544130",
   "environment_variables": {},
   "exception": null,
   "input_path": "__notebook__.ipynb",
   "output_path": "__notebook__.ipynb",
   "parameters": {},
   "start_time": "2023-11-07T06:31:28.185789",
   "version": "2.3.4"
  }
 },
 "nbformat": 4,
 "nbformat_minor": 5
}
