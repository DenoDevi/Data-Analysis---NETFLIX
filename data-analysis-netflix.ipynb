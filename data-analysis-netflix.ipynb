{
 "cells": [
  {
   "cell_type": "markdown",
   "id": "7be951df",
   "metadata": {
    "papermill": {
     "duration": 0.010348,
     "end_time": "2023-11-02T16:26:48.081238",
     "exception": false,
     "start_time": "2023-11-02T16:26:48.070890",
     "status": "completed"
    },
    "tags": []
   },
   "source": [
    "# **NETFLIX DATA ANALYSIS**"
   ]
  },
  {
   "cell_type": "markdown",
   "id": "fb48c650",
   "metadata": {
    "papermill": {
     "duration": 0.00874,
     "end_time": "2023-11-02T16:26:48.099400",
     "exception": false,
     "start_time": "2023-11-02T16:26:48.090660",
     "status": "completed"
    },
    "tags": []
   },
   "source": [
    "### **Importing Libraries**"
   ]
  },
  {
   "cell_type": "code",
   "execution_count": 1,
   "id": "b0aa3f23",
   "metadata": {
    "execution": {
     "iopub.execute_input": "2023-11-02T16:26:48.119795Z",
     "iopub.status.busy": "2023-11-02T16:26:48.119224Z",
     "iopub.status.idle": "2023-11-02T16:26:49.349933Z",
     "shell.execute_reply": "2023-11-02T16:26:49.348348Z"
    },
    "papermill": {
     "duration": 1.244565,
     "end_time": "2023-11-02T16:26:49.353231",
     "exception": false,
     "start_time": "2023-11-02T16:26:48.108666",
     "status": "completed"
    },
    "tags": []
   },
   "outputs": [
    {
     "name": "stdout",
     "output_type": "stream",
     "text": [
      "/kaggle/input/netflix-data-cleaning-analysis-and-visualization/netflix1.csv\n"
     ]
    }
   ],
   "source": [
    "#importing  neccesary library and  data \n",
    "import pandas as pd \n",
    "import matplotlib.pyplot as plt\n",
    "import numpy as np\n",
    "import seaborn as sns\n",
    "from matplotlib.patches import Polygon\n",
    "from wordcloud import WordCloud\n",
    "import matplotlib.dates as mdates\n",
    "%matplotlib inline\n",
    "import datetime as dt\n",
    "import os\n",
    "for dirname, _, filenames in os.walk('/kaggle/input'):\n",
    "    for filename in filenames:\n",
    "        print(os.path.join(dirname, filename))"
   ]
  },
  {
   "cell_type": "markdown",
   "id": "dabe57ac",
   "metadata": {
    "papermill": {
     "duration": 0.008808,
     "end_time": "2023-11-02T16:26:49.371539",
     "exception": false,
     "start_time": "2023-11-02T16:26:49.362731",
     "status": "completed"
    },
    "tags": []
   },
   "source": [
    "### **Loading the Dataset**"
   ]
  },
  {
   "cell_type": "code",
   "execution_count": 2,
   "id": "290df2da",
   "metadata": {
    "execution": {
     "iopub.execute_input": "2023-11-02T16:26:49.392150Z",
     "iopub.status.busy": "2023-11-02T16:26:49.391682Z",
     "iopub.status.idle": "2023-11-02T16:26:49.485585Z",
     "shell.execute_reply": "2023-11-02T16:26:49.484658Z"
    },
    "papermill": {
     "duration": 0.107019,
     "end_time": "2023-11-02T16:26:49.487779",
     "exception": false,
     "start_time": "2023-11-02T16:26:49.380760",
     "status": "completed"
    },
    "tags": []
   },
   "outputs": [
    {
     "data": {
      "text/html": [
       "<div>\n",
       "<style scoped>\n",
       "    .dataframe tbody tr th:only-of-type {\n",
       "        vertical-align: middle;\n",
       "    }\n",
       "\n",
       "    .dataframe tbody tr th {\n",
       "        vertical-align: top;\n",
       "    }\n",
       "\n",
       "    .dataframe thead th {\n",
       "        text-align: right;\n",
       "    }\n",
       "</style>\n",
       "<table border=\"1\" class=\"dataframe\">\n",
       "  <thead>\n",
       "    <tr style=\"text-align: right;\">\n",
       "      <th></th>\n",
       "      <th>show_id</th>\n",
       "      <th>type</th>\n",
       "      <th>title</th>\n",
       "      <th>director</th>\n",
       "      <th>country</th>\n",
       "      <th>date_added</th>\n",
       "      <th>release_year</th>\n",
       "      <th>rating</th>\n",
       "      <th>duration</th>\n",
       "      <th>listed_in</th>\n",
       "    </tr>\n",
       "  </thead>\n",
       "  <tbody>\n",
       "    <tr>\n",
       "      <th>0</th>\n",
       "      <td>s1</td>\n",
       "      <td>Movie</td>\n",
       "      <td>Dick Johnson Is Dead</td>\n",
       "      <td>Kirsten Johnson</td>\n",
       "      <td>United States</td>\n",
       "      <td>9/25/2021</td>\n",
       "      <td>2020</td>\n",
       "      <td>PG-13</td>\n",
       "      <td>90 min</td>\n",
       "      <td>Documentaries</td>\n",
       "    </tr>\n",
       "    <tr>\n",
       "      <th>1</th>\n",
       "      <td>s3</td>\n",
       "      <td>TV Show</td>\n",
       "      <td>Ganglands</td>\n",
       "      <td>Julien Leclercq</td>\n",
       "      <td>France</td>\n",
       "      <td>9/24/2021</td>\n",
       "      <td>2021</td>\n",
       "      <td>TV-MA</td>\n",
       "      <td>1 Season</td>\n",
       "      <td>Crime TV Shows, International TV Shows, TV Act...</td>\n",
       "    </tr>\n",
       "    <tr>\n",
       "      <th>2</th>\n",
       "      <td>s6</td>\n",
       "      <td>TV Show</td>\n",
       "      <td>Midnight Mass</td>\n",
       "      <td>Mike Flanagan</td>\n",
       "      <td>United States</td>\n",
       "      <td>9/24/2021</td>\n",
       "      <td>2021</td>\n",
       "      <td>TV-MA</td>\n",
       "      <td>1 Season</td>\n",
       "      <td>TV Dramas, TV Horror, TV Mysteries</td>\n",
       "    </tr>\n",
       "    <tr>\n",
       "      <th>3</th>\n",
       "      <td>s14</td>\n",
       "      <td>Movie</td>\n",
       "      <td>Confessions of an Invisible Girl</td>\n",
       "      <td>Bruno Garotti</td>\n",
       "      <td>Brazil</td>\n",
       "      <td>9/22/2021</td>\n",
       "      <td>2021</td>\n",
       "      <td>TV-PG</td>\n",
       "      <td>91 min</td>\n",
       "      <td>Children &amp; Family Movies, Comedies</td>\n",
       "    </tr>\n",
       "    <tr>\n",
       "      <th>4</th>\n",
       "      <td>s8</td>\n",
       "      <td>Movie</td>\n",
       "      <td>Sankofa</td>\n",
       "      <td>Haile Gerima</td>\n",
       "      <td>United States</td>\n",
       "      <td>9/24/2021</td>\n",
       "      <td>1993</td>\n",
       "      <td>TV-MA</td>\n",
       "      <td>125 min</td>\n",
       "      <td>Dramas, Independent Movies, International Movies</td>\n",
       "    </tr>\n",
       "    <tr>\n",
       "      <th>...</th>\n",
       "      <td>...</td>\n",
       "      <td>...</td>\n",
       "      <td>...</td>\n",
       "      <td>...</td>\n",
       "      <td>...</td>\n",
       "      <td>...</td>\n",
       "      <td>...</td>\n",
       "      <td>...</td>\n",
       "      <td>...</td>\n",
       "      <td>...</td>\n",
       "    </tr>\n",
       "    <tr>\n",
       "      <th>8785</th>\n",
       "      <td>s8797</td>\n",
       "      <td>TV Show</td>\n",
       "      <td>Yunus Emre</td>\n",
       "      <td>Not Given</td>\n",
       "      <td>Turkey</td>\n",
       "      <td>1/17/2017</td>\n",
       "      <td>2016</td>\n",
       "      <td>TV-PG</td>\n",
       "      <td>2 Seasons</td>\n",
       "      <td>International TV Shows, TV Dramas</td>\n",
       "    </tr>\n",
       "    <tr>\n",
       "      <th>8786</th>\n",
       "      <td>s8798</td>\n",
       "      <td>TV Show</td>\n",
       "      <td>Zak Storm</td>\n",
       "      <td>Not Given</td>\n",
       "      <td>United States</td>\n",
       "      <td>9/13/2018</td>\n",
       "      <td>2016</td>\n",
       "      <td>TV-Y7</td>\n",
       "      <td>3 Seasons</td>\n",
       "      <td>Kids' TV</td>\n",
       "    </tr>\n",
       "    <tr>\n",
       "      <th>8787</th>\n",
       "      <td>s8801</td>\n",
       "      <td>TV Show</td>\n",
       "      <td>Zindagi Gulzar Hai</td>\n",
       "      <td>Not Given</td>\n",
       "      <td>Pakistan</td>\n",
       "      <td>12/15/2016</td>\n",
       "      <td>2012</td>\n",
       "      <td>TV-PG</td>\n",
       "      <td>1 Season</td>\n",
       "      <td>International TV Shows, Romantic TV Shows, TV ...</td>\n",
       "    </tr>\n",
       "    <tr>\n",
       "      <th>8788</th>\n",
       "      <td>s8784</td>\n",
       "      <td>TV Show</td>\n",
       "      <td>Yoko</td>\n",
       "      <td>Not Given</td>\n",
       "      <td>Pakistan</td>\n",
       "      <td>6/23/2018</td>\n",
       "      <td>2016</td>\n",
       "      <td>TV-Y</td>\n",
       "      <td>1 Season</td>\n",
       "      <td>Kids' TV</td>\n",
       "    </tr>\n",
       "    <tr>\n",
       "      <th>8789</th>\n",
       "      <td>s8786</td>\n",
       "      <td>TV Show</td>\n",
       "      <td>YOM</td>\n",
       "      <td>Not Given</td>\n",
       "      <td>Pakistan</td>\n",
       "      <td>6/7/2018</td>\n",
       "      <td>2016</td>\n",
       "      <td>TV-Y7</td>\n",
       "      <td>1 Season</td>\n",
       "      <td>Kids' TV</td>\n",
       "    </tr>\n",
       "  </tbody>\n",
       "</table>\n",
       "<p>8790 rows × 10 columns</p>\n",
       "</div>"
      ],
      "text/plain": [
       "     show_id     type                             title         director  \\\n",
       "0         s1    Movie              Dick Johnson Is Dead  Kirsten Johnson   \n",
       "1         s3  TV Show                         Ganglands  Julien Leclercq   \n",
       "2         s6  TV Show                     Midnight Mass    Mike Flanagan   \n",
       "3        s14    Movie  Confessions of an Invisible Girl    Bruno Garotti   \n",
       "4         s8    Movie                           Sankofa     Haile Gerima   \n",
       "...      ...      ...                               ...              ...   \n",
       "8785   s8797  TV Show                        Yunus Emre        Not Given   \n",
       "8786   s8798  TV Show                         Zak Storm        Not Given   \n",
       "8787   s8801  TV Show                Zindagi Gulzar Hai        Not Given   \n",
       "8788   s8784  TV Show                              Yoko        Not Given   \n",
       "8789   s8786  TV Show                               YOM        Not Given   \n",
       "\n",
       "            country  date_added  release_year rating   duration  \\\n",
       "0     United States   9/25/2021          2020  PG-13     90 min   \n",
       "1            France   9/24/2021          2021  TV-MA   1 Season   \n",
       "2     United States   9/24/2021          2021  TV-MA   1 Season   \n",
       "3            Brazil   9/22/2021          2021  TV-PG     91 min   \n",
       "4     United States   9/24/2021          1993  TV-MA    125 min   \n",
       "...             ...         ...           ...    ...        ...   \n",
       "8785         Turkey   1/17/2017          2016  TV-PG  2 Seasons   \n",
       "8786  United States   9/13/2018          2016  TV-Y7  3 Seasons   \n",
       "8787       Pakistan  12/15/2016          2012  TV-PG   1 Season   \n",
       "8788       Pakistan   6/23/2018          2016   TV-Y   1 Season   \n",
       "8789       Pakistan    6/7/2018          2016  TV-Y7   1 Season   \n",
       "\n",
       "                                              listed_in  \n",
       "0                                         Documentaries  \n",
       "1     Crime TV Shows, International TV Shows, TV Act...  \n",
       "2                    TV Dramas, TV Horror, TV Mysteries  \n",
       "3                    Children & Family Movies, Comedies  \n",
       "4      Dramas, Independent Movies, International Movies  \n",
       "...                                                 ...  \n",
       "8785                  International TV Shows, TV Dramas  \n",
       "8786                                           Kids' TV  \n",
       "8787  International TV Shows, Romantic TV Shows, TV ...  \n",
       "8788                                           Kids' TV  \n",
       "8789                                           Kids' TV  \n",
       "\n",
       "[8790 rows x 10 columns]"
      ]
     },
     "execution_count": 2,
     "metadata": {},
     "output_type": "execute_result"
    }
   ],
   "source": [
    "#importing dataset\n",
    "netflix = pd.read_csv('../input/netflix-data-cleaning-analysis-and-visualization/netflix1.csv')\n",
    "netflix"
   ]
  },
  {
   "cell_type": "markdown",
   "id": "d693eb1a",
   "metadata": {
    "papermill": {
     "duration": 0.009435,
     "end_time": "2023-11-02T16:26:49.507018",
     "exception": false,
     "start_time": "2023-11-02T16:26:49.497583",
     "status": "completed"
    },
    "tags": []
   },
   "source": [
    "### **Shape of the Dataset**"
   ]
  },
  {
   "cell_type": "code",
   "execution_count": 3,
   "id": "1fe95dff",
   "metadata": {
    "execution": {
     "iopub.execute_input": "2023-11-02T16:26:49.529105Z",
     "iopub.status.busy": "2023-11-02T16:26:49.528369Z",
     "iopub.status.idle": "2023-11-02T16:26:49.535985Z",
     "shell.execute_reply": "2023-11-02T16:26:49.534675Z"
    },
    "papermill": {
     "duration": 0.021592,
     "end_time": "2023-11-02T16:26:49.538531",
     "exception": false,
     "start_time": "2023-11-02T16:26:49.516939",
     "status": "completed"
    },
    "tags": []
   },
   "outputs": [
    {
     "data": {
      "text/plain": [
       "(8790, 10)"
      ]
     },
     "execution_count": 3,
     "metadata": {},
     "output_type": "execute_result"
    }
   ],
   "source": [
    "netflix.shape"
   ]
  },
  {
   "cell_type": "code",
   "execution_count": 4,
   "id": "e5f14bf7",
   "metadata": {
    "execution": {
     "iopub.execute_input": "2023-11-02T16:26:49.561292Z",
     "iopub.status.busy": "2023-11-02T16:26:49.560771Z",
     "iopub.status.idle": "2023-11-02T16:26:49.588947Z",
     "shell.execute_reply": "2023-11-02T16:26:49.587740Z"
    },
    "papermill": {
     "duration": 0.042192,
     "end_time": "2023-11-02T16:26:49.591823",
     "exception": false,
     "start_time": "2023-11-02T16:26:49.549631",
     "status": "completed"
    },
    "tags": []
   },
   "outputs": [
    {
     "name": "stdout",
     "output_type": "stream",
     "text": [
      "<class 'pandas.core.frame.DataFrame'>\n",
      "RangeIndex: 8790 entries, 0 to 8789\n",
      "Data columns (total 10 columns):\n",
      " #   Column        Non-Null Count  Dtype \n",
      "---  ------        --------------  ----- \n",
      " 0   show_id       8790 non-null   object\n",
      " 1   type          8790 non-null   object\n",
      " 2   title         8790 non-null   object\n",
      " 3   director      8790 non-null   object\n",
      " 4   country       8790 non-null   object\n",
      " 5   date_added    8790 non-null   object\n",
      " 6   release_year  8790 non-null   int64 \n",
      " 7   rating        8790 non-null   object\n",
      " 8   duration      8790 non-null   object\n",
      " 9   listed_in     8790 non-null   object\n",
      "dtypes: int64(1), object(9)\n",
      "memory usage: 686.8+ KB\n"
     ]
    }
   ],
   "source": [
    "netflix.info()"
   ]
  },
  {
   "cell_type": "markdown",
   "id": "e5e2c5cd",
   "metadata": {
    "papermill": {
     "duration": 0.010243,
     "end_time": "2023-11-02T16:26:49.612111",
     "exception": false,
     "start_time": "2023-11-02T16:26:49.601868",
     "status": "completed"
    },
    "tags": []
   },
   "source": [
    "### **Check for NULL Values**"
   ]
  },
  {
   "cell_type": "code",
   "execution_count": 5,
   "id": "bc50d2ac",
   "metadata": {
    "execution": {
     "iopub.execute_input": "2023-11-02T16:26:49.634645Z",
     "iopub.status.busy": "2023-11-02T16:26:49.633770Z",
     "iopub.status.idle": "2023-11-02T16:26:49.648299Z",
     "shell.execute_reply": "2023-11-02T16:26:49.647051Z"
    },
    "papermill": {
     "duration": 0.028214,
     "end_time": "2023-11-02T16:26:49.650639",
     "exception": false,
     "start_time": "2023-11-02T16:26:49.622425",
     "status": "completed"
    },
    "tags": []
   },
   "outputs": [
    {
     "data": {
      "text/plain": [
       "show_id         0\n",
       "type            0\n",
       "title           0\n",
       "director        0\n",
       "country         0\n",
       "date_added      0\n",
       "release_year    0\n",
       "rating          0\n",
       "duration        0\n",
       "listed_in       0\n",
       "dtype: int64"
      ]
     },
     "execution_count": 5,
     "metadata": {},
     "output_type": "execute_result"
    }
   ],
   "source": [
    "netflix.isnull().sum()"
   ]
  },
  {
   "cell_type": "markdown",
   "id": "0bfb1ae9",
   "metadata": {
    "papermill": {
     "duration": 0.009757,
     "end_time": "2023-11-02T16:26:49.670434",
     "exception": false,
     "start_time": "2023-11-02T16:26:49.660677",
     "status": "completed"
    },
    "tags": []
   },
   "source": [
    "### **Handling Duplicate values**"
   ]
  },
  {
   "cell_type": "code",
   "execution_count": 6,
   "id": "e2821cc0",
   "metadata": {
    "execution": {
     "iopub.execute_input": "2023-11-02T16:26:49.693062Z",
     "iopub.status.busy": "2023-11-02T16:26:49.692240Z",
     "iopub.status.idle": "2023-11-02T16:26:49.715859Z",
     "shell.execute_reply": "2023-11-02T16:26:49.714652Z"
    },
    "papermill": {
     "duration": 0.037837,
     "end_time": "2023-11-02T16:26:49.718378",
     "exception": false,
     "start_time": "2023-11-02T16:26:49.680541",
     "status": "completed"
    },
    "tags": []
   },
   "outputs": [
    {
     "data": {
      "text/html": [
       "<div>\n",
       "<style scoped>\n",
       "    .dataframe tbody tr th:only-of-type {\n",
       "        vertical-align: middle;\n",
       "    }\n",
       "\n",
       "    .dataframe tbody tr th {\n",
       "        vertical-align: top;\n",
       "    }\n",
       "\n",
       "    .dataframe thead th {\n",
       "        text-align: right;\n",
       "    }\n",
       "</style>\n",
       "<table border=\"1\" class=\"dataframe\">\n",
       "  <thead>\n",
       "    <tr style=\"text-align: right;\">\n",
       "      <th></th>\n",
       "      <th>show_id</th>\n",
       "      <th>type</th>\n",
       "      <th>title</th>\n",
       "      <th>director</th>\n",
       "      <th>country</th>\n",
       "      <th>date_added</th>\n",
       "      <th>release_year</th>\n",
       "      <th>rating</th>\n",
       "      <th>duration</th>\n",
       "      <th>listed_in</th>\n",
       "    </tr>\n",
       "  </thead>\n",
       "  <tbody>\n",
       "    <tr>\n",
       "      <th>0</th>\n",
       "      <td>s1</td>\n",
       "      <td>Movie</td>\n",
       "      <td>Dick Johnson Is Dead</td>\n",
       "      <td>Kirsten Johnson</td>\n",
       "      <td>United States</td>\n",
       "      <td>9/25/2021</td>\n",
       "      <td>2020</td>\n",
       "      <td>PG-13</td>\n",
       "      <td>90 min</td>\n",
       "      <td>Documentaries</td>\n",
       "    </tr>\n",
       "    <tr>\n",
       "      <th>1</th>\n",
       "      <td>s3</td>\n",
       "      <td>TV Show</td>\n",
       "      <td>Ganglands</td>\n",
       "      <td>Julien Leclercq</td>\n",
       "      <td>France</td>\n",
       "      <td>9/24/2021</td>\n",
       "      <td>2021</td>\n",
       "      <td>TV-MA</td>\n",
       "      <td>1 Season</td>\n",
       "      <td>Crime TV Shows, International TV Shows, TV Act...</td>\n",
       "    </tr>\n",
       "    <tr>\n",
       "      <th>2</th>\n",
       "      <td>s6</td>\n",
       "      <td>TV Show</td>\n",
       "      <td>Midnight Mass</td>\n",
       "      <td>Mike Flanagan</td>\n",
       "      <td>United States</td>\n",
       "      <td>9/24/2021</td>\n",
       "      <td>2021</td>\n",
       "      <td>TV-MA</td>\n",
       "      <td>1 Season</td>\n",
       "      <td>TV Dramas, TV Horror, TV Mysteries</td>\n",
       "    </tr>\n",
       "    <tr>\n",
       "      <th>3</th>\n",
       "      <td>s14</td>\n",
       "      <td>Movie</td>\n",
       "      <td>Confessions of an Invisible Girl</td>\n",
       "      <td>Bruno Garotti</td>\n",
       "      <td>Brazil</td>\n",
       "      <td>9/22/2021</td>\n",
       "      <td>2021</td>\n",
       "      <td>TV-PG</td>\n",
       "      <td>91 min</td>\n",
       "      <td>Children &amp; Family Movies, Comedies</td>\n",
       "    </tr>\n",
       "    <tr>\n",
       "      <th>4</th>\n",
       "      <td>s8</td>\n",
       "      <td>Movie</td>\n",
       "      <td>Sankofa</td>\n",
       "      <td>Haile Gerima</td>\n",
       "      <td>United States</td>\n",
       "      <td>9/24/2021</td>\n",
       "      <td>1993</td>\n",
       "      <td>TV-MA</td>\n",
       "      <td>125 min</td>\n",
       "      <td>Dramas, Independent Movies, International Movies</td>\n",
       "    </tr>\n",
       "  </tbody>\n",
       "</table>\n",
       "</div>"
      ],
      "text/plain": [
       "  show_id     type                             title         director  \\\n",
       "0      s1    Movie              Dick Johnson Is Dead  Kirsten Johnson   \n",
       "1      s3  TV Show                         Ganglands  Julien Leclercq   \n",
       "2      s6  TV Show                     Midnight Mass    Mike Flanagan   \n",
       "3     s14    Movie  Confessions of an Invisible Girl    Bruno Garotti   \n",
       "4      s8    Movie                           Sankofa     Haile Gerima   \n",
       "\n",
       "         country date_added  release_year rating  duration  \\\n",
       "0  United States  9/25/2021          2020  PG-13    90 min   \n",
       "1         France  9/24/2021          2021  TV-MA  1 Season   \n",
       "2  United States  9/24/2021          2021  TV-MA  1 Season   \n",
       "3         Brazil  9/22/2021          2021  TV-PG    91 min   \n",
       "4  United States  9/24/2021          1993  TV-MA   125 min   \n",
       "\n",
       "                                           listed_in  \n",
       "0                                      Documentaries  \n",
       "1  Crime TV Shows, International TV Shows, TV Act...  \n",
       "2                 TV Dramas, TV Horror, TV Mysteries  \n",
       "3                 Children & Family Movies, Comedies  \n",
       "4   Dramas, Independent Movies, International Movies  "
      ]
     },
     "execution_count": 6,
     "metadata": {},
     "output_type": "execute_result"
    }
   ],
   "source": [
    "#removed all duplicates\n",
    "\n",
    "# dropped ALL duplicate values\n",
    "netflix.drop_duplicates(subset =\"show_id\",keep = False, inplace = True)\n",
    "netflix.head()"
   ]
  },
  {
   "cell_type": "code",
   "execution_count": 7,
   "id": "e3f110f7",
   "metadata": {
    "execution": {
     "iopub.execute_input": "2023-11-02T16:26:49.741344Z",
     "iopub.status.busy": "2023-11-02T16:26:49.740812Z",
     "iopub.status.idle": "2023-11-02T16:26:49.873122Z",
     "shell.execute_reply": "2023-11-02T16:26:49.872106Z"
    },
    "papermill": {
     "duration": 0.147166,
     "end_time": "2023-11-02T16:26:49.876011",
     "exception": false,
     "start_time": "2023-11-02T16:26:49.728845",
     "status": "completed"
    },
    "tags": []
   },
   "outputs": [],
   "source": [
    "# Convert date type format\n",
    "netflix[\"date_added\"] = pd.to_datetime(netflix['date_added'])\n",
    "netflix['month_added'] = netflix['date_added'].dt.month_name()\n",
    "netflix['year_added'] = netflix['date_added'].dt.year\n",
    "netflix['day_added']=netflix['date_added'].dt.day_name()"
   ]
  },
  {
   "cell_type": "markdown",
   "id": "360218ad",
   "metadata": {
    "papermill": {
     "duration": 0.010341,
     "end_time": "2023-11-02T16:26:49.899168",
     "exception": false,
     "start_time": "2023-11-02T16:26:49.888827",
     "status": "completed"
    },
    "tags": []
   },
   "source": [
    "### **Content type on Netflix**"
   ]
  },
  {
   "cell_type": "code",
   "execution_count": 8,
   "id": "a4a5cbfd",
   "metadata": {
    "_kg_hide-output": true,
    "execution": {
     "iopub.execute_input": "2023-11-02T16:26:49.921855Z",
     "iopub.status.busy": "2023-11-02T16:26:49.921348Z",
     "iopub.status.idle": "2023-11-02T16:26:49.937635Z",
     "shell.execute_reply": "2023-11-02T16:26:49.936466Z"
    },
    "papermill": {
     "duration": 0.03056,
     "end_time": "2023-11-02T16:26:49.940208",
     "exception": false,
     "start_time": "2023-11-02T16:26:49.909648",
     "status": "completed"
    },
    "tags": []
   },
   "outputs": [
    {
     "data": {
      "text/html": [
       "<div>\n",
       "<style scoped>\n",
       "    .dataframe tbody tr th:only-of-type {\n",
       "        vertical-align: middle;\n",
       "    }\n",
       "\n",
       "    .dataframe tbody tr th {\n",
       "        vertical-align: top;\n",
       "    }\n",
       "\n",
       "    .dataframe thead th {\n",
       "        text-align: right;\n",
       "    }\n",
       "</style>\n",
       "<table border=\"1\" class=\"dataframe\">\n",
       "  <thead>\n",
       "    <tr style=\"text-align: right;\">\n",
       "      <th></th>\n",
       "      <th>count</th>\n",
       "    </tr>\n",
       "    <tr>\n",
       "      <th>type</th>\n",
       "      <th></th>\n",
       "    </tr>\n",
       "  </thead>\n",
       "  <tbody>\n",
       "    <tr>\n",
       "      <th>Movie</th>\n",
       "      <td>6126</td>\n",
       "    </tr>\n",
       "    <tr>\n",
       "      <th>TV Show</th>\n",
       "      <td>2664</td>\n",
       "    </tr>\n",
       "  </tbody>\n",
       "</table>\n",
       "</div>"
      ],
      "text/plain": [
       "         count\n",
       "type          \n",
       "Movie     6126\n",
       "TV Show   2664"
      ]
     },
     "execution_count": 8,
     "metadata": {},
     "output_type": "execute_result"
    }
   ],
   "source": [
    "#types of show on netflix\n",
    "types =netflix.groupby(['type',])[ 'type'].count().reset_index(name='count')\n",
    "types=types.set_index('type')\n",
    "types"
   ]
  },
  {
   "cell_type": "code",
   "execution_count": 9,
   "id": "0ffe37a5",
   "metadata": {
    "execution": {
     "iopub.execute_input": "2023-11-02T16:26:49.963514Z",
     "iopub.status.busy": "2023-11-02T16:26:49.962510Z",
     "iopub.status.idle": "2023-11-02T16:26:50.228040Z",
     "shell.execute_reply": "2023-11-02T16:26:50.226556Z"
    },
    "papermill": {
     "duration": 0.2817,
     "end_time": "2023-11-02T16:26:50.232459",
     "exception": false,
     "start_time": "2023-11-02T16:26:49.950759",
     "status": "completed"
    },
    "tags": []
   },
   "outputs": [
    {
     "data": {
      "text/plain": [
       "Text(0.5, 1.0, 'types_of_show')"
      ]
     },
     "execution_count": 9,
     "metadata": {},
     "output_type": "execute_result"
    },
    {
     "data": {
      "image/png": "[encoded data removed]",
      "text/plain": [
       "<Figure size 360x432 with 1 Axes>"
      ]
     },
     "metadata": {},
     "output_type": "display_data"
    }
   ],
   "source": [
    "# percentage of types of show\n",
    "types.plot.pie(y='count',autopct='%.1f%%',legend= 'type' , figsize=(5,6))\n",
    "plt.title('types_of_show', fontsize=22)"
   ]
  },
  {
   "cell_type": "markdown",
   "id": "afeb95fd",
   "metadata": {
    "papermill": {
     "duration": 0.014,
     "end_time": "2023-11-02T16:26:50.265649",
     "exception": false,
     "start_time": "2023-11-02T16:26:50.251649",
     "status": "completed"
    },
    "tags": []
   },
   "source": [
    "### **Directors**"
   ]
  },
  {
   "cell_type": "code",
   "execution_count": 10,
   "id": "98d87a50",
   "metadata": {
    "execution": {
     "iopub.execute_input": "2023-11-02T16:26:50.289955Z",
     "iopub.status.busy": "2023-11-02T16:26:50.289073Z",
     "iopub.status.idle": "2023-11-02T16:26:50.315612Z",
     "shell.execute_reply": "2023-11-02T16:26:50.314584Z"
    },
    "papermill": {
     "duration": 0.041482,
     "end_time": "2023-11-02T16:26:50.318031",
     "exception": false,
     "start_time": "2023-11-02T16:26:50.276549",
     "status": "completed"
    },
    "tags": []
   },
   "outputs": [
    {
     "data": {
      "text/html": [
       "<div>\n",
       "<style scoped>\n",
       "    .dataframe tbody tr th:only-of-type {\n",
       "        vertical-align: middle;\n",
       "    }\n",
       "\n",
       "    .dataframe tbody tr th {\n",
       "        vertical-align: top;\n",
       "    }\n",
       "\n",
       "    .dataframe thead th {\n",
       "        text-align: right;\n",
       "    }\n",
       "</style>\n",
       "<table border=\"1\" class=\"dataframe\">\n",
       "  <thead>\n",
       "    <tr style=\"text-align: right;\">\n",
       "      <th></th>\n",
       "      <th>director</th>\n",
       "      <th>type</th>\n",
       "      <th>show_count</th>\n",
       "    </tr>\n",
       "  </thead>\n",
       "  <tbody>\n",
       "    <tr>\n",
       "      <th>0</th>\n",
       "      <td>A. L. Vijay</td>\n",
       "      <td>Movie</td>\n",
       "      <td>2</td>\n",
       "    </tr>\n",
       "    <tr>\n",
       "      <th>1</th>\n",
       "      <td>A. Raajdheep</td>\n",
       "      <td>Movie</td>\n",
       "      <td>1</td>\n",
       "    </tr>\n",
       "    <tr>\n",
       "      <th>2</th>\n",
       "      <td>A. Salaam</td>\n",
       "      <td>Movie</td>\n",
       "      <td>1</td>\n",
       "    </tr>\n",
       "    <tr>\n",
       "      <th>3</th>\n",
       "      <td>A.R. Murugadoss</td>\n",
       "      <td>Movie</td>\n",
       "      <td>2</td>\n",
       "    </tr>\n",
       "    <tr>\n",
       "      <th>4</th>\n",
       "      <td>Aadish Keluskar</td>\n",
       "      <td>Movie</td>\n",
       "      <td>1</td>\n",
       "    </tr>\n",
       "    <tr>\n",
       "      <th>...</th>\n",
       "      <td>...</td>\n",
       "      <td>...</td>\n",
       "      <td>...</td>\n",
       "    </tr>\n",
       "    <tr>\n",
       "      <th>4576</th>\n",
       "      <td>Çagan Irmak</td>\n",
       "      <td>Movie</td>\n",
       "      <td>1</td>\n",
       "    </tr>\n",
       "    <tr>\n",
       "      <th>4577</th>\n",
       "      <td>Ísold Uggadóttir</td>\n",
       "      <td>Movie</td>\n",
       "      <td>1</td>\n",
       "    </tr>\n",
       "    <tr>\n",
       "      <th>4578</th>\n",
       "      <td>Óskar Thór Axelsson</td>\n",
       "      <td>Movie</td>\n",
       "      <td>1</td>\n",
       "    </tr>\n",
       "    <tr>\n",
       "      <th>4579</th>\n",
       "      <td>Ömer Faruk Sorak</td>\n",
       "      <td>Movie</td>\n",
       "      <td>2</td>\n",
       "    </tr>\n",
       "    <tr>\n",
       "      <th>4580</th>\n",
       "      <td>Şenol Sönmez</td>\n",
       "      <td>Movie</td>\n",
       "      <td>2</td>\n",
       "    </tr>\n",
       "  </tbody>\n",
       "</table>\n",
       "<p>4581 rows × 3 columns</p>\n",
       "</div>"
      ],
      "text/plain": [
       "                 director   type  show_count\n",
       "0             A. L. Vijay  Movie           2\n",
       "1            A. Raajdheep  Movie           1\n",
       "2               A. Salaam  Movie           1\n",
       "3         A.R. Murugadoss  Movie           2\n",
       "4         Aadish Keluskar  Movie           1\n",
       "...                   ...    ...         ...\n",
       "4576          Çagan Irmak  Movie           1\n",
       "4577     Ísold Uggadóttir  Movie           1\n",
       "4578  Óskar Thór Axelsson  Movie           1\n",
       "4579     Ömer Faruk Sorak  Movie           2\n",
       "4580         Şenol Sönmez  Movie           2\n",
       "\n",
       "[4581 rows x 3 columns]"
      ]
     },
     "execution_count": 10,
     "metadata": {},
     "output_type": "execute_result"
    }
   ],
   "source": [
    "#grouped by directors of show and type\n",
    "show_director= netflix.groupby(['director', 'type'])[ 'director'].count().reset_index(name='show_count')\n",
    "show_director"
   ]
  },
  {
   "cell_type": "code",
   "execution_count": 11,
   "id": "55e9f3fa",
   "metadata": {
    "execution": {
     "iopub.execute_input": "2023-11-02T16:26:50.343107Z",
     "iopub.status.busy": "2023-11-02T16:26:50.342270Z",
     "iopub.status.idle": "2023-11-02T16:26:50.360546Z",
     "shell.execute_reply": "2023-11-02T16:26:50.359642Z"
    },
    "papermill": {
     "duration": 0.033423,
     "end_time": "2023-11-02T16:26:50.362819",
     "exception": false,
     "start_time": "2023-11-02T16:26:50.329396",
     "status": "completed"
    },
    "tags": []
   },
   "outputs": [
    {
     "data": {
      "text/html": [
       "<div>\n",
       "<style scoped>\n",
       "    .dataframe tbody tr th:only-of-type {\n",
       "        vertical-align: middle;\n",
       "    }\n",
       "\n",
       "    .dataframe tbody tr th {\n",
       "        vertical-align: top;\n",
       "    }\n",
       "\n",
       "    .dataframe thead th {\n",
       "        text-align: right;\n",
       "    }\n",
       "</style>\n",
       "<table border=\"1\" class=\"dataframe\">\n",
       "  <thead>\n",
       "    <tr style=\"text-align: right;\">\n",
       "      <th></th>\n",
       "      <th>director</th>\n",
       "      <th>type</th>\n",
       "      <th>show_count</th>\n",
       "    </tr>\n",
       "  </thead>\n",
       "  <tbody>\n",
       "    <tr>\n",
       "      <th>127</th>\n",
       "      <td>Alastair Fothergill</td>\n",
       "      <td>TV Show</td>\n",
       "      <td>14</td>\n",
       "    </tr>\n",
       "    <tr>\n",
       "      <th>690</th>\n",
       "      <td>Cathy Garcia-Molina</td>\n",
       "      <td>Movie</td>\n",
       "      <td>13</td>\n",
       "    </tr>\n",
       "    <tr>\n",
       "      <th>1800</th>\n",
       "      <td>Jay Chapman</td>\n",
       "      <td>Movie</td>\n",
       "      <td>12</td>\n",
       "    </tr>\n",
       "    <tr>\n",
       "      <th>1803</th>\n",
       "      <td>Jay Karas</td>\n",
       "      <td>Movie</td>\n",
       "      <td>14</td>\n",
       "    </tr>\n",
       "    <tr>\n",
       "      <th>2623</th>\n",
       "      <td>Marcus Raboy</td>\n",
       "      <td>Movie</td>\n",
       "      <td>15</td>\n",
       "    </tr>\n",
       "    <tr>\n",
       "      <th>2699</th>\n",
       "      <td>Martin Scorsese</td>\n",
       "      <td>Movie</td>\n",
       "      <td>12</td>\n",
       "    </tr>\n",
       "    <tr>\n",
       "      <th>3100</th>\n",
       "      <td>Not Given</td>\n",
       "      <td>Movie</td>\n",
       "      <td>173</td>\n",
       "    </tr>\n",
       "    <tr>\n",
       "      <th>3101</th>\n",
       "      <td>Not Given</td>\n",
       "      <td>TV Show</td>\n",
       "      <td>2415</td>\n",
       "    </tr>\n",
       "    <tr>\n",
       "      <th>3432</th>\n",
       "      <td>Rajiv Chilaka</td>\n",
       "      <td>Movie</td>\n",
       "      <td>19</td>\n",
       "    </tr>\n",
       "    <tr>\n",
       "      <th>3484</th>\n",
       "      <td>Raúl Campos, Jan Suter</td>\n",
       "      <td>Movie</td>\n",
       "      <td>18</td>\n",
       "    </tr>\n",
       "    <tr>\n",
       "      <th>4092</th>\n",
       "      <td>Suhas Kadav</td>\n",
       "      <td>Movie</td>\n",
       "      <td>16</td>\n",
       "    </tr>\n",
       "    <tr>\n",
       "      <th>4532</th>\n",
       "      <td>Youssef Chahine</td>\n",
       "      <td>Movie</td>\n",
       "      <td>12</td>\n",
       "    </tr>\n",
       "  </tbody>\n",
       "</table>\n",
       "</div>"
      ],
      "text/plain": [
       "                    director     type  show_count\n",
       "127      Alastair Fothergill  TV Show          14\n",
       "690      Cathy Garcia-Molina    Movie          13\n",
       "1800             Jay Chapman    Movie          12\n",
       "1803               Jay Karas    Movie          14\n",
       "2623            Marcus Raboy    Movie          15\n",
       "2699         Martin Scorsese    Movie          12\n",
       "3100               Not Given    Movie         173\n",
       "3101               Not Given  TV Show        2415\n",
       "3432           Rajiv Chilaka    Movie          19\n",
       "3484  Raúl Campos, Jan Suter    Movie          18\n",
       "4092             Suhas Kadav    Movie          16\n",
       "4532         Youssef Chahine    Movie          12"
      ]
     },
     "execution_count": 11,
     "metadata": {},
     "output_type": "execute_result"
    }
   ],
   "source": [
    "#top 10 directors\n",
    "top10_directors=show_director.query(\"`show_count` >= 12\")\n",
    "top10_directors"
   ]
  },
  {
   "cell_type": "markdown",
   "id": "07e93842",
   "metadata": {
    "papermill": {
     "duration": 0.011785,
     "end_time": "2023-11-02T16:26:50.386532",
     "exception": false,
     "start_time": "2023-11-02T16:26:50.374747",
     "status": "completed"
    },
    "tags": []
   },
   "source": [
    "### **Countries producing most content**"
   ]
  },
  {
   "cell_type": "code",
   "execution_count": 12,
   "id": "c08a1a81",
   "metadata": {
    "execution": {
     "iopub.execute_input": "2023-11-02T16:26:50.413008Z",
     "iopub.status.busy": "2023-11-02T16:26:50.411670Z",
     "iopub.status.idle": "2023-11-02T16:26:50.430203Z",
     "shell.execute_reply": "2023-11-02T16:26:50.428953Z"
    },
    "papermill": {
     "duration": 0.034118,
     "end_time": "2023-11-02T16:26:50.432683",
     "exception": false,
     "start_time": "2023-11-02T16:26:50.398565",
     "status": "completed"
    },
    "tags": []
   },
   "outputs": [
    {
     "data": {
      "text/html": [
       "<div>\n",
       "<style scoped>\n",
       "    .dataframe tbody tr th:only-of-type {\n",
       "        vertical-align: middle;\n",
       "    }\n",
       "\n",
       "    .dataframe tbody tr th {\n",
       "        vertical-align: top;\n",
       "    }\n",
       "\n",
       "    .dataframe thead th {\n",
       "        text-align: right;\n",
       "    }\n",
       "</style>\n",
       "<table border=\"1\" class=\"dataframe\">\n",
       "  <thead>\n",
       "    <tr style=\"text-align: right;\">\n",
       "      <th></th>\n",
       "      <th>country</th>\n",
       "      <th>show_count</th>\n",
       "    </tr>\n",
       "  </thead>\n",
       "  <tbody>\n",
       "    <tr>\n",
       "      <th>80</th>\n",
       "      <td>United States</td>\n",
       "      <td>3240</td>\n",
       "    </tr>\n",
       "    <tr>\n",
       "      <th>29</th>\n",
       "      <td>India</td>\n",
       "      <td>1057</td>\n",
       "    </tr>\n",
       "    <tr>\n",
       "      <th>79</th>\n",
       "      <td>United Kingdom</td>\n",
       "      <td>638</td>\n",
       "    </tr>\n",
       "    <tr>\n",
       "      <th>52</th>\n",
       "      <td>Pakistan</td>\n",
       "      <td>421</td>\n",
       "    </tr>\n",
       "    <tr>\n",
       "      <th>51</th>\n",
       "      <td>Not Given</td>\n",
       "      <td>287</td>\n",
       "    </tr>\n",
       "    <tr>\n",
       "      <th>10</th>\n",
       "      <td>Canada</td>\n",
       "      <td>271</td>\n",
       "    </tr>\n",
       "    <tr>\n",
       "      <th>36</th>\n",
       "      <td>Japan</td>\n",
       "      <td>259</td>\n",
       "    </tr>\n",
       "    <tr>\n",
       "      <th>68</th>\n",
       "      <td>South Korea</td>\n",
       "      <td>214</td>\n",
       "    </tr>\n",
       "    <tr>\n",
       "      <th>20</th>\n",
       "      <td>France</td>\n",
       "      <td>213</td>\n",
       "    </tr>\n",
       "    <tr>\n",
       "      <th>70</th>\n",
       "      <td>Spain</td>\n",
       "      <td>182</td>\n",
       "    </tr>\n",
       "    <tr>\n",
       "      <th>44</th>\n",
       "      <td>Mexico</td>\n",
       "      <td>138</td>\n",
       "    </tr>\n",
       "    <tr>\n",
       "      <th>18</th>\n",
       "      <td>Egypt</td>\n",
       "      <td>123</td>\n",
       "    </tr>\n",
       "    <tr>\n",
       "      <th>1</th>\n",
       "      <td>Australia</td>\n",
       "      <td>114</td>\n",
       "    </tr>\n",
       "    <tr>\n",
       "      <th>76</th>\n",
       "      <td>Turkey</td>\n",
       "      <td>112</td>\n",
       "    </tr>\n",
       "    <tr>\n",
       "      <th>49</th>\n",
       "      <td>Nigeria</td>\n",
       "      <td>105</td>\n",
       "    </tr>\n",
       "    <tr>\n",
       "      <th>22</th>\n",
       "      <td>Germany</td>\n",
       "      <td>104</td>\n",
       "    </tr>\n",
       "    <tr>\n",
       "      <th>12</th>\n",
       "      <td>China</td>\n",
       "      <td>100</td>\n",
       "    </tr>\n",
       "    <tr>\n",
       "      <th>6</th>\n",
       "      <td>Brazil</td>\n",
       "      <td>88</td>\n",
       "    </tr>\n",
       "    <tr>\n",
       "      <th>74</th>\n",
       "      <td>Taiwan</td>\n",
       "      <td>86</td>\n",
       "    </tr>\n",
       "    <tr>\n",
       "      <th>30</th>\n",
       "      <td>Indonesia</td>\n",
       "      <td>86</td>\n",
       "    </tr>\n",
       "  </tbody>\n",
       "</table>\n",
       "</div>"
      ],
      "text/plain": [
       "           country  show_count\n",
       "80   United States        3240\n",
       "29           India        1057\n",
       "79  United Kingdom         638\n",
       "52        Pakistan         421\n",
       "51       Not Given         287\n",
       "10          Canada         271\n",
       "36           Japan         259\n",
       "68     South Korea         214\n",
       "20          France         213\n",
       "70           Spain         182\n",
       "44          Mexico         138\n",
       "18           Egypt         123\n",
       "1        Australia         114\n",
       "76          Turkey         112\n",
       "49         Nigeria         105\n",
       "22         Germany         104\n",
       "12           China         100\n",
       "6           Brazil          88\n",
       "74          Taiwan          86\n",
       "30       Indonesia          86"
      ]
     },
     "execution_count": 12,
     "metadata": {},
     "output_type": "execute_result"
    }
   ],
   "source": [
    "#Top-20 countries producing most contents:\n",
    "show_origin= netflix.groupby(['country'])['country'].count().reset_index(name='show_count')\n",
    "s_origin = pd.DataFrame(show_origin)\n",
    "origin = s_origin.sort_values(by='show_count', ascending=False)\n",
    "origin = origin.head(20)\n",
    "origin"
   ]
  },
  {
   "cell_type": "code",
   "execution_count": 13,
   "id": "2950eeb7",
   "metadata": {
    "execution": {
     "iopub.execute_input": "2023-11-02T16:26:50.458816Z",
     "iopub.status.busy": "2023-11-02T16:26:50.458237Z",
     "iopub.status.idle": "2023-11-02T16:26:50.764586Z",
     "shell.execute_reply": "2023-11-02T16:26:50.763652Z"
    },
    "papermill": {
     "duration": 0.322353,
     "end_time": "2023-11-02T16:26:50.767000",
     "exception": false,
     "start_time": "2023-11-02T16:26:50.444647",
     "status": "completed"
    },
    "tags": []
   },
   "outputs": [
    {
     "data": {
      "image/png": "[encoded data removed]",
      "text/plain": [
       "<Figure size 1080x288 with 1 Axes>"
      ]
     },
     "metadata": {
      "needs_background": "light"
     },
     "output_type": "display_data"
    }
   ],
   "source": [
    "origin.plot.bar(x='country', y='show_count',figsize =(15,4)\n",
    "                ,xlabel='Country',ylabel='Count',legend=False)\n",
    "plt.title('Top-20 countries producing most contents', fontsize=20)\n",
    "plt.show()"
   ]
  },
  {
   "cell_type": "markdown",
   "id": "67af8702",
   "metadata": {
    "papermill": {
     "duration": 0.011904,
     "end_time": "2023-11-02T16:26:50.791534",
     "exception": false,
     "start_time": "2023-11-02T16:26:50.779630",
     "status": "completed"
    },
    "tags": []
   },
   "source": [
    "### **Genre Relationship**"
   ]
  },
  {
   "cell_type": "code",
   "execution_count": 14,
   "id": "c8222029",
   "metadata": {
    "execution": {
     "iopub.execute_input": "2023-11-02T16:26:50.819395Z",
     "iopub.status.busy": "2023-11-02T16:26:50.818269Z",
     "iopub.status.idle": "2023-11-02T16:26:50.840384Z",
     "shell.execute_reply": "2023-11-02T16:26:50.839152Z"
    },
    "papermill": {
     "duration": 0.039473,
     "end_time": "2023-11-02T16:26:50.843617",
     "exception": false,
     "start_time": "2023-11-02T16:26:50.804144",
     "status": "completed"
    },
    "tags": []
   },
   "outputs": [
    {
     "data": {
      "text/html": [
       "<div>\n",
       "<style scoped>\n",
       "    .dataframe tbody tr th:only-of-type {\n",
       "        vertical-align: middle;\n",
       "    }\n",
       "\n",
       "    .dataframe tbody tr th {\n",
       "        vertical-align: top;\n",
       "    }\n",
       "\n",
       "    .dataframe thead th {\n",
       "        text-align: right;\n",
       "    }\n",
       "</style>\n",
       "<table border=\"1\" class=\"dataframe\">\n",
       "  <thead>\n",
       "    <tr style=\"text-align: right;\">\n",
       "      <th></th>\n",
       "      <th>listed_in</th>\n",
       "      <th>type</th>\n",
       "      <th>show_genre_count</th>\n",
       "    </tr>\n",
       "  </thead>\n",
       "  <tbody>\n",
       "    <tr>\n",
       "      <th>0</th>\n",
       "      <td>Action &amp; Adventure</td>\n",
       "      <td>Movie</td>\n",
       "      <td>128</td>\n",
       "    </tr>\n",
       "    <tr>\n",
       "      <th>1</th>\n",
       "      <td>Action &amp; Adventure, Anime Features</td>\n",
       "      <td>Movie</td>\n",
       "      <td>1</td>\n",
       "    </tr>\n",
       "    <tr>\n",
       "      <th>2</th>\n",
       "      <td>Action &amp; Adventure, Anime Features, Children &amp;...</td>\n",
       "      <td>Movie</td>\n",
       "      <td>4</td>\n",
       "    </tr>\n",
       "    <tr>\n",
       "      <th>3</th>\n",
       "      <td>Action &amp; Adventure, Anime Features, Classic Mo...</td>\n",
       "      <td>Movie</td>\n",
       "      <td>2</td>\n",
       "    </tr>\n",
       "    <tr>\n",
       "      <th>4</th>\n",
       "      <td>Action &amp; Adventure, Anime Features, Horror Movies</td>\n",
       "      <td>Movie</td>\n",
       "      <td>1</td>\n",
       "    </tr>\n",
       "    <tr>\n",
       "      <th>...</th>\n",
       "      <td>...</td>\n",
       "      <td>...</td>\n",
       "      <td>...</td>\n",
       "    </tr>\n",
       "    <tr>\n",
       "      <th>508</th>\n",
       "      <td>TV Horror, TV Mysteries, Teen TV Shows</td>\n",
       "      <td>TV Show</td>\n",
       "      <td>1</td>\n",
       "    </tr>\n",
       "    <tr>\n",
       "      <th>509</th>\n",
       "      <td>TV Horror, Teen TV Shows</td>\n",
       "      <td>TV Show</td>\n",
       "      <td>2</td>\n",
       "    </tr>\n",
       "    <tr>\n",
       "      <th>510</th>\n",
       "      <td>TV Sci-Fi &amp; Fantasy, TV Thrillers</td>\n",
       "      <td>TV Show</td>\n",
       "      <td>1</td>\n",
       "    </tr>\n",
       "    <tr>\n",
       "      <th>511</th>\n",
       "      <td>TV Shows</td>\n",
       "      <td>TV Show</td>\n",
       "      <td>16</td>\n",
       "    </tr>\n",
       "    <tr>\n",
       "      <th>512</th>\n",
       "      <td>Thrillers</td>\n",
       "      <td>Movie</td>\n",
       "      <td>65</td>\n",
       "    </tr>\n",
       "  </tbody>\n",
       "</table>\n",
       "<p>513 rows × 3 columns</p>\n",
       "</div>"
      ],
      "text/plain": [
       "                                             listed_in     type  \\\n",
       "0                                   Action & Adventure    Movie   \n",
       "1                   Action & Adventure, Anime Features    Movie   \n",
       "2    Action & Adventure, Anime Features, Children &...    Movie   \n",
       "3    Action & Adventure, Anime Features, Classic Mo...    Movie   \n",
       "4    Action & Adventure, Anime Features, Horror Movies    Movie   \n",
       "..                                                 ...      ...   \n",
       "508             TV Horror, TV Mysteries, Teen TV Shows  TV Show   \n",
       "509                           TV Horror, Teen TV Shows  TV Show   \n",
       "510                  TV Sci-Fi & Fantasy, TV Thrillers  TV Show   \n",
       "511                                           TV Shows  TV Show   \n",
       "512                                          Thrillers    Movie   \n",
       "\n",
       "     show_genre_count  \n",
       "0                 128  \n",
       "1                   1  \n",
       "2                   4  \n",
       "3                   2  \n",
       "4                   1  \n",
       "..                ...  \n",
       "508                 1  \n",
       "509                 2  \n",
       "510                 1  \n",
       "511                16  \n",
       "512                65  \n",
       "\n",
       "[513 rows x 3 columns]"
      ]
     },
     "execution_count": 14,
     "metadata": {},
     "output_type": "execute_result"
    }
   ],
   "source": [
    "#grouped by listed_In and type\n",
    "show_genre= netflix.groupby(['listed_in','type'])[ 'type'].count().reset_index(name='show_genre_count')\n",
    "show_genre"
   ]
  },
  {
   "cell_type": "code",
   "execution_count": 15,
   "id": "67f5774e",
   "metadata": {
    "execution": {
     "iopub.execute_input": "2023-11-02T16:26:50.871578Z",
     "iopub.status.busy": "2023-11-02T16:26:50.870723Z",
     "iopub.status.idle": "2023-11-02T16:26:51.169816Z",
     "shell.execute_reply": "2023-11-02T16:26:51.168562Z"
    },
    "papermill": {
     "duration": 0.316358,
     "end_time": "2023-11-02T16:26:51.173171",
     "exception": false,
     "start_time": "2023-11-02T16:26:50.856813",
     "status": "completed"
    },
    "tags": []
   },
   "outputs": [
    {
     "data": {
      "text/plain": [
       "Text(0.5, 1.0, 'Top 10 Genres of Movies')"
      ]
     },
     "execution_count": 15,
     "metadata": {},
     "output_type": "execute_result"
    },
    {
     "data": {
      "image/png": "[encoded data removed]",
      "text/plain": [
       "<Figure size 864x432 with 1 Axes>"
      ]
     },
     "metadata": {
      "needs_background": "light"
     },
     "output_type": "display_data"
    }
   ],
   "source": [
    "#Top 10 Genres of Movies\n",
    "plt.figure(figsize=(12,6))\n",
    "netflix[netflix[\"type\"]==\"Movie\"][\"listed_in\"].value_counts()[:10].plot(kind=\"barh\",color=\"blue\")\n",
    "plt.title(\"Top 10 Genres of Movies\",size=18)"
   ]
  },
  {
   "cell_type": "code",
   "execution_count": 16,
   "id": "c8a473cc",
   "metadata": {
    "execution": {
     "iopub.execute_input": "2023-11-02T16:26:51.201544Z",
     "iopub.status.busy": "2023-11-02T16:26:51.201018Z",
     "iopub.status.idle": "2023-11-02T16:26:51.480266Z",
     "shell.execute_reply": "2023-11-02T16:26:51.478803Z"
    },
    "papermill": {
     "duration": 0.296749,
     "end_time": "2023-11-02T16:26:51.483200",
     "exception": false,
     "start_time": "2023-11-02T16:26:51.186451",
     "status": "completed"
    },
    "tags": []
   },
   "outputs": [
    {
     "data": {
      "text/plain": [
       "Text(0.5, 1.0, 'Top 10 Genres of TV Shows')"
      ]
     },
     "execution_count": 16,
     "metadata": {},
     "output_type": "execute_result"
    },
    {
     "data": {
      "image/png": "[encoded data removed]",
      "text/plain": [
       "<Figure size 864x432 with 1 Axes>"
      ]
     },
     "metadata": {
      "needs_background": "light"
     },
     "output_type": "display_data"
    }
   ],
   "source": [
    "#Top 10 Genres of TV Shows\n",
    "plt.figure(figsize=(12,6))\n",
    "netflix[netflix[\"type\"]==\"TV Show\"][\"listed_in\"].value_counts()[:10].plot(kind=\"barh\",color=\"brown\")\n",
    "plt.title(\"Top 10 Genres of TV Shows\",size=18)"
   ]
  },
  {
   "cell_type": "markdown",
   "id": "4601e956",
   "metadata": {
    "papermill": {
     "duration": 0.01324,
     "end_time": "2023-11-02T16:26:51.510184",
     "exception": false,
     "start_time": "2023-11-02T16:26:51.496944",
     "status": "completed"
    },
    "tags": []
   },
   "source": [
    "### **Rating Distribution**"
   ]
  },
  {
   "cell_type": "code",
   "execution_count": 17,
   "id": "1e93b48b",
   "metadata": {
    "execution": {
     "iopub.execute_input": "2023-11-02T16:26:51.540789Z",
     "iopub.status.busy": "2023-11-02T16:26:51.539481Z",
     "iopub.status.idle": "2023-11-02T16:26:51.884861Z",
     "shell.execute_reply": "2023-11-02T16:26:51.883097Z"
    },
    "papermill": {
     "duration": 0.363835,
     "end_time": "2023-11-02T16:26:51.887692",
     "exception": false,
     "start_time": "2023-11-02T16:26:51.523857",
     "status": "completed"
    },
    "tags": []
   },
   "outputs": [
    {
     "name": "stderr",
     "output_type": "stream",
     "text": [
      "/opt/conda/lib/python3.7/site-packages/seaborn/_decorators.py:43: FutureWarning: Pass the following variable as a keyword arg: x. From version 0.12, the only valid positional argument will be `data`, and passing other arguments without an explicit keyword will result in an error or misinterpretation.\n",
      "  FutureWarning\n",
      "/opt/conda/lib/python3.7/site-packages/seaborn/_decorators.py:43: FutureWarning: Pass the following variable as a keyword arg: x. From version 0.12, the only valid positional argument will be `data`, and passing other arguments without an explicit keyword will result in an error or misinterpretation.\n",
      "  FutureWarning\n"
     ]
    },
    {
     "data": {
      "text/plain": [
       "Text(0.5, 1.0, 'Rating')"
      ]
     },
     "execution_count": 17,
     "metadata": {},
     "output_type": "execute_result"
    },
    {
     "data": {
      "image/png": "[encoded data removed]",
      "text/plain": [
       "<Figure size 720x432 with 1 Axes>"
      ]
     },
     "metadata": {
      "needs_background": "light"
     },
     "output_type": "display_data"
    }
   ],
   "source": [
    "#Rating of shows and movies\n",
    "sns.countplot(netflix['rating']).set_xticklabels(sns.countplot(netflix['rating']).get_xticklabels(), rotation=90, ha=\"right\")\n",
    "fig = plt.gcf()\n",
    "fig.set_size_inches(10,6)\n",
    "plt.title('Rating')"
   ]
  },
  {
   "cell_type": "code",
   "execution_count": 18,
   "id": "74119462",
   "metadata": {
    "execution": {
     "iopub.execute_input": "2023-11-02T16:26:51.918634Z",
     "iopub.status.busy": "2023-11-02T16:26:51.918110Z",
     "iopub.status.idle": "2023-11-02T16:26:51.938668Z",
     "shell.execute_reply": "2023-11-02T16:26:51.937508Z"
    },
    "papermill": {
     "duration": 0.039166,
     "end_time": "2023-11-02T16:26:51.941342",
     "exception": false,
     "start_time": "2023-11-02T16:26:51.902176",
     "status": "completed"
    },
    "tags": []
   },
   "outputs": [
    {
     "data": {
      "text/html": [
       "<div>\n",
       "<style scoped>\n",
       "    .dataframe tbody tr th:only-of-type {\n",
       "        vertical-align: middle;\n",
       "    }\n",
       "\n",
       "    .dataframe tbody tr th {\n",
       "        vertical-align: top;\n",
       "    }\n",
       "\n",
       "    .dataframe thead th {\n",
       "        text-align: right;\n",
       "    }\n",
       "</style>\n",
       "<table border=\"1\" class=\"dataframe\">\n",
       "  <thead>\n",
       "    <tr style=\"text-align: right;\">\n",
       "      <th></th>\n",
       "      <th>type</th>\n",
       "      <th>ratings_count</th>\n",
       "    </tr>\n",
       "    <tr>\n",
       "      <th>rating</th>\n",
       "      <th></th>\n",
       "      <th></th>\n",
       "    </tr>\n",
       "  </thead>\n",
       "  <tbody>\n",
       "    <tr>\n",
       "      <th>G</th>\n",
       "      <td>Movie</td>\n",
       "      <td>41</td>\n",
       "    </tr>\n",
       "    <tr>\n",
       "      <th>NC-17</th>\n",
       "      <td>Movie</td>\n",
       "      <td>3</td>\n",
       "    </tr>\n",
       "    <tr>\n",
       "      <th>NR</th>\n",
       "      <td>Movie</td>\n",
       "      <td>75</td>\n",
       "    </tr>\n",
       "    <tr>\n",
       "      <th>NR</th>\n",
       "      <td>TV Show</td>\n",
       "      <td>4</td>\n",
       "    </tr>\n",
       "    <tr>\n",
       "      <th>PG</th>\n",
       "      <td>Movie</td>\n",
       "      <td>287</td>\n",
       "    </tr>\n",
       "    <tr>\n",
       "      <th>PG-13</th>\n",
       "      <td>Movie</td>\n",
       "      <td>490</td>\n",
       "    </tr>\n",
       "    <tr>\n",
       "      <th>R</th>\n",
       "      <td>Movie</td>\n",
       "      <td>797</td>\n",
       "    </tr>\n",
       "    <tr>\n",
       "      <th>R</th>\n",
       "      <td>TV Show</td>\n",
       "      <td>2</td>\n",
       "    </tr>\n",
       "    <tr>\n",
       "      <th>TV-14</th>\n",
       "      <td>Movie</td>\n",
       "      <td>1427</td>\n",
       "    </tr>\n",
       "    <tr>\n",
       "      <th>TV-14</th>\n",
       "      <td>TV Show</td>\n",
       "      <td>730</td>\n",
       "    </tr>\n",
       "    <tr>\n",
       "      <th>TV-G</th>\n",
       "      <td>Movie</td>\n",
       "      <td>126</td>\n",
       "    </tr>\n",
       "    <tr>\n",
       "      <th>TV-G</th>\n",
       "      <td>TV Show</td>\n",
       "      <td>94</td>\n",
       "    </tr>\n",
       "    <tr>\n",
       "      <th>TV-MA</th>\n",
       "      <td>Movie</td>\n",
       "      <td>2062</td>\n",
       "    </tr>\n",
       "    <tr>\n",
       "      <th>TV-MA</th>\n",
       "      <td>TV Show</td>\n",
       "      <td>1143</td>\n",
       "    </tr>\n",
       "    <tr>\n",
       "      <th>TV-PG</th>\n",
       "      <td>Movie</td>\n",
       "      <td>540</td>\n",
       "    </tr>\n",
       "    <tr>\n",
       "      <th>TV-PG</th>\n",
       "      <td>TV Show</td>\n",
       "      <td>321</td>\n",
       "    </tr>\n",
       "    <tr>\n",
       "      <th>TV-Y</th>\n",
       "      <td>Movie</td>\n",
       "      <td>131</td>\n",
       "    </tr>\n",
       "    <tr>\n",
       "      <th>TV-Y</th>\n",
       "      <td>TV Show</td>\n",
       "      <td>175</td>\n",
       "    </tr>\n",
       "    <tr>\n",
       "      <th>TV-Y7</th>\n",
       "      <td>Movie</td>\n",
       "      <td>139</td>\n",
       "    </tr>\n",
       "    <tr>\n",
       "      <th>TV-Y7</th>\n",
       "      <td>TV Show</td>\n",
       "      <td>194</td>\n",
       "    </tr>\n",
       "    <tr>\n",
       "      <th>TV-Y7-FV</th>\n",
       "      <td>Movie</td>\n",
       "      <td>5</td>\n",
       "    </tr>\n",
       "    <tr>\n",
       "      <th>TV-Y7-FV</th>\n",
       "      <td>TV Show</td>\n",
       "      <td>1</td>\n",
       "    </tr>\n",
       "    <tr>\n",
       "      <th>UR</th>\n",
       "      <td>Movie</td>\n",
       "      <td>3</td>\n",
       "    </tr>\n",
       "  </tbody>\n",
       "</table>\n",
       "</div>"
      ],
      "text/plain": [
       "             type  ratings_count\n",
       "rating                          \n",
       "G           Movie             41\n",
       "NC-17       Movie              3\n",
       "NR          Movie             75\n",
       "NR        TV Show              4\n",
       "PG          Movie            287\n",
       "PG-13       Movie            490\n",
       "R           Movie            797\n",
       "R         TV Show              2\n",
       "TV-14       Movie           1427\n",
       "TV-14     TV Show            730\n",
       "TV-G        Movie            126\n",
       "TV-G      TV Show             94\n",
       "TV-MA       Movie           2062\n",
       "TV-MA     TV Show           1143\n",
       "TV-PG       Movie            540\n",
       "TV-PG     TV Show            321\n",
       "TV-Y        Movie            131\n",
       "TV-Y      TV Show            175\n",
       "TV-Y7       Movie            139\n",
       "TV-Y7     TV Show            194\n",
       "TV-Y7-FV    Movie              5\n",
       "TV-Y7-FV  TV Show              1\n",
       "UR          Movie              3"
      ]
     },
     "execution_count": 18,
     "metadata": {},
     "output_type": "execute_result"
    }
   ],
   "source": [
    "#grouped by rating and type\n",
    "show_rating= netflix.groupby(['rating','type'])[ 'rating'].count().reset_index(name='ratings_count')\n",
    "show_rating=show_rating.set_index('rating')\n",
    "show_rating"
   ]
  },
  {
   "cell_type": "code",
   "execution_count": 19,
   "id": "0c8babb0",
   "metadata": {
    "execution": {
     "iopub.execute_input": "2023-11-02T16:26:51.973454Z",
     "iopub.status.busy": "2023-11-02T16:26:51.972497Z",
     "iopub.status.idle": "2023-11-02T16:26:52.323175Z",
     "shell.execute_reply": "2023-11-02T16:26:52.321717Z"
    },
    "papermill": {
     "duration": 0.369531,
     "end_time": "2023-11-02T16:26:52.325790",
     "exception": false,
     "start_time": "2023-11-02T16:26:51.956259",
     "status": "completed"
    },
    "tags": []
   },
   "outputs": [
    {
     "data": {
      "image/png": "[encoded data removed]",
      "text/plain": [
       "<Figure size 720x360 with 1 Axes>"
      ]
     },
     "metadata": {
      "needs_background": "light"
     },
     "output_type": "display_data"
    }
   ],
   "source": [
    "plt.figure(figsize=(10,5))\n",
    "sns.countplot(x='rating',hue='type',data=netflix)\n",
    "plt.title('Relation between Type and Rating')\n",
    "plt.show()"
   ]
  },
  {
   "cell_type": "code",
   "execution_count": 20,
   "id": "ae9b75fb",
   "metadata": {
    "execution": {
     "iopub.execute_input": "2023-11-02T16:26:52.360216Z",
     "iopub.status.busy": "2023-11-02T16:26:52.359715Z",
     "iopub.status.idle": "2023-11-02T16:26:52.383488Z",
     "shell.execute_reply": "2023-11-02T16:26:52.381689Z"
    },
    "papermill": {
     "duration": 0.044033,
     "end_time": "2023-11-02T16:26:52.386149",
     "exception": false,
     "start_time": "2023-11-02T16:26:52.342116",
     "status": "completed"
    },
    "tags": []
   },
   "outputs": [
    {
     "data": {
      "text/html": [
       "<div>\n",
       "<style scoped>\n",
       "    .dataframe tbody tr th:only-of-type {\n",
       "        vertical-align: middle;\n",
       "    }\n",
       "\n",
       "    .dataframe tbody tr th {\n",
       "        vertical-align: top;\n",
       "    }\n",
       "\n",
       "    .dataframe thead th {\n",
       "        text-align: right;\n",
       "    }\n",
       "</style>\n",
       "<table border=\"1\" class=\"dataframe\">\n",
       "  <thead>\n",
       "    <tr style=\"text-align: right;\">\n",
       "      <th></th>\n",
       "      <th>duration</th>\n",
       "      <th>type</th>\n",
       "      <th>dsc</th>\n",
       "    </tr>\n",
       "  </thead>\n",
       "  <tbody>\n",
       "    <tr>\n",
       "      <th>0</th>\n",
       "      <td>1 Season</td>\n",
       "      <td>TV Show</td>\n",
       "      <td>1791</td>\n",
       "    </tr>\n",
       "    <tr>\n",
       "      <th>25</th>\n",
       "      <td>12 Seasons</td>\n",
       "      <td>TV Show</td>\n",
       "      <td>2</td>\n",
       "    </tr>\n",
       "    <tr>\n",
       "      <th>208</th>\n",
       "      <td>9 Seasons</td>\n",
       "      <td>TV Show</td>\n",
       "      <td>9</td>\n",
       "    </tr>\n",
       "    <tr>\n",
       "      <th>196</th>\n",
       "      <td>8 Seasons</td>\n",
       "      <td>TV Show</td>\n",
       "      <td>17</td>\n",
       "    </tr>\n",
       "    <tr>\n",
       "      <th>185</th>\n",
       "      <td>7 Seasons</td>\n",
       "      <td>TV Show</td>\n",
       "      <td>23</td>\n",
       "    </tr>\n",
       "    <tr>\n",
       "      <th>...</th>\n",
       "      <td>...</td>\n",
       "      <td>...</td>\n",
       "      <td>...</td>\n",
       "    </tr>\n",
       "    <tr>\n",
       "      <th>86</th>\n",
       "      <td>171 min</td>\n",
       "      <td>Movie</td>\n",
       "      <td>7</td>\n",
       "    </tr>\n",
       "    <tr>\n",
       "      <th>87</th>\n",
       "      <td>172 min</td>\n",
       "      <td>Movie</td>\n",
       "      <td>4</td>\n",
       "    </tr>\n",
       "    <tr>\n",
       "      <th>88</th>\n",
       "      <td>173 min</td>\n",
       "      <td>Movie</td>\n",
       "      <td>6</td>\n",
       "    </tr>\n",
       "    <tr>\n",
       "      <th>89</th>\n",
       "      <td>174 min</td>\n",
       "      <td>Movie</td>\n",
       "      <td>2</td>\n",
       "    </tr>\n",
       "    <tr>\n",
       "      <th>219</th>\n",
       "      <td>99 min</td>\n",
       "      <td>Movie</td>\n",
       "      <td>118</td>\n",
       "    </tr>\n",
       "  </tbody>\n",
       "</table>\n",
       "<p>220 rows × 3 columns</p>\n",
       "</div>"
      ],
      "text/plain": [
       "       duration     type   dsc\n",
       "0      1 Season  TV Show  1791\n",
       "25   12 Seasons  TV Show     2\n",
       "208   9 Seasons  TV Show     9\n",
       "196   8 Seasons  TV Show    17\n",
       "185   7 Seasons  TV Show    23\n",
       "..          ...      ...   ...\n",
       "86      171 min    Movie     7\n",
       "87      172 min    Movie     4\n",
       "88      173 min    Movie     6\n",
       "89      174 min    Movie     2\n",
       "219      99 min    Movie   118\n",
       "\n",
       "[220 rows x 3 columns]"
      ]
     },
     "execution_count": 20,
     "metadata": {},
     "output_type": "execute_result"
    }
   ],
   "source": [
    "dsc= netflix.groupby(['duration','type'])[ 'type'].count().reset_index(name='dsc')\n",
    "dsc\n",
    "#SORT\n",
    "dsc.sort_values(by=['type'], ascending=False)"
   ]
  },
  {
   "cell_type": "markdown",
   "id": "f4077046",
   "metadata": {
    "papermill": {
     "duration": 0.014775,
     "end_time": "2023-11-02T16:26:52.416738",
     "exception": false,
     "start_time": "2023-11-02T16:26:52.401963",
     "status": "completed"
    },
    "tags": []
   },
   "source": [
    "### **Contents added over the year**"
   ]
  },
  {
   "cell_type": "code",
   "execution_count": 21,
   "id": "7707e748",
   "metadata": {
    "execution": {
     "iopub.execute_input": "2023-11-02T16:26:52.449527Z",
     "iopub.status.busy": "2023-11-02T16:26:52.449046Z",
     "iopub.status.idle": "2023-11-02T16:26:52.469089Z",
     "shell.execute_reply": "2023-11-02T16:26:52.467936Z"
    },
    "papermill": {
     "duration": 0.039584,
     "end_time": "2023-11-02T16:26:52.471691",
     "exception": false,
     "start_time": "2023-11-02T16:26:52.432107",
     "status": "completed"
    },
    "tags": []
   },
   "outputs": [
    {
     "data": {
      "text/html": [
       "<div>\n",
       "<style scoped>\n",
       "    .dataframe tbody tr th:only-of-type {\n",
       "        vertical-align: middle;\n",
       "    }\n",
       "\n",
       "    .dataframe tbody tr th {\n",
       "        vertical-align: top;\n",
       "    }\n",
       "\n",
       "    .dataframe thead th {\n",
       "        text-align: right;\n",
       "    }\n",
       "</style>\n",
       "<table border=\"1\" class=\"dataframe\">\n",
       "  <thead>\n",
       "    <tr style=\"text-align: right;\">\n",
       "      <th></th>\n",
       "      <th>year_added</th>\n",
       "      <th>type</th>\n",
       "      <th>release_count</th>\n",
       "    </tr>\n",
       "  </thead>\n",
       "  <tbody>\n",
       "    <tr>\n",
       "      <th>0</th>\n",
       "      <td>2008</td>\n",
       "      <td>Movie</td>\n",
       "      <td>1</td>\n",
       "    </tr>\n",
       "    <tr>\n",
       "      <th>1</th>\n",
       "      <td>2008</td>\n",
       "      <td>TV Show</td>\n",
       "      <td>1</td>\n",
       "    </tr>\n",
       "    <tr>\n",
       "      <th>2</th>\n",
       "      <td>2009</td>\n",
       "      <td>Movie</td>\n",
       "      <td>2</td>\n",
       "    </tr>\n",
       "    <tr>\n",
       "      <th>3</th>\n",
       "      <td>2010</td>\n",
       "      <td>Movie</td>\n",
       "      <td>1</td>\n",
       "    </tr>\n",
       "    <tr>\n",
       "      <th>4</th>\n",
       "      <td>2011</td>\n",
       "      <td>Movie</td>\n",
       "      <td>13</td>\n",
       "    </tr>\n",
       "    <tr>\n",
       "      <th>5</th>\n",
       "      <td>2012</td>\n",
       "      <td>Movie</td>\n",
       "      <td>3</td>\n",
       "    </tr>\n",
       "    <tr>\n",
       "      <th>6</th>\n",
       "      <td>2013</td>\n",
       "      <td>Movie</td>\n",
       "      <td>6</td>\n",
       "    </tr>\n",
       "    <tr>\n",
       "      <th>7</th>\n",
       "      <td>2013</td>\n",
       "      <td>TV Show</td>\n",
       "      <td>5</td>\n",
       "    </tr>\n",
       "    <tr>\n",
       "      <th>8</th>\n",
       "      <td>2014</td>\n",
       "      <td>Movie</td>\n",
       "      <td>19</td>\n",
       "    </tr>\n",
       "    <tr>\n",
       "      <th>9</th>\n",
       "      <td>2014</td>\n",
       "      <td>TV Show</td>\n",
       "      <td>5</td>\n",
       "    </tr>\n",
       "    <tr>\n",
       "      <th>10</th>\n",
       "      <td>2015</td>\n",
       "      <td>Movie</td>\n",
       "      <td>56</td>\n",
       "    </tr>\n",
       "    <tr>\n",
       "      <th>11</th>\n",
       "      <td>2015</td>\n",
       "      <td>TV Show</td>\n",
       "      <td>26</td>\n",
       "    </tr>\n",
       "    <tr>\n",
       "      <th>12</th>\n",
       "      <td>2016</td>\n",
       "      <td>Movie</td>\n",
       "      <td>251</td>\n",
       "    </tr>\n",
       "    <tr>\n",
       "      <th>13</th>\n",
       "      <td>2016</td>\n",
       "      <td>TV Show</td>\n",
       "      <td>175</td>\n",
       "    </tr>\n",
       "    <tr>\n",
       "      <th>14</th>\n",
       "      <td>2017</td>\n",
       "      <td>Movie</td>\n",
       "      <td>836</td>\n",
       "    </tr>\n",
       "    <tr>\n",
       "      <th>15</th>\n",
       "      <td>2017</td>\n",
       "      <td>TV Show</td>\n",
       "      <td>349</td>\n",
       "    </tr>\n",
       "    <tr>\n",
       "      <th>16</th>\n",
       "      <td>2018</td>\n",
       "      <td>Movie</td>\n",
       "      <td>1237</td>\n",
       "    </tr>\n",
       "    <tr>\n",
       "      <th>17</th>\n",
       "      <td>2018</td>\n",
       "      <td>TV Show</td>\n",
       "      <td>411</td>\n",
       "    </tr>\n",
       "    <tr>\n",
       "      <th>18</th>\n",
       "      <td>2019</td>\n",
       "      <td>Movie</td>\n",
       "      <td>1424</td>\n",
       "    </tr>\n",
       "    <tr>\n",
       "      <th>19</th>\n",
       "      <td>2019</td>\n",
       "      <td>TV Show</td>\n",
       "      <td>592</td>\n",
       "    </tr>\n",
       "    <tr>\n",
       "      <th>20</th>\n",
       "      <td>2020</td>\n",
       "      <td>Movie</td>\n",
       "      <td>1284</td>\n",
       "    </tr>\n",
       "    <tr>\n",
       "      <th>21</th>\n",
       "      <td>2020</td>\n",
       "      <td>TV Show</td>\n",
       "      <td>595</td>\n",
       "    </tr>\n",
       "    <tr>\n",
       "      <th>22</th>\n",
       "      <td>2021</td>\n",
       "      <td>Movie</td>\n",
       "      <td>993</td>\n",
       "    </tr>\n",
       "    <tr>\n",
       "      <th>23</th>\n",
       "      <td>2021</td>\n",
       "      <td>TV Show</td>\n",
       "      <td>505</td>\n",
       "    </tr>\n",
       "  </tbody>\n",
       "</table>\n",
       "</div>"
      ],
      "text/plain": [
       "    year_added     type  release_count\n",
       "0         2008    Movie              1\n",
       "1         2008  TV Show              1\n",
       "2         2009    Movie              2\n",
       "3         2010    Movie              1\n",
       "4         2011    Movie             13\n",
       "5         2012    Movie              3\n",
       "6         2013    Movie              6\n",
       "7         2013  TV Show              5\n",
       "8         2014    Movie             19\n",
       "9         2014  TV Show              5\n",
       "10        2015    Movie             56\n",
       "11        2015  TV Show             26\n",
       "12        2016    Movie            251\n",
       "13        2016  TV Show            175\n",
       "14        2017    Movie            836\n",
       "15        2017  TV Show            349\n",
       "16        2018    Movie           1237\n",
       "17        2018  TV Show            411\n",
       "18        2019    Movie           1424\n",
       "19        2019  TV Show            592\n",
       "20        2020    Movie           1284\n",
       "21        2020  TV Show            595\n",
       "22        2021    Movie            993\n",
       "23        2021  TV Show            505"
      ]
     },
     "execution_count": 21,
     "metadata": {},
     "output_type": "execute_result"
    }
   ],
   "source": [
    "#grouped by year_added and type\n",
    "release_year= netflix.groupby(['year_added','type'])[ 'type'].count().reset_index(name='release_count')\n",
    "release_year"
   ]
  },
  {
   "cell_type": "code",
   "execution_count": 22,
   "id": "706a1da8",
   "metadata": {
    "execution": {
     "iopub.execute_input": "2023-11-02T16:26:52.505425Z",
     "iopub.status.busy": "2023-11-02T16:26:52.504908Z",
     "iopub.status.idle": "2023-11-02T16:26:52.872833Z",
     "shell.execute_reply": "2023-11-02T16:26:52.871650Z"
    },
    "papermill": {
     "duration": 0.387496,
     "end_time": "2023-11-02T16:26:52.875177",
     "exception": false,
     "start_time": "2023-11-02T16:26:52.487681",
     "status": "completed"
    },
    "tags": []
   },
   "outputs": [
    {
     "data": {
      "text/plain": [
       "[Text(0.5, 0, 'year'),\n",
       " Text(0, 0.5, 'release_count'),\n",
       " Text(0.5, 1.0, 'release_per_year')]"
      ]
     },
     "execution_count": 22,
     "metadata": {},
     "output_type": "execute_result"
    },
    {
     "data": {
      "image/png": "[encoded data removed]",
      "text/plain": [
       "<Figure size 432x288 with 1 Axes>"
      ]
     },
     "metadata": {},
     "output_type": "display_data"
    }
   ],
   "source": [
    "sns.set_style(\"whitegrid\")\n",
    "# plot boxplot\n",
    "gfg = sns.lineplot(x =\"year_added\", y =\"release_count\", hue=\"type\" ,style=\"type\", markers=True, data = release_year)\n",
    " \n",
    "# add label to the axis and label to the plot\n",
    "gfg.set(xlabel =\"year\", ylabel = \"release_count\", title ='release_per_year')"
   ]
  },
  {
   "cell_type": "markdown",
   "id": "206ff7c6",
   "metadata": {
    "papermill": {
     "duration": 0.016873,
     "end_time": "2023-11-02T16:26:52.908383",
     "exception": false,
     "start_time": "2023-11-02T16:26:52.891510",
     "status": "completed"
    },
    "tags": []
   },
   "source": [
    "### **Contents over the Month**"
   ]
  },
  {
   "cell_type": "code",
   "execution_count": 23,
   "id": "4ccf1d30",
   "metadata": {
    "execution": {
     "iopub.execute_input": "2023-11-02T16:26:52.943581Z",
     "iopub.status.busy": "2023-11-02T16:26:52.943027Z",
     "iopub.status.idle": "2023-11-02T16:26:52.963647Z",
     "shell.execute_reply": "2023-11-02T16:26:52.962416Z"
    },
    "papermill": {
     "duration": 0.041547,
     "end_time": "2023-11-02T16:26:52.966379",
     "exception": false,
     "start_time": "2023-11-02T16:26:52.924832",
     "status": "completed"
    },
    "tags": []
   },
   "outputs": [
    {
     "data": {
      "text/html": [
       "<div>\n",
       "<style scoped>\n",
       "    .dataframe tbody tr th:only-of-type {\n",
       "        vertical-align: middle;\n",
       "    }\n",
       "\n",
       "    .dataframe tbody tr th {\n",
       "        vertical-align: top;\n",
       "    }\n",
       "\n",
       "    .dataframe thead th {\n",
       "        text-align: right;\n",
       "    }\n",
       "</style>\n",
       "<table border=\"1\" class=\"dataframe\">\n",
       "  <thead>\n",
       "    <tr style=\"text-align: right;\">\n",
       "      <th></th>\n",
       "      <th>month_added</th>\n",
       "      <th>type</th>\n",
       "      <th>release_month</th>\n",
       "    </tr>\n",
       "  </thead>\n",
       "  <tbody>\n",
       "    <tr>\n",
       "      <th>0</th>\n",
       "      <td>April</td>\n",
       "      <td>Movie</td>\n",
       "      <td>549</td>\n",
       "    </tr>\n",
       "    <tr>\n",
       "      <th>1</th>\n",
       "      <td>April</td>\n",
       "      <td>TV Show</td>\n",
       "      <td>214</td>\n",
       "    </tr>\n",
       "    <tr>\n",
       "      <th>2</th>\n",
       "      <td>August</td>\n",
       "      <td>Movie</td>\n",
       "      <td>518</td>\n",
       "    </tr>\n",
       "    <tr>\n",
       "      <th>3</th>\n",
       "      <td>August</td>\n",
       "      <td>TV Show</td>\n",
       "      <td>236</td>\n",
       "    </tr>\n",
       "    <tr>\n",
       "      <th>4</th>\n",
       "      <td>December</td>\n",
       "      <td>Movie</td>\n",
       "      <td>547</td>\n",
       "    </tr>\n",
       "    <tr>\n",
       "      <th>5</th>\n",
       "      <td>December</td>\n",
       "      <td>TV Show</td>\n",
       "      <td>265</td>\n",
       "    </tr>\n",
       "    <tr>\n",
       "      <th>6</th>\n",
       "      <td>February</td>\n",
       "      <td>Movie</td>\n",
       "      <td>382</td>\n",
       "    </tr>\n",
       "    <tr>\n",
       "      <th>7</th>\n",
       "      <td>February</td>\n",
       "      <td>TV Show</td>\n",
       "      <td>180</td>\n",
       "    </tr>\n",
       "    <tr>\n",
       "      <th>8</th>\n",
       "      <td>January</td>\n",
       "      <td>Movie</td>\n",
       "      <td>545</td>\n",
       "    </tr>\n",
       "    <tr>\n",
       "      <th>9</th>\n",
       "      <td>January</td>\n",
       "      <td>TV Show</td>\n",
       "      <td>192</td>\n",
       "    </tr>\n",
       "    <tr>\n",
       "      <th>10</th>\n",
       "      <td>July</td>\n",
       "      <td>Movie</td>\n",
       "      <td>565</td>\n",
       "    </tr>\n",
       "    <tr>\n",
       "      <th>11</th>\n",
       "      <td>July</td>\n",
       "      <td>TV Show</td>\n",
       "      <td>262</td>\n",
       "    </tr>\n",
       "    <tr>\n",
       "      <th>12</th>\n",
       "      <td>June</td>\n",
       "      <td>Movie</td>\n",
       "      <td>492</td>\n",
       "    </tr>\n",
       "    <tr>\n",
       "      <th>13</th>\n",
       "      <td>June</td>\n",
       "      <td>TV Show</td>\n",
       "      <td>236</td>\n",
       "    </tr>\n",
       "    <tr>\n",
       "      <th>14</th>\n",
       "      <td>March</td>\n",
       "      <td>Movie</td>\n",
       "      <td>528</td>\n",
       "    </tr>\n",
       "    <tr>\n",
       "      <th>15</th>\n",
       "      <td>March</td>\n",
       "      <td>TV Show</td>\n",
       "      <td>213</td>\n",
       "    </tr>\n",
       "    <tr>\n",
       "      <th>16</th>\n",
       "      <td>May</td>\n",
       "      <td>Movie</td>\n",
       "      <td>439</td>\n",
       "    </tr>\n",
       "    <tr>\n",
       "      <th>17</th>\n",
       "      <td>May</td>\n",
       "      <td>TV Show</td>\n",
       "      <td>193</td>\n",
       "    </tr>\n",
       "    <tr>\n",
       "      <th>18</th>\n",
       "      <td>November</td>\n",
       "      <td>Movie</td>\n",
       "      <td>498</td>\n",
       "    </tr>\n",
       "    <tr>\n",
       "      <th>19</th>\n",
       "      <td>November</td>\n",
       "      <td>TV Show</td>\n",
       "      <td>207</td>\n",
       "    </tr>\n",
       "    <tr>\n",
       "      <th>20</th>\n",
       "      <td>October</td>\n",
       "      <td>Movie</td>\n",
       "      <td>545</td>\n",
       "    </tr>\n",
       "    <tr>\n",
       "      <th>21</th>\n",
       "      <td>October</td>\n",
       "      <td>TV Show</td>\n",
       "      <td>215</td>\n",
       "    </tr>\n",
       "    <tr>\n",
       "      <th>22</th>\n",
       "      <td>September</td>\n",
       "      <td>Movie</td>\n",
       "      <td>518</td>\n",
       "    </tr>\n",
       "    <tr>\n",
       "      <th>23</th>\n",
       "      <td>September</td>\n",
       "      <td>TV Show</td>\n",
       "      <td>251</td>\n",
       "    </tr>\n",
       "  </tbody>\n",
       "</table>\n",
       "</div>"
      ],
      "text/plain": [
       "   month_added     type  release_month\n",
       "0        April    Movie            549\n",
       "1        April  TV Show            214\n",
       "2       August    Movie            518\n",
       "3       August  TV Show            236\n",
       "4     December    Movie            547\n",
       "5     December  TV Show            265\n",
       "6     February    Movie            382\n",
       "7     February  TV Show            180\n",
       "8      January    Movie            545\n",
       "9      January  TV Show            192\n",
       "10        July    Movie            565\n",
       "11        July  TV Show            262\n",
       "12        June    Movie            492\n",
       "13        June  TV Show            236\n",
       "14       March    Movie            528\n",
       "15       March  TV Show            213\n",
       "16         May    Movie            439\n",
       "17         May  TV Show            193\n",
       "18    November    Movie            498\n",
       "19    November  TV Show            207\n",
       "20     October    Movie            545\n",
       "21     October  TV Show            215\n",
       "22   September    Movie            518\n",
       "23   September  TV Show            251"
      ]
     },
     "execution_count": 23,
     "metadata": {},
     "output_type": "execute_result"
    }
   ],
   "source": [
    "#grouped by month_added and type\n",
    "release_month= netflix.groupby(['month_added','type'])[ 'type'].count().reset_index(name='release_month')\n",
    "release_month"
   ]
  },
  {
   "cell_type": "code",
   "execution_count": 24,
   "id": "c3ef3b90",
   "metadata": {
    "execution": {
     "iopub.execute_input": "2023-11-02T16:26:53.002247Z",
     "iopub.status.busy": "2023-11-02T16:26:53.001745Z",
     "iopub.status.idle": "2023-11-02T16:26:53.506899Z",
     "shell.execute_reply": "2023-11-02T16:26:53.505647Z"
    },
    "papermill": {
     "duration": 0.526305,
     "end_time": "2023-11-02T16:26:53.509488",
     "exception": false,
     "start_time": "2023-11-02T16:26:52.983183",
     "status": "completed"
    },
    "tags": []
   },
   "outputs": [
    {
     "data": {
      "image/png": "[encoded data removed]",
      "text/plain": [
       "<Figure size 432x288 with 1 Axes>"
      ]
     },
     "metadata": {},
     "output_type": "display_data"
    }
   ],
   "source": [
    "sns.barplot(x =release_month.reset_index()['month_added'], y= release_month.reset_index()['release_month'],\n",
    "            hue =  release_month.reset_index()['type']);\n",
    "plt.title('release_month' , fontsize=16)\n",
    "plt.xlabel('month', fontsize=16);\n",
    "plt.ylabel('show_count', fontsize=16);\n",
    "sns.set(rc = {'figure.figsize':(10,18)})"
   ]
  },
  {
   "cell_type": "code",
   "execution_count": 25,
   "id": "f4d9555c",
   "metadata": {
    "execution": {
     "iopub.execute_input": "2023-11-02T16:26:53.549708Z",
     "iopub.status.busy": "2023-11-02T16:26:53.548508Z",
     "iopub.status.idle": "2023-11-02T16:26:53.567521Z",
     "shell.execute_reply": "2023-11-02T16:26:53.566627Z"
    },
    "papermill": {
     "duration": 0.041633,
     "end_time": "2023-11-02T16:26:53.569850",
     "exception": false,
     "start_time": "2023-11-02T16:26:53.528217",
     "status": "completed"
    },
    "tags": []
   },
   "outputs": [
    {
     "data": {
      "text/html": [
       "<div>\n",
       "<style scoped>\n",
       "    .dataframe tbody tr th:only-of-type {\n",
       "        vertical-align: middle;\n",
       "    }\n",
       "\n",
       "    .dataframe tbody tr th {\n",
       "        vertical-align: top;\n",
       "    }\n",
       "\n",
       "    .dataframe thead th {\n",
       "        text-align: right;\n",
       "    }\n",
       "</style>\n",
       "<table border=\"1\" class=\"dataframe\">\n",
       "  <thead>\n",
       "    <tr style=\"text-align: right;\">\n",
       "      <th></th>\n",
       "      <th>day_added</th>\n",
       "      <th>type</th>\n",
       "      <th>release_Day</th>\n",
       "    </tr>\n",
       "  </thead>\n",
       "  <tbody>\n",
       "    <tr>\n",
       "      <th>0</th>\n",
       "      <td>Friday</td>\n",
       "      <td>Movie</td>\n",
       "      <td>1565</td>\n",
       "    </tr>\n",
       "    <tr>\n",
       "      <th>1</th>\n",
       "      <td>Friday</td>\n",
       "      <td>TV Show</td>\n",
       "      <td>932</td>\n",
       "    </tr>\n",
       "    <tr>\n",
       "      <th>2</th>\n",
       "      <td>Monday</td>\n",
       "      <td>Movie</td>\n",
       "      <td>627</td>\n",
       "    </tr>\n",
       "    <tr>\n",
       "      <th>3</th>\n",
       "      <td>Monday</td>\n",
       "      <td>TV Show</td>\n",
       "      <td>223</td>\n",
       "    </tr>\n",
       "    <tr>\n",
       "      <th>4</th>\n",
       "      <td>Saturday</td>\n",
       "      <td>Movie</td>\n",
       "      <td>557</td>\n",
       "    </tr>\n",
       "    <tr>\n",
       "      <th>5</th>\n",
       "      <td>Saturday</td>\n",
       "      <td>TV Show</td>\n",
       "      <td>259</td>\n",
       "    </tr>\n",
       "    <tr>\n",
       "      <th>6</th>\n",
       "      <td>Sunday</td>\n",
       "      <td>Movie</td>\n",
       "      <td>569</td>\n",
       "    </tr>\n",
       "    <tr>\n",
       "      <th>7</th>\n",
       "      <td>Sunday</td>\n",
       "      <td>TV Show</td>\n",
       "      <td>182</td>\n",
       "    </tr>\n",
       "    <tr>\n",
       "      <th>8</th>\n",
       "      <td>Thursday</td>\n",
       "      <td>Movie</td>\n",
       "      <td>1052</td>\n",
       "    </tr>\n",
       "    <tr>\n",
       "      <th>9</th>\n",
       "      <td>Thursday</td>\n",
       "      <td>TV Show</td>\n",
       "      <td>341</td>\n",
       "    </tr>\n",
       "    <tr>\n",
       "      <th>10</th>\n",
       "      <td>Tuesday</td>\n",
       "      <td>Movie</td>\n",
       "      <td>851</td>\n",
       "    </tr>\n",
       "    <tr>\n",
       "      <th>11</th>\n",
       "      <td>Tuesday</td>\n",
       "      <td>TV Show</td>\n",
       "      <td>345</td>\n",
       "    </tr>\n",
       "    <tr>\n",
       "      <th>12</th>\n",
       "      <td>Wednesday</td>\n",
       "      <td>Movie</td>\n",
       "      <td>905</td>\n",
       "    </tr>\n",
       "    <tr>\n",
       "      <th>13</th>\n",
       "      <td>Wednesday</td>\n",
       "      <td>TV Show</td>\n",
       "      <td>382</td>\n",
       "    </tr>\n",
       "  </tbody>\n",
       "</table>\n",
       "</div>"
      ],
      "text/plain": [
       "    day_added     type  release_Day\n",
       "0      Friday    Movie         1565\n",
       "1      Friday  TV Show          932\n",
       "2      Monday    Movie          627\n",
       "3      Monday  TV Show          223\n",
       "4    Saturday    Movie          557\n",
       "5    Saturday  TV Show          259\n",
       "6      Sunday    Movie          569\n",
       "7      Sunday  TV Show          182\n",
       "8    Thursday    Movie         1052\n",
       "9    Thursday  TV Show          341\n",
       "10    Tuesday    Movie          851\n",
       "11    Tuesday  TV Show          345\n",
       "12  Wednesday    Movie          905\n",
       "13  Wednesday  TV Show          382"
      ]
     },
     "execution_count": 25,
     "metadata": {},
     "output_type": "execute_result"
    }
   ],
   "source": [
    "#grouped by day_added and type\n",
    "release_Day= netflix.groupby(['day_added','type'])[ 'type'].count().reset_index(name='release_Day')\n",
    "release_Day"
   ]
  },
  {
   "cell_type": "code",
   "execution_count": 26,
   "id": "f9234864",
   "metadata": {
    "execution": {
     "iopub.execute_input": "2023-11-02T16:26:53.606670Z",
     "iopub.status.busy": "2023-11-02T16:26:53.605293Z",
     "iopub.status.idle": "2023-11-02T16:26:54.010294Z",
     "shell.execute_reply": "2023-11-02T16:26:54.008964Z"
    },
    "papermill": {
     "duration": 0.427049,
     "end_time": "2023-11-02T16:26:54.013954",
     "exception": false,
     "start_time": "2023-11-02T16:26:53.586905",
     "status": "completed"
    },
    "tags": []
   },
   "outputs": [
    {
     "data": {
      "image/png": "[encoded data removed]",
      "text/plain": [
       "<Figure size 720x1296 with 1 Axes>"
      ]
     },
     "metadata": {},
     "output_type": "display_data"
    }
   ],
   "source": [
    "sns.barplot(x =release_Day.reset_index()['day_added'], y= release_Day.reset_index()['release_Day'],\n",
    "            hue =  release_Day.reset_index()['type']);\n",
    "plt.title('release_day' , fontsize=16)\n",
    "plt.xlabel('day_of_week', fontsize=16);\n",
    "plt.ylabel('show_count', fontsize=16);\n",
    "sns.set(rc = {'figure.figsize':(10,20)})"
   ]
  },
  {
   "cell_type": "markdown",
   "id": "072de6ea",
   "metadata": {
    "papermill": {
     "duration": 0.017535,
     "end_time": "2023-11-02T16:26:54.049887",
     "exception": false,
     "start_time": "2023-11-02T16:26:54.032352",
     "status": "completed"
    },
    "tags": []
   },
   "source": [
    "# **KEY FINDINGS**"
   ]
  },
  {
   "cell_type": "markdown",
   "id": "57ce4c6a",
   "metadata": {
    "papermill": {
     "duration": 0.017262,
     "end_time": "2023-11-02T16:26:54.084902",
     "exception": false,
     "start_time": "2023-11-02T16:26:54.067640",
     "status": "completed"
    },
    "tags": []
   },
   "source": [
    "* **A pie chart comparing Netflix movie uploads to TV show uploads from 2008 to 2021 reveals a 39.4% increase in movie uploads.**\n",
    "\n",
    "\n",
    "* **Netflix has the most movies and TV episodes from the United States, followed by India in second place and the United Kingdom in third place.**\n",
    "\n",
    "* **Netflix has the most titles in the \"Dramas, International Movies\" genre, followed by Documentaries in second place and Stand-Up Comedy in third, according to the overall top 10 genre of Movies.**\n",
    "\n",
    "* **In Netflix has majority of TV programmes are intended for kids tv, followed by International TV Shows, TV Dramas in second place and Crime TV Shows, International TV Shows, TV Dramas in third, according to the overall top 10 genre of TV Shows.**\n",
    "\n",
    "* **In the overall rating distribution, we can see that most of content are rated TV-MA, indicating that the majority of the shows are for mature audiences, with TV-14 ratings coming in second. Parental Guidelines denotes content, and R rating at the third R classification denotes that the film is not suitable for minors to watch due to violence, offensive language, or sexual activity.**\n",
    "\n",
    "* **The type wise rating distribution reveals that most of movie content are rated TV-MA, followed by TV-14 rating and the third most movie content are rated R.In TV Shows most of the content are rated TV-MA, followed by TV-14 rating and TV-PG, which denotes under parental guidance**\n",
    "\n",
    "* **In the release per year linechart, we can observe that Netflix began to add shows in large quantities from 2014.**\n",
    "\n",
    "* **The release month barchart indicates that Netflix routinely releases new shows throughout the year.**\n",
    "\n",
    "* **The majority of the shows on Netflix are released on Friday, as can be seen in the release day barchart.**"
   ]
  },
  {
   "cell_type": "markdown",
   "id": "83956c15",
   "metadata": {
    "papermill": {
     "duration": 0.017107,
     "end_time": "2023-11-02T16:26:54.119724",
     "exception": false,
     "start_time": "2023-11-02T16:26:54.102617",
     "status": "completed"
    },
    "tags": []
   },
   "source": []
  }
 ],
 "metadata": {
  "kernelspec": {
   "display_name": "Python 3",
   "language": "python",
   "name": "python3"
  },
  "language_info": {
   "codemirror_mode": {
    "name": "ipython",
    "version": 3
   },
   "file_extension": ".py",
   "mimetype": "text/x-python",
   "name": "python",
   "nbconvert_exporter": "python",
   "pygments_lexer": "ipython3",
   "version": "3.7.12"
  },
  "papermill": {
   "default_parameters": {},
   "duration": 17.260291,
   "end_time": "2023-11-02T16:26:55.163199",
   "environment_variables": {},
   "exception": null,
   "input_path": "__notebook__.ipynb",
   "output_path": "__notebook__.ipynb",
   "parameters": {},
   "start_time": "2023-11-02T16:26:37.902908",
   "version": "2.3.4"
  }
 },
 "nbformat": 4,
 "nbformat_minor": 5
}
